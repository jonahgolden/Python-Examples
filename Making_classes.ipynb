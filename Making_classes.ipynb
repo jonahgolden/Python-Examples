{
 "cells": [
  {
   "cell_type": "markdown",
   "metadata": {},
   "source": [
    "## Understanding self and init through examples\n",
    "\n",
    "**Class** - a blue print for individual objects with exact behaviour\n",
    "\n",
    "**Object** - one instance of the class, which can perform functionalities (defined in the class)\n",
    "\n",
    "**Self** - represents the instance of the class. allows us to access the _attributes_ and _methods_ of the class\n",
    "\n",
    "**init** - a reserved method that is called when an object is created from the class, it allows the class to initialize its attributes"
   ]
  },
  {
   "cell_type": "code",
   "execution_count": 22,
   "metadata": {},
   "outputs": [],
   "source": [
    "# Creating a car class.\n",
    "# Cars can have attributes like color, model, company.\n",
    "# Cars can have methods like change_gear, start, move.\n",
    "\n",
    "class Car(object):\n",
    "    \n",
    "    def __init__(self, model, color, company, top_speed):\n",
    "        self.model = model\n",
    "        self.color = color\n",
    "        self.company = company\n",
    "        self.top_speed = top_speed\n",
    "        \n",
    "    def start(self):\n",
    "        print(\"started\")\n",
    "        \n",
    "    def stop(self):\n",
    "        print(\"stop\")\n",
    "        \n",
    "    def accelerat(self):\n",
    "        print(\"accelerating...\")\n",
    "        \"accelerator functionality here\"\n",
    "        \n",
    "    def change_gear(self, gear_type):\n",
    "        print(\"gear changed\")\n",
    "        \"gear related functionality here\""
   ]
  },
  {
   "cell_type": "code",
   "execution_count": 26,
   "metadata": {},
   "outputs": [],
   "source": [
    "# Creating some cars\n",
    "\n",
    "ford_taurus = Car(\"taurus\",\"yellow\",\"ford\",80)\n",
    "subaru = Car(\"impreza\",\"black\",\"subaru\",140)"
   ]
  },
  {
   "cell_type": "code",
   "execution_count": 37,
   "metadata": {},
   "outputs": [],
   "source": [
    "# Find out the cost of a rectangular field, given length, width, and unit cost\n",
    "\n",
    "class Rectangle:\n",
    "    def __init__(self, length, width, unit_cost):\n",
    "        self.length = length\n",
    "        self.width = width\n",
    "        self.unit_cost = unit_cost\n",
    "    \n",
    "    def get_perimeter(self):\n",
    "        return 2 * (self.length + self.width)\n",
    "    \n",
    "    def get_area(self):\n",
    "        return self.length * self.width\n",
    "    \n",
    "    def calculate_cost(self):\n",
    "        area = self.get_area()\n",
    "        return area * self.unit_cost\n"
   ]
  },
  {
   "cell_type": "code",
   "execution_count": 38,
   "metadata": {},
   "outputs": [],
   "source": [
    "# width = 120 cm, length = 160 cm, cost = $2 per cm^2\n",
    "r = Rectangle(120,160,2)"
   ]
  },
  {
   "cell_type": "code",
   "execution_count": 39,
   "metadata": {},
   "outputs": [
    {
     "name": "stdout",
     "output_type": "stream",
     "text": [
      "Area of Rectangle: 19200 cm^2\n",
      "cost is: $ 38400\n"
     ]
    }
   ],
   "source": [
    "print(\"Area of Rectangle: %s cm^2\" % (r.get_area()))\n",
    "print(\"cost is: $ %s\" %(r.calculate_cost()))"
   ]
  },
  {
   "cell_type": "code",
   "execution_count": null,
   "metadata": {},
   "outputs": [],
   "source": []
  }
 ],
 "metadata": {
  "kernelspec": {
   "display_name": "Python 3",
   "language": "python",
   "name": "python3"
  },
  "language_info": {
   "codemirror_mode": {
    "name": "ipython",
    "version": 3
   },
   "file_extension": ".py",
   "mimetype": "text/x-python",
   "name": "python",
   "nbconvert_exporter": "python",
   "pygments_lexer": "ipython3",
   "version": "3.5.5"
  }
 },
 "nbformat": 4,
 "nbformat_minor": 2
}

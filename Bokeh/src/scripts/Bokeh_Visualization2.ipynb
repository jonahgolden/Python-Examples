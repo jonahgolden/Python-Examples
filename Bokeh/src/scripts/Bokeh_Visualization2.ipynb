{
 "cells": [
  {
   "cell_type": "markdown",
   "metadata": {},
   "source": [
    "# Starting Out With Bokeh"
   ]
  },
  {
   "cell_type": "markdown",
   "metadata": {},
   "source": [
    "## One Variable Plotting"
   ]
  },
  {
   "cell_type": "code",
   "execution_count": 3,
   "metadata": {},
   "outputs": [],
   "source": [
    "# Pandas for data manipulation,\n",
    "import pandas as pd\n",
    "import numpy as np"
   ]
  },
  {
   "cell_type": "markdown",
   "metadata": {},
   "source": [
    "## Basic Glyphs"
   ]
  },
  {
   "cell_type": "code",
   "execution_count": 4,
   "metadata": {},
   "outputs": [
    {
     "data": {
      "text/html": [
       "\n",
       "    <div class=\"bk-root\">\n",
       "        <a href=\"https://bokeh.pydata.org\" target=\"_blank\" class=\"bk-logo bk-logo-small bk-logo-notebook\"></a>\n",
       "        <span id=\"c4aaaf4c-09ea-40a9-8869-83268a156d1a\">Loading BokehJS ...</span>\n",
       "    </div>"
      ]
     },
     "metadata": {},
     "output_type": "display_data"
    },
    {
     "data": {
      "application/javascript": [
       "\n",
       "(function(root) {\n",
       "  function now() {\n",
       "    return new Date();\n",
       "  }\n",
       "\n",
       "  var force = true;\n",
       "\n",
       "  if (typeof (root._bokeh_onload_callbacks) === \"undefined\" || force === true) {\n",
       "    root._bokeh_onload_callbacks = [];\n",
       "    root._bokeh_is_loading = undefined;\n",
       "  }\n",
       "\n",
       "  var JS_MIME_TYPE = 'application/javascript';\n",
       "  var HTML_MIME_TYPE = 'text/html';\n",
       "  var EXEC_MIME_TYPE = 'application/vnd.bokehjs_exec.v0+json';\n",
       "  var CLASS_NAME = 'output_bokeh rendered_html';\n",
       "\n",
       "  /**\n",
       "   * Render data to the DOM node\n",
       "   */\n",
       "  function render(props, node) {\n",
       "    var script = document.createElement(\"script\");\n",
       "    node.appendChild(script);\n",
       "  }\n",
       "\n",
       "  /**\n",
       "   * Handle when an output is cleared or removed\n",
       "   */\n",
       "  function handleClearOutput(event, handle) {\n",
       "    var cell = handle.cell;\n",
       "\n",
       "    var id = cell.output_area._bokeh_element_id;\n",
       "    var server_id = cell.output_area._bokeh_server_id;\n",
       "    // Clean up Bokeh references\n",
       "    if (id != null && id in Bokeh.index) {\n",
       "      Bokeh.index[id].model.document.clear();\n",
       "      delete Bokeh.index[id];\n",
       "    }\n",
       "\n",
       "    if (server_id !== undefined) {\n",
       "      // Clean up Bokeh references\n",
       "      var cmd = \"from bokeh.io.state import curstate; print(curstate().uuid_to_server['\" + server_id + \"'].get_sessions()[0].document.roots[0]._id)\";\n",
       "      cell.notebook.kernel.execute(cmd, {\n",
       "        iopub: {\n",
       "          output: function(msg) {\n",
       "            var id = msg.content.text.trim();\n",
       "            if (id in Bokeh.index) {\n",
       "              Bokeh.index[id].model.document.clear();\n",
       "              delete Bokeh.index[id];\n",
       "            }\n",
       "          }\n",
       "        }\n",
       "      });\n",
       "      // Destroy server and session\n",
       "      var cmd = \"import bokeh.io.notebook as ion; ion.destroy_server('\" + server_id + \"')\";\n",
       "      cell.notebook.kernel.execute(cmd);\n",
       "    }\n",
       "  }\n",
       "\n",
       "  /**\n",
       "   * Handle when a new output is added\n",
       "   */\n",
       "  function handleAddOutput(event, handle) {\n",
       "    var output_area = handle.output_area;\n",
       "    var output = handle.output;\n",
       "\n",
       "    // limit handleAddOutput to display_data with EXEC_MIME_TYPE content only\n",
       "    if ((output.output_type != \"display_data\") || (!output.data.hasOwnProperty(EXEC_MIME_TYPE))) {\n",
       "      return\n",
       "    }\n",
       "\n",
       "    var toinsert = output_area.element.find(\".\" + CLASS_NAME.split(' ')[0]);\n",
       "\n",
       "    if (output.metadata[EXEC_MIME_TYPE][\"id\"] !== undefined) {\n",
       "      toinsert[toinsert.length - 1].firstChild.textContent = output.data[JS_MIME_TYPE];\n",
       "      // store reference to embed id on output_area\n",
       "      output_area._bokeh_element_id = output.metadata[EXEC_MIME_TYPE][\"id\"];\n",
       "    }\n",
       "    if (output.metadata[EXEC_MIME_TYPE][\"server_id\"] !== undefined) {\n",
       "      var bk_div = document.createElement(\"div\");\n",
       "      bk_div.innerHTML = output.data[HTML_MIME_TYPE];\n",
       "      var script_attrs = bk_div.children[0].attributes;\n",
       "      for (var i = 0; i < script_attrs.length; i++) {\n",
       "        toinsert[toinsert.length - 1].firstChild.setAttribute(script_attrs[i].name, script_attrs[i].value);\n",
       "      }\n",
       "      // store reference to server id on output_area\n",
       "      output_area._bokeh_server_id = output.metadata[EXEC_MIME_TYPE][\"server_id\"];\n",
       "    }\n",
       "  }\n",
       "\n",
       "  function register_renderer(events, OutputArea) {\n",
       "\n",
       "    function append_mime(data, metadata, element) {\n",
       "      // create a DOM node to render to\n",
       "      var toinsert = this.create_output_subarea(\n",
       "        metadata,\n",
       "        CLASS_NAME,\n",
       "        EXEC_MIME_TYPE\n",
       "      );\n",
       "      this.keyboard_manager.register_events(toinsert);\n",
       "      // Render to node\n",
       "      var props = {data: data, metadata: metadata[EXEC_MIME_TYPE]};\n",
       "      render(props, toinsert[toinsert.length - 1]);\n",
       "      element.append(toinsert);\n",
       "      return toinsert\n",
       "    }\n",
       "\n",
       "    /* Handle when an output is cleared or removed */\n",
       "    events.on('clear_output.CodeCell', handleClearOutput);\n",
       "    events.on('delete.Cell', handleClearOutput);\n",
       "\n",
       "    /* Handle when a new output is added */\n",
       "    events.on('output_added.OutputArea', handleAddOutput);\n",
       "\n",
       "    /**\n",
       "     * Register the mime type and append_mime function with output_area\n",
       "     */\n",
       "    OutputArea.prototype.register_mime_type(EXEC_MIME_TYPE, append_mime, {\n",
       "      /* Is output safe? */\n",
       "      safe: true,\n",
       "      /* Index of renderer in `output_area.display_order` */\n",
       "      index: 0\n",
       "    });\n",
       "  }\n",
       "\n",
       "  // register the mime type if in Jupyter Notebook environment and previously unregistered\n",
       "  if (root.Jupyter !== undefined) {\n",
       "    var events = require('base/js/events');\n",
       "    var OutputArea = require('notebook/js/outputarea').OutputArea;\n",
       "\n",
       "    if (OutputArea.prototype.mime_types().indexOf(EXEC_MIME_TYPE) == -1) {\n",
       "      register_renderer(events, OutputArea);\n",
       "    }\n",
       "  }\n",
       "\n",
       "  \n",
       "  if (typeof (root._bokeh_timeout) === \"undefined\" || force === true) {\n",
       "    root._bokeh_timeout = Date.now() + 5000;\n",
       "    root._bokeh_failed_load = false;\n",
       "  }\n",
       "\n",
       "  var NB_LOAD_WARNING = {'data': {'text/html':\n",
       "     \"<div style='background-color: #fdd'>\\n\"+\n",
       "     \"<p>\\n\"+\n",
       "     \"BokehJS does not appear to have successfully loaded. If loading BokehJS from CDN, this \\n\"+\n",
       "     \"may be due to a slow or bad network connection. Possible fixes:\\n\"+\n",
       "     \"</p>\\n\"+\n",
       "     \"<ul>\\n\"+\n",
       "     \"<li>re-rerun `output_notebook()` to attempt to load from CDN again, or</li>\\n\"+\n",
       "     \"<li>use INLINE resources instead, as so:</li>\\n\"+\n",
       "     \"</ul>\\n\"+\n",
       "     \"<code>\\n\"+\n",
       "     \"from bokeh.resources import INLINE\\n\"+\n",
       "     \"output_notebook(resources=INLINE)\\n\"+\n",
       "     \"</code>\\n\"+\n",
       "     \"</div>\"}};\n",
       "\n",
       "  function display_loaded() {\n",
       "    var el = document.getElementById(\"c4aaaf4c-09ea-40a9-8869-83268a156d1a\");\n",
       "    if (el != null) {\n",
       "      el.textContent = \"BokehJS is loading...\";\n",
       "    }\n",
       "    if (root.Bokeh !== undefined) {\n",
       "      if (el != null) {\n",
       "        el.textContent = \"BokehJS \" + root.Bokeh.version + \" successfully loaded.\";\n",
       "      }\n",
       "    } else if (Date.now() < root._bokeh_timeout) {\n",
       "      setTimeout(display_loaded, 100)\n",
       "    }\n",
       "  }\n",
       "\n",
       "\n",
       "  function run_callbacks() {\n",
       "    try {\n",
       "      root._bokeh_onload_callbacks.forEach(function(callback) { callback() });\n",
       "    }\n",
       "    finally {\n",
       "      delete root._bokeh_onload_callbacks\n",
       "    }\n",
       "    console.info(\"Bokeh: all callbacks have finished\");\n",
       "  }\n",
       "\n",
       "  function load_libs(js_urls, callback) {\n",
       "    root._bokeh_onload_callbacks.push(callback);\n",
       "    if (root._bokeh_is_loading > 0) {\n",
       "      console.log(\"Bokeh: BokehJS is being loaded, scheduling callback at\", now());\n",
       "      return null;\n",
       "    }\n",
       "    if (js_urls == null || js_urls.length === 0) {\n",
       "      run_callbacks();\n",
       "      return null;\n",
       "    }\n",
       "    console.log(\"Bokeh: BokehJS not loaded, scheduling load and callback at\", now());\n",
       "    root._bokeh_is_loading = js_urls.length;\n",
       "    for (var i = 0; i < js_urls.length; i++) {\n",
       "      var url = js_urls[i];\n",
       "      var s = document.createElement('script');\n",
       "      s.src = url;\n",
       "      s.async = false;\n",
       "      s.onreadystatechange = s.onload = function() {\n",
       "        root._bokeh_is_loading--;\n",
       "        if (root._bokeh_is_loading === 0) {\n",
       "          console.log(\"Bokeh: all BokehJS libraries loaded\");\n",
       "          run_callbacks()\n",
       "        }\n",
       "      };\n",
       "      s.onerror = function() {\n",
       "        console.warn(\"failed to load library \" + url);\n",
       "      };\n",
       "      console.log(\"Bokeh: injecting script tag for BokehJS library: \", url);\n",
       "      document.getElementsByTagName(\"head\")[0].appendChild(s);\n",
       "    }\n",
       "  };var element = document.getElementById(\"c4aaaf4c-09ea-40a9-8869-83268a156d1a\");\n",
       "  if (element == null) {\n",
       "    console.log(\"Bokeh: ERROR: autoload.js configured with elementid 'c4aaaf4c-09ea-40a9-8869-83268a156d1a' but no matching script tag was found. \")\n",
       "    return false;\n",
       "  }\n",
       "\n",
       "  var js_urls = [\"https://cdn.pydata.org/bokeh/release/bokeh-0.13.0.min.js\", \"https://cdn.pydata.org/bokeh/release/bokeh-widgets-0.13.0.min.js\", \"https://cdn.pydata.org/bokeh/release/bokeh-tables-0.13.0.min.js\", \"https://cdn.pydata.org/bokeh/release/bokeh-gl-0.13.0.min.js\"];\n",
       "\n",
       "  var inline_js = [\n",
       "    function(Bokeh) {\n",
       "      Bokeh.set_log_level(\"info\");\n",
       "    },\n",
       "    \n",
       "    function(Bokeh) {\n",
       "      \n",
       "    },\n",
       "    function(Bokeh) {\n",
       "      console.log(\"Bokeh: injecting CSS: https://cdn.pydata.org/bokeh/release/bokeh-0.13.0.min.css\");\n",
       "      Bokeh.embed.inject_css(\"https://cdn.pydata.org/bokeh/release/bokeh-0.13.0.min.css\");\n",
       "      console.log(\"Bokeh: injecting CSS: https://cdn.pydata.org/bokeh/release/bokeh-widgets-0.13.0.min.css\");\n",
       "      Bokeh.embed.inject_css(\"https://cdn.pydata.org/bokeh/release/bokeh-widgets-0.13.0.min.css\");\n",
       "      console.log(\"Bokeh: injecting CSS: https://cdn.pydata.org/bokeh/release/bokeh-tables-0.13.0.min.css\");\n",
       "      Bokeh.embed.inject_css(\"https://cdn.pydata.org/bokeh/release/bokeh-tables-0.13.0.min.css\");\n",
       "    }\n",
       "  ];\n",
       "\n",
       "  function run_inline_js() {\n",
       "    \n",
       "    if ((root.Bokeh !== undefined) || (force === true)) {\n",
       "      for (var i = 0; i < inline_js.length; i++) {\n",
       "        inline_js[i].call(root, root.Bokeh);\n",
       "      }if (force === true) {\n",
       "        display_loaded();\n",
       "      }} else if (Date.now() < root._bokeh_timeout) {\n",
       "      setTimeout(run_inline_js, 100);\n",
       "    } else if (!root._bokeh_failed_load) {\n",
       "      console.log(\"Bokeh: BokehJS failed to load within specified timeout.\");\n",
       "      root._bokeh_failed_load = true;\n",
       "    } else if (force !== true) {\n",
       "      var cell = $(document.getElementById(\"c4aaaf4c-09ea-40a9-8869-83268a156d1a\")).parents('.cell').data().cell;\n",
       "      cell.output_area.append_execute_result(NB_LOAD_WARNING)\n",
       "    }\n",
       "\n",
       "  }\n",
       "\n",
       "  if (root._bokeh_is_loading === 0) {\n",
       "    console.log(\"Bokeh: BokehJS loaded, going straight to plotting\");\n",
       "    run_inline_js();\n",
       "  } else {\n",
       "    load_libs(js_urls, function() {\n",
       "      console.log(\"Bokeh: BokehJS plotting callback run at\", now());\n",
       "      run_inline_js();\n",
       "    });\n",
       "  }\n",
       "}(window));"
      ],
      "application/vnd.bokehjs_load.v0+json": "\n(function(root) {\n  function now() {\n    return new Date();\n  }\n\n  var force = true;\n\n  if (typeof (root._bokeh_onload_callbacks) === \"undefined\" || force === true) {\n    root._bokeh_onload_callbacks = [];\n    root._bokeh_is_loading = undefined;\n  }\n\n  \n\n  \n  if (typeof (root._bokeh_timeout) === \"undefined\" || force === true) {\n    root._bokeh_timeout = Date.now() + 5000;\n    root._bokeh_failed_load = false;\n  }\n\n  var NB_LOAD_WARNING = {'data': {'text/html':\n     \"<div style='background-color: #fdd'>\\n\"+\n     \"<p>\\n\"+\n     \"BokehJS does not appear to have successfully loaded. If loading BokehJS from CDN, this \\n\"+\n     \"may be due to a slow or bad network connection. Possible fixes:\\n\"+\n     \"</p>\\n\"+\n     \"<ul>\\n\"+\n     \"<li>re-rerun `output_notebook()` to attempt to load from CDN again, or</li>\\n\"+\n     \"<li>use INLINE resources instead, as so:</li>\\n\"+\n     \"</ul>\\n\"+\n     \"<code>\\n\"+\n     \"from bokeh.resources import INLINE\\n\"+\n     \"output_notebook(resources=INLINE)\\n\"+\n     \"</code>\\n\"+\n     \"</div>\"}};\n\n  function display_loaded() {\n    var el = document.getElementById(\"c4aaaf4c-09ea-40a9-8869-83268a156d1a\");\n    if (el != null) {\n      el.textContent = \"BokehJS is loading...\";\n    }\n    if (root.Bokeh !== undefined) {\n      if (el != null) {\n        el.textContent = \"BokehJS \" + root.Bokeh.version + \" successfully loaded.\";\n      }\n    } else if (Date.now() < root._bokeh_timeout) {\n      setTimeout(display_loaded, 100)\n    }\n  }\n\n\n  function run_callbacks() {\n    try {\n      root._bokeh_onload_callbacks.forEach(function(callback) { callback() });\n    }\n    finally {\n      delete root._bokeh_onload_callbacks\n    }\n    console.info(\"Bokeh: all callbacks have finished\");\n  }\n\n  function load_libs(js_urls, callback) {\n    root._bokeh_onload_callbacks.push(callback);\n    if (root._bokeh_is_loading > 0) {\n      console.log(\"Bokeh: BokehJS is being loaded, scheduling callback at\", now());\n      return null;\n    }\n    if (js_urls == null || js_urls.length === 0) {\n      run_callbacks();\n      return null;\n    }\n    console.log(\"Bokeh: BokehJS not loaded, scheduling load and callback at\", now());\n    root._bokeh_is_loading = js_urls.length;\n    for (var i = 0; i < js_urls.length; i++) {\n      var url = js_urls[i];\n      var s = document.createElement('script');\n      s.src = url;\n      s.async = false;\n      s.onreadystatechange = s.onload = function() {\n        root._bokeh_is_loading--;\n        if (root._bokeh_is_loading === 0) {\n          console.log(\"Bokeh: all BokehJS libraries loaded\");\n          run_callbacks()\n        }\n      };\n      s.onerror = function() {\n        console.warn(\"failed to load library \" + url);\n      };\n      console.log(\"Bokeh: injecting script tag for BokehJS library: \", url);\n      document.getElementsByTagName(\"head\")[0].appendChild(s);\n    }\n  };var element = document.getElementById(\"c4aaaf4c-09ea-40a9-8869-83268a156d1a\");\n  if (element == null) {\n    console.log(\"Bokeh: ERROR: autoload.js configured with elementid 'c4aaaf4c-09ea-40a9-8869-83268a156d1a' but no matching script tag was found. \")\n    return false;\n  }\n\n  var js_urls = [\"https://cdn.pydata.org/bokeh/release/bokeh-0.13.0.min.js\", \"https://cdn.pydata.org/bokeh/release/bokeh-widgets-0.13.0.min.js\", \"https://cdn.pydata.org/bokeh/release/bokeh-tables-0.13.0.min.js\", \"https://cdn.pydata.org/bokeh/release/bokeh-gl-0.13.0.min.js\"];\n\n  var inline_js = [\n    function(Bokeh) {\n      Bokeh.set_log_level(\"info\");\n    },\n    \n    function(Bokeh) {\n      \n    },\n    function(Bokeh) {\n      console.log(\"Bokeh: injecting CSS: https://cdn.pydata.org/bokeh/release/bokeh-0.13.0.min.css\");\n      Bokeh.embed.inject_css(\"https://cdn.pydata.org/bokeh/release/bokeh-0.13.0.min.css\");\n      console.log(\"Bokeh: injecting CSS: https://cdn.pydata.org/bokeh/release/bokeh-widgets-0.13.0.min.css\");\n      Bokeh.embed.inject_css(\"https://cdn.pydata.org/bokeh/release/bokeh-widgets-0.13.0.min.css\");\n      console.log(\"Bokeh: injecting CSS: https://cdn.pydata.org/bokeh/release/bokeh-tables-0.13.0.min.css\");\n      Bokeh.embed.inject_css(\"https://cdn.pydata.org/bokeh/release/bokeh-tables-0.13.0.min.css\");\n    }\n  ];\n\n  function run_inline_js() {\n    \n    if ((root.Bokeh !== undefined) || (force === true)) {\n      for (var i = 0; i < inline_js.length; i++) {\n        inline_js[i].call(root, root.Bokeh);\n      }if (force === true) {\n        display_loaded();\n      }} else if (Date.now() < root._bokeh_timeout) {\n      setTimeout(run_inline_js, 100);\n    } else if (!root._bokeh_failed_load) {\n      console.log(\"Bokeh: BokehJS failed to load within specified timeout.\");\n      root._bokeh_failed_load = true;\n    } else if (force !== true) {\n      var cell = $(document.getElementById(\"c4aaaf4c-09ea-40a9-8869-83268a156d1a\")).parents('.cell').data().cell;\n      cell.output_area.append_execute_result(NB_LOAD_WARNING)\n    }\n\n  }\n\n  if (root._bokeh_is_loading === 0) {\n    console.log(\"Bokeh: BokehJS loaded, going straight to plotting\");\n    run_inline_js();\n  } else {\n    load_libs(js_urls, function() {\n      console.log(\"Bokeh: BokehJS plotting callback run at\", now());\n      run_inline_js();\n    });\n  }\n}(window));"
     },
     "metadata": {},
     "output_type": "display_data"
    },
    {
     "data": {
      "text/html": [
       "\n",
       "\n",
       "\n",
       "\n",
       "\n",
       "\n",
       "  <div class=\"bk-root\" id=\"01bd7859-a635-4668-a655-7dd7529b63e3\"></div>\n"
      ]
     },
     "metadata": {},
     "output_type": "display_data"
    },
    {
     "data": {
      "application/javascript": [
       "(function(root) {\n",
       "  function embed_document(root) {\n",
       "    \n",
       "  var docs_json = {\"375c4b24-4490-4b68-ad00-b891b8e2a757\":{\"roots\":{\"references\":[{\"attributes\":{},\"id\":\"3f75b5c5-4f84-4744-9345-70ffbdade361\",\"type\":\"SaveTool\"},{\"attributes\":{\"fill_color\":{\"value\":\"red\"},\"line_color\":{\"value\":\"red\"},\"size\":{\"units\":\"screen\",\"value\":12},\"x\":{\"field\":\"x\"},\"y\":{\"field\":\"y\"}},\"id\":\"5655ab7f-b1c9-4737-b534-a342d916cf63\",\"type\":\"Circle\"},{\"attributes\":{},\"id\":\"669d1f29-7d00-435d-849c-8b02eb9ce75a\",\"type\":\"PanTool\"},{\"attributes\":{},\"id\":\"f7c1e2f7-00fb-4033-9bdb-b631d285915a\",\"type\":\"UnionRenderers\"},{\"attributes\":{\"active_drag\":\"auto\",\"active_inspect\":\"auto\",\"active_multi\":null,\"active_scroll\":\"auto\",\"active_tap\":\"auto\",\"tools\":[{\"id\":\"669d1f29-7d00-435d-849c-8b02eb9ce75a\",\"type\":\"PanTool\"},{\"id\":\"10d20c35-c3b3-4963-9c55-ae3fc0b1cb8a\",\"type\":\"WheelZoomTool\"},{\"id\":\"bb428a74-5428-40a5-840f-fac037b229b6\",\"type\":\"BoxZoomTool\"},{\"id\":\"3f75b5c5-4f84-4744-9345-70ffbdade361\",\"type\":\"SaveTool\"},{\"id\":\"a565b5b0-5f21-44da-be3b-9bcf1a438aba\",\"type\":\"ResetTool\"},{\"id\":\"848f7587-bcc2-45f9-be84-cc17c60a83bc\",\"type\":\"HelpTool\"}]},\"id\":\"3495948f-69ab-4330-9a14-be6162af0e5e\",\"type\":\"Toolbar\"},{\"attributes\":{},\"id\":\"4df68907-fdf5-4cc0-bb1e-0b0a29c01702\",\"type\":\"LinearScale\"},{\"attributes\":{\"callback\":null},\"id\":\"a2e9641c-c17b-4c76-869a-4578089a5408\",\"type\":\"DataRange1d\"},{\"attributes\":{\"plot\":{\"id\":\"07f90941-8eee-4316-8d3c-1c183361c191\",\"subtype\":\"Figure\",\"type\":\"Plot\"},\"ticker\":{\"id\":\"c2341ae8-23b5-479b-9272-ed1b471828d4\",\"type\":\"BasicTicker\"}},\"id\":\"56d1fb99-8504-470f-87f5-a0567c22a1df\",\"type\":\"Grid\"},{\"attributes\":{},\"id\":\"b56c33be-21c2-4e2a-9e25-9724c0e9aa5d\",\"type\":\"BasicTickFormatter\"},{\"attributes\":{\"overlay\":{\"id\":\"dc5a3794-dd62-41a0-9bc3-f3ddfb1a7403\",\"type\":\"BoxAnnotation\"}},\"id\":\"bb428a74-5428-40a5-840f-fac037b229b6\",\"type\":\"BoxZoomTool\"},{\"attributes\":{\"below\":[{\"id\":\"8c9cdcc8-5e06-4fc7-bdde-5c82ac312d45\",\"type\":\"LinearAxis\"}],\"left\":[{\"id\":\"8fdb27a9-f353-488a-b07b-8e51294fa9da\",\"type\":\"LinearAxis\"}],\"renderers\":[{\"id\":\"8c9cdcc8-5e06-4fc7-bdde-5c82ac312d45\",\"type\":\"LinearAxis\"},{\"id\":\"56d1fb99-8504-470f-87f5-a0567c22a1df\",\"type\":\"Grid\"},{\"id\":\"8fdb27a9-f353-488a-b07b-8e51294fa9da\",\"type\":\"LinearAxis\"},{\"id\":\"ddae4e9e-ec24-4e9f-850b-7f0dd8744e46\",\"type\":\"Grid\"},{\"id\":\"dc5a3794-dd62-41a0-9bc3-f3ddfb1a7403\",\"type\":\"BoxAnnotation\"},{\"id\":\"100acc1b-cc4f-4f42-9719-9039022a4e46\",\"type\":\"GlyphRenderer\"},{\"id\":\"ec05ef3b-ddbb-4f08-9a21-ef74e10ea579\",\"type\":\"GlyphRenderer\"}],\"title\":{\"id\":\"b680f228-7a13-433d-bd99-aca12aa05e11\",\"type\":\"Title\"},\"toolbar\":{\"id\":\"3495948f-69ab-4330-9a14-be6162af0e5e\",\"type\":\"Toolbar\"},\"x_range\":{\"id\":\"6df0a183-5cb8-4571-885f-b78c0b032d86\",\"type\":\"DataRange1d\"},\"x_scale\":{\"id\":\"4df68907-fdf5-4cc0-bb1e-0b0a29c01702\",\"type\":\"LinearScale\"},\"y_range\":{\"id\":\"a2e9641c-c17b-4c76-869a-4578089a5408\",\"type\":\"DataRange1d\"},\"y_scale\":{\"id\":\"249f79f0-9f21-4663-afef-9a47d0226d2b\",\"type\":\"LinearScale\"}},\"id\":\"07f90941-8eee-4316-8d3c-1c183361c191\",\"subtype\":\"Figure\",\"type\":\"Plot\"},{\"attributes\":{},\"id\":\"848f7587-bcc2-45f9-be84-cc17c60a83bc\",\"type\":\"HelpTool\"},{\"attributes\":{},\"id\":\"a252faba-1d76-49e1-8218-e54890b84b12\",\"type\":\"Selection\"},{\"attributes\":{},\"id\":\"3b4ae9a3-8594-4f08-8eff-c5e03a2d1b01\",\"type\":\"BasicTickFormatter\"},{\"attributes\":{},\"id\":\"c2341ae8-23b5-479b-9272-ed1b471828d4\",\"type\":\"BasicTicker\"},{\"attributes\":{\"axis_label\":\"Y\",\"formatter\":{\"id\":\"b56c33be-21c2-4e2a-9e25-9724c0e9aa5d\",\"type\":\"BasicTickFormatter\"},\"plot\":{\"id\":\"07f90941-8eee-4316-8d3c-1c183361c191\",\"subtype\":\"Figure\",\"type\":\"Plot\"},\"ticker\":{\"id\":\"791b4db7-cd91-43f4-b3e0-e5af1179b1d1\",\"type\":\"BasicTicker\"}},\"id\":\"8fdb27a9-f353-488a-b07b-8e51294fa9da\",\"type\":\"LinearAxis\"},{\"attributes\":{},\"id\":\"249f79f0-9f21-4663-afef-9a47d0226d2b\",\"type\":\"LinearScale\"},{\"attributes\":{\"callback\":null,\"data\":{\"x\":[9,12,4,3,15],\"y\":[8,4,11,6,10]},\"selected\":{\"id\":\"9da14b31-f19b-4ef0-9a89-a5353a031e5f\",\"type\":\"Selection\"},\"selection_policy\":{\"id\":\"f7c1e2f7-00fb-4033-9bdb-b631d285915a\",\"type\":\"UnionRenderers\"}},\"id\":\"aa48f246-72df-40c0-9db7-784684e0ec1a\",\"type\":\"ColumnDataSource\"},{\"attributes\":{\"plot\":null,\"text\":\"Example Glyphs\"},\"id\":\"b680f228-7a13-433d-bd99-aca12aa05e11\",\"type\":\"Title\"},{\"attributes\":{\"fill_alpha\":{\"value\":0.1},\"fill_color\":{\"value\":\"#1f77b4\"},\"line_alpha\":{\"value\":0.1},\"line_color\":{\"value\":\"#1f77b4\"},\"size\":{\"units\":\"screen\",\"value\":12},\"x\":{\"field\":\"x\"},\"y\":{\"field\":\"y\"}},\"id\":\"a562a131-75f9-4c14-8f9b-9a0b60d1c1e2\",\"type\":\"Circle\"},{\"attributes\":{\"fill_alpha\":{\"value\":0.1},\"fill_color\":{\"value\":\"#1f77b4\"},\"line_alpha\":{\"value\":0.1},\"line_color\":{\"value\":\"#1f77b4\"},\"size\":{\"units\":\"screen\",\"value\":12},\"x\":{\"field\":\"x\"},\"y\":{\"field\":\"y\"}},\"id\":\"e353d1bc-43d0-4f34-b1c6-4c501202a125\",\"type\":\"Square\"},{\"attributes\":{\"bottom_units\":\"screen\",\"fill_alpha\":{\"value\":0.5},\"fill_color\":{\"value\":\"lightgrey\"},\"left_units\":\"screen\",\"level\":\"overlay\",\"line_alpha\":{\"value\":1.0},\"line_color\":{\"value\":\"black\"},\"line_dash\":[4,4],\"line_width\":{\"value\":2},\"plot\":null,\"render_mode\":\"css\",\"right_units\":\"screen\",\"top_units\":\"screen\"},\"id\":\"dc5a3794-dd62-41a0-9bc3-f3ddfb1a7403\",\"type\":\"BoxAnnotation\"},{\"attributes\":{},\"id\":\"9da14b31-f19b-4ef0-9a89-a5353a031e5f\",\"type\":\"Selection\"},{\"attributes\":{\"callback\":null},\"id\":\"6df0a183-5cb8-4571-885f-b78c0b032d86\",\"type\":\"DataRange1d\"},{\"attributes\":{\"callback\":null,\"data\":{\"x\":[1,3,4,5,8],\"y\":[8,7,3,1,10]},\"selected\":{\"id\":\"a252faba-1d76-49e1-8218-e54890b84b12\",\"type\":\"Selection\"},\"selection_policy\":{\"id\":\"cc9ec978-0551-4582-857c-c279e6e83df4\",\"type\":\"UnionRenderers\"}},\"id\":\"28758a1f-6ce2-4bed-a686-ee051da9ca90\",\"type\":\"ColumnDataSource\"},{\"attributes\":{},\"id\":\"791b4db7-cd91-43f4-b3e0-e5af1179b1d1\",\"type\":\"BasicTicker\"},{\"attributes\":{},\"id\":\"a565b5b0-5f21-44da-be3b-9bcf1a438aba\",\"type\":\"ResetTool\"},{\"attributes\":{\"source\":{\"id\":\"aa48f246-72df-40c0-9db7-784684e0ec1a\",\"type\":\"ColumnDataSource\"}},\"id\":\"e11cf4a1-3a5e-4909-8a39-8d91bf7bca23\",\"type\":\"CDSView\"},{\"attributes\":{},\"id\":\"10d20c35-c3b3-4963-9c55-ae3fc0b1cb8a\",\"type\":\"WheelZoomTool\"},{\"attributes\":{\"data_source\":{\"id\":\"28758a1f-6ce2-4bed-a686-ee051da9ca90\",\"type\":\"ColumnDataSource\"},\"glyph\":{\"id\":\"2cb9d7df-fd66-48ff-bd82-d8c934c86909\",\"type\":\"Square\"},\"hover_glyph\":null,\"muted_glyph\":null,\"nonselection_glyph\":{\"id\":\"e353d1bc-43d0-4f34-b1c6-4c501202a125\",\"type\":\"Square\"},\"selection_glyph\":null,\"view\":{\"id\":\"54a01f6f-3638-4912-93f2-709abd60ed83\",\"type\":\"CDSView\"}},\"id\":\"100acc1b-cc4f-4f42-9719-9039022a4e46\",\"type\":\"GlyphRenderer\"},{\"attributes\":{},\"id\":\"cc9ec978-0551-4582-857c-c279e6e83df4\",\"type\":\"UnionRenderers\"},{\"attributes\":{\"data_source\":{\"id\":\"aa48f246-72df-40c0-9db7-784684e0ec1a\",\"type\":\"ColumnDataSource\"},\"glyph\":{\"id\":\"5655ab7f-b1c9-4737-b534-a342d916cf63\",\"type\":\"Circle\"},\"hover_glyph\":null,\"muted_glyph\":null,\"nonselection_glyph\":{\"id\":\"a562a131-75f9-4c14-8f9b-9a0b60d1c1e2\",\"type\":\"Circle\"},\"selection_glyph\":null,\"view\":{\"id\":\"e11cf4a1-3a5e-4909-8a39-8d91bf7bca23\",\"type\":\"CDSView\"}},\"id\":\"ec05ef3b-ddbb-4f08-9a21-ef74e10ea579\",\"type\":\"GlyphRenderer\"},{\"attributes\":{\"source\":{\"id\":\"28758a1f-6ce2-4bed-a686-ee051da9ca90\",\"type\":\"ColumnDataSource\"}},\"id\":\"54a01f6f-3638-4912-93f2-709abd60ed83\",\"type\":\"CDSView\"},{\"attributes\":{\"axis_label\":\"X\",\"formatter\":{\"id\":\"3b4ae9a3-8594-4f08-8eff-c5e03a2d1b01\",\"type\":\"BasicTickFormatter\"},\"plot\":{\"id\":\"07f90941-8eee-4316-8d3c-1c183361c191\",\"subtype\":\"Figure\",\"type\":\"Plot\"},\"ticker\":{\"id\":\"c2341ae8-23b5-479b-9272-ed1b471828d4\",\"type\":\"BasicTicker\"}},\"id\":\"8c9cdcc8-5e06-4fc7-bdde-5c82ac312d45\",\"type\":\"LinearAxis\"},{\"attributes\":{\"dimension\":1,\"plot\":{\"id\":\"07f90941-8eee-4316-8d3c-1c183361c191\",\"subtype\":\"Figure\",\"type\":\"Plot\"},\"ticker\":{\"id\":\"791b4db7-cd91-43f4-b3e0-e5af1179b1d1\",\"type\":\"BasicTicker\"}},\"id\":\"ddae4e9e-ec24-4e9f-850b-7f0dd8744e46\",\"type\":\"Grid\"},{\"attributes\":{\"fill_alpha\":{\"value\":0.6},\"fill_color\":{\"value\":\"navy\"},\"line_alpha\":{\"value\":0.6},\"line_color\":{\"value\":\"navy\"},\"size\":{\"units\":\"screen\",\"value\":12},\"x\":{\"field\":\"x\"},\"y\":{\"field\":\"y\"}},\"id\":\"2cb9d7df-fd66-48ff-bd82-d8c934c86909\",\"type\":\"Square\"}],\"root_ids\":[\"07f90941-8eee-4316-8d3c-1c183361c191\"]},\"title\":\"Bokeh Application\",\"version\":\"0.13.0\"}};\n",
       "  var render_items = [{\"docid\":\"375c4b24-4490-4b68-ad00-b891b8e2a757\",\"roots\":{\"07f90941-8eee-4316-8d3c-1c183361c191\":\"01bd7859-a635-4668-a655-7dd7529b63e3\"}}];\n",
       "  root.Bokeh.embed.embed_items_notebook(docs_json, render_items);\n",
       "\n",
       "  }\n",
       "  if (root.Bokeh !== undefined) {\n",
       "    embed_document(root);\n",
       "  } else {\n",
       "    var attempts = 0;\n",
       "    var timer = setInterval(function(root) {\n",
       "      if (root.Bokeh !== undefined) {\n",
       "        embed_document(root);\n",
       "        clearInterval(timer);\n",
       "      }\n",
       "      attempts++;\n",
       "      if (attempts > 100) {\n",
       "        console.log(\"Bokeh: ERROR: Unable to run BokehJS code because BokehJS library is missing\")\n",
       "        clearInterval(timer);\n",
       "      }\n",
       "    }, 10, root)\n",
       "  }\n",
       "})(window);"
      ],
      "application/vnd.bokehjs_exec.v0+json": ""
     },
     "metadata": {
      "application/vnd.bokehjs_exec.v0+json": {
       "id": "07f90941-8eee-4316-8d3c-1c183361c191"
      }
     },
     "output_type": "display_data"
    }
   ],
   "source": [
    "\n",
    "# bokeh basics\n",
    "from bokeh.plotting import figure\n",
    "from bokeh.io import show, output_notebook\n",
    "\n",
    "# Create a blank figure with labels\n",
    "p = figure(plot_width = 600, plot_height = 600, \n",
    "           title = 'Example Glyphs',\n",
    "           x_axis_label = 'X', y_axis_label = 'Y')\n",
    "\n",
    "squares_x = [1, 3, 4, 5, 8]\n",
    "squares_y = [8, 7, 3, 1, 10]\n",
    "\n",
    "circles_x = [9, 12, 4, 3, 15]\n",
    "circles_y = [8, 4, 11, 6, 10]\n",
    "\n",
    "# Squares glyph\n",
    "p.square(squares_x, squares_y, size = 12, color = 'navy', alpha = 0.6)\n",
    "\n",
    "# Circle glyph\n",
    "p.circle(circles_x, circles_y, size = 12, color = 'red')\n",
    "\n",
    "\n",
    "# Set to output the plot in the notebook\n",
    "output_notebook()\n",
    "\n",
    "# Show the plot\n",
    "show(p)"
   ]
  },
  {
   "cell_type": "markdown",
   "metadata": {},
   "source": [
    "## Data Inspection"
   ]
  },
  {
   "cell_type": "code",
   "execution_count": 5,
   "metadata": {},
   "outputs": [
    {
     "data": {
      "text/html": [
       "<div>\n",
       "<style scoped>\n",
       "    .dataframe tbody tr th:only-of-type {\n",
       "        vertical-align: middle;\n",
       "    }\n",
       "\n",
       "    .dataframe tbody tr th {\n",
       "        vertical-align: top;\n",
       "    }\n",
       "\n",
       "    .dataframe thead th {\n",
       "        text-align: right;\n",
       "    }\n",
       "</style>\n",
       "<table border=\"1\" class=\"dataframe\">\n",
       "  <thead>\n",
       "    <tr style=\"text-align: right;\">\n",
       "      <th></th>\n",
       "      <th>year</th>\n",
       "      <th>month</th>\n",
       "      <th>day</th>\n",
       "      <th>dep_time</th>\n",
       "      <th>sched_dep_time</th>\n",
       "      <th>dep_delay</th>\n",
       "      <th>arr_time</th>\n",
       "      <th>sched_arr_time</th>\n",
       "      <th>arr_delay</th>\n",
       "      <th>carrier</th>\n",
       "      <th>flight</th>\n",
       "      <th>tailnum</th>\n",
       "      <th>origin</th>\n",
       "      <th>dest</th>\n",
       "      <th>air_time</th>\n",
       "      <th>distance</th>\n",
       "      <th>hour</th>\n",
       "      <th>minute</th>\n",
       "      <th>time_hour</th>\n",
       "    </tr>\n",
       "  </thead>\n",
       "  <tbody>\n",
       "    <tr>\n",
       "      <th>1</th>\n",
       "      <td>2013</td>\n",
       "      <td>1</td>\n",
       "      <td>1</td>\n",
       "      <td>517.0</td>\n",
       "      <td>515</td>\n",
       "      <td>2.0</td>\n",
       "      <td>830.0</td>\n",
       "      <td>819</td>\n",
       "      <td>11.0</td>\n",
       "      <td>UA</td>\n",
       "      <td>1545</td>\n",
       "      <td>N14228</td>\n",
       "      <td>EWR</td>\n",
       "      <td>IAH</td>\n",
       "      <td>227.0</td>\n",
       "      <td>1400</td>\n",
       "      <td>5</td>\n",
       "      <td>15</td>\n",
       "      <td>2013-01-01 05:00:00</td>\n",
       "    </tr>\n",
       "    <tr>\n",
       "      <th>2</th>\n",
       "      <td>2013</td>\n",
       "      <td>1</td>\n",
       "      <td>1</td>\n",
       "      <td>533.0</td>\n",
       "      <td>529</td>\n",
       "      <td>4.0</td>\n",
       "      <td>850.0</td>\n",
       "      <td>830</td>\n",
       "      <td>20.0</td>\n",
       "      <td>UA</td>\n",
       "      <td>1714</td>\n",
       "      <td>N24211</td>\n",
       "      <td>LGA</td>\n",
       "      <td>IAH</td>\n",
       "      <td>227.0</td>\n",
       "      <td>1416</td>\n",
       "      <td>5</td>\n",
       "      <td>29</td>\n",
       "      <td>2013-01-01 05:00:00</td>\n",
       "    </tr>\n",
       "    <tr>\n",
       "      <th>3</th>\n",
       "      <td>2013</td>\n",
       "      <td>1</td>\n",
       "      <td>1</td>\n",
       "      <td>542.0</td>\n",
       "      <td>540</td>\n",
       "      <td>2.0</td>\n",
       "      <td>923.0</td>\n",
       "      <td>850</td>\n",
       "      <td>33.0</td>\n",
       "      <td>AA</td>\n",
       "      <td>1141</td>\n",
       "      <td>N619AA</td>\n",
       "      <td>JFK</td>\n",
       "      <td>MIA</td>\n",
       "      <td>160.0</td>\n",
       "      <td>1089</td>\n",
       "      <td>5</td>\n",
       "      <td>40</td>\n",
       "      <td>2013-01-01 05:00:00</td>\n",
       "    </tr>\n",
       "    <tr>\n",
       "      <th>4</th>\n",
       "      <td>2013</td>\n",
       "      <td>1</td>\n",
       "      <td>1</td>\n",
       "      <td>544.0</td>\n",
       "      <td>545</td>\n",
       "      <td>-1.0</td>\n",
       "      <td>1004.0</td>\n",
       "      <td>1022</td>\n",
       "      <td>-18.0</td>\n",
       "      <td>B6</td>\n",
       "      <td>725</td>\n",
       "      <td>N804JB</td>\n",
       "      <td>JFK</td>\n",
       "      <td>BQN</td>\n",
       "      <td>183.0</td>\n",
       "      <td>1576</td>\n",
       "      <td>5</td>\n",
       "      <td>45</td>\n",
       "      <td>2013-01-01 05:00:00</td>\n",
       "    </tr>\n",
       "    <tr>\n",
       "      <th>5</th>\n",
       "      <td>2013</td>\n",
       "      <td>1</td>\n",
       "      <td>1</td>\n",
       "      <td>554.0</td>\n",
       "      <td>600</td>\n",
       "      <td>-6.0</td>\n",
       "      <td>812.0</td>\n",
       "      <td>837</td>\n",
       "      <td>-25.0</td>\n",
       "      <td>DL</td>\n",
       "      <td>461</td>\n",
       "      <td>N668DN</td>\n",
       "      <td>LGA</td>\n",
       "      <td>ATL</td>\n",
       "      <td>116.0</td>\n",
       "      <td>762</td>\n",
       "      <td>6</td>\n",
       "      <td>0</td>\n",
       "      <td>2013-01-01 06:00:00</td>\n",
       "    </tr>\n",
       "  </tbody>\n",
       "</table>\n",
       "</div>"
      ],
      "text/plain": [
       "   year  month  day  dep_time  sched_dep_time  dep_delay  arr_time  \\\n",
       "1  2013      1    1     517.0             515        2.0     830.0   \n",
       "2  2013      1    1     533.0             529        4.0     850.0   \n",
       "3  2013      1    1     542.0             540        2.0     923.0   \n",
       "4  2013      1    1     544.0             545       -1.0    1004.0   \n",
       "5  2013      1    1     554.0             600       -6.0     812.0   \n",
       "\n",
       "   sched_arr_time  arr_delay carrier  flight tailnum origin dest  air_time  \\\n",
       "1             819       11.0      UA    1545  N14228    EWR  IAH     227.0   \n",
       "2             830       20.0      UA    1714  N24211    LGA  IAH     227.0   \n",
       "3             850       33.0      AA    1141  N619AA    JFK  MIA     160.0   \n",
       "4            1022      -18.0      B6     725  N804JB    JFK  BQN     183.0   \n",
       "5             837      -25.0      DL     461  N668DN    LGA  ATL     116.0   \n",
       "\n",
       "   distance  hour  minute            time_hour  \n",
       "1      1400     5      15  2013-01-01 05:00:00  \n",
       "2      1416     5      29  2013-01-01 05:00:00  \n",
       "3      1089     5      40  2013-01-01 05:00:00  \n",
       "4      1576     5      45  2013-01-01 05:00:00  \n",
       "5       762     6       0  2013-01-01 06:00:00  "
      ]
     },
     "execution_count": 5,
     "metadata": {},
     "output_type": "execute_result"
    }
   ],
   "source": [
    "flight = pd.read_csv('../../data/flights.csv', index_col=0)\n",
    "flight.head()"
   ]
  },
  {
   "cell_type": "markdown",
   "metadata": {},
   "source": [
    "### Summary Statistics\n",
    "We are going to focus on a single variable, in this case the arrival delay in minutes. Before we get into plotting, we will want to take a look at the summary statistics for the arrival delay."
   ]
  },
  {
   "cell_type": "code",
   "execution_count": 6,
   "metadata": {},
   "outputs": [
    {
     "data": {
      "text/plain": [
       "count    327346.000000\n",
       "mean          6.895377\n",
       "std          44.633292\n",
       "min         -86.000000\n",
       "25%         -17.000000\n",
       "50%          -5.000000\n",
       "75%          14.000000\n",
       "max        1272.000000\n",
       "Name: arr_delay, dtype: float64"
      ]
     },
     "execution_count": 6,
     "metadata": {},
     "output_type": "execute_result"
    }
   ],
   "source": [
    "flight['arr_delay'].describe()"
   ]
  },
  {
   "cell_type": "code",
   "execution_count": 7,
   "metadata": {},
   "outputs": [],
   "source": [
    "# Remove na values from flight data\n",
    "flights = flight.dropna()"
   ]
  },
  {
   "cell_type": "markdown",
   "metadata": {},
   "source": [
    "## Histogram\n",
    "First graph will be simple histogram of arrival delay, with all airlines on the same plot"
   ]
  },
  {
   "cell_type": "markdown",
   "metadata": {},
   "source": [
    "### Data for plotting"
   ]
  },
  {
   "cell_type": "code",
   "execution_count": 8,
   "metadata": {},
   "outputs": [],
   "source": [
    "# Bins will be five minutes in width, so number of bins is 180/5\n",
    "# Limit delays to [-60, +120] minutes using the range\n",
    "arr_hist, edges = np.histogram(flights['arr_delay'], \n",
    "                               bins = int(180/5), \n",
    "                               range = [-60, 120])\n",
    "\n",
    "# Put the information in a dataframe\n",
    "delays = pd.DataFrame({'flights': arr_hist, \n",
    "                       'left': edges[:-1], \n",
    "                       'right': edges[1:]})"
   ]
  },
  {
   "cell_type": "code",
   "execution_count": 9,
   "metadata": {},
   "outputs": [
    {
     "data": {
      "text/html": [
       "<div>\n",
       "<style scoped>\n",
       "    .dataframe tbody tr th:only-of-type {\n",
       "        vertical-align: middle;\n",
       "    }\n",
       "\n",
       "    .dataframe tbody tr th {\n",
       "        vertical-align: top;\n",
       "    }\n",
       "\n",
       "    .dataframe thead th {\n",
       "        text-align: right;\n",
       "    }\n",
       "</style>\n",
       "<table border=\"1\" class=\"dataframe\">\n",
       "  <thead>\n",
       "    <tr style=\"text-align: right;\">\n",
       "      <th></th>\n",
       "      <th>flights</th>\n",
       "      <th>left</th>\n",
       "      <th>right</th>\n",
       "    </tr>\n",
       "  </thead>\n",
       "  <tbody>\n",
       "    <tr>\n",
       "      <th>0</th>\n",
       "      <td>276</td>\n",
       "      <td>-60.0</td>\n",
       "      <td>-55.0</td>\n",
       "    </tr>\n",
       "    <tr>\n",
       "      <th>1</th>\n",
       "      <td>636</td>\n",
       "      <td>-55.0</td>\n",
       "      <td>-50.0</td>\n",
       "    </tr>\n",
       "    <tr>\n",
       "      <th>2</th>\n",
       "      <td>1394</td>\n",
       "      <td>-50.0</td>\n",
       "      <td>-45.0</td>\n",
       "    </tr>\n",
       "    <tr>\n",
       "      <th>3</th>\n",
       "      <td>2820</td>\n",
       "      <td>-45.0</td>\n",
       "      <td>-40.0</td>\n",
       "    </tr>\n",
       "    <tr>\n",
       "      <th>4</th>\n",
       "      <td>5339</td>\n",
       "      <td>-40.0</td>\n",
       "      <td>-35.0</td>\n",
       "    </tr>\n",
       "  </tbody>\n",
       "</table>\n",
       "</div>"
      ],
      "text/plain": [
       "   flights  left  right\n",
       "0      276 -60.0  -55.0\n",
       "1      636 -55.0  -50.0\n",
       "2     1394 -50.0  -45.0\n",
       "3     2820 -45.0  -40.0\n",
       "4     5339 -40.0  -35.0"
      ]
     },
     "execution_count": 9,
     "metadata": {},
     "output_type": "execute_result"
    }
   ],
   "source": [
    "delays.head()"
   ]
  },
  {
   "cell_type": "code",
   "execution_count": 10,
   "metadata": {},
   "outputs": [
    {
     "data": {
      "text/html": [
       "\n",
       "\n",
       "\n",
       "\n",
       "\n",
       "\n",
       "  <div class=\"bk-root\" id=\"e90f4b19-5742-44e0-8a4e-869b0d148266\"></div>\n"
      ]
     },
     "metadata": {},
     "output_type": "display_data"
    },
    {
     "data": {
      "application/javascript": [
       "(function(root) {\n",
       "  function embed_document(root) {\n",
       "    \n",
       "  var docs_json = {\"c5590a16-578a-4778-af48-02e00a14d1d5\":{\"roots\":{\"references\":[{\"attributes\":{\"callback\":null},\"id\":\"da735bba-7214-4b99-9986-f152dbf57e4f\",\"type\":\"DataRange1d\"},{\"attributes\":{},\"id\":\"764a7ebc-8da5-455e-ba1a-64e9d8c910f6\",\"type\":\"BasicTicker\"},{\"attributes\":{\"bottom_units\":\"screen\",\"fill_alpha\":{\"value\":0.5},\"fill_color\":{\"value\":\"lightgrey\"},\"left_units\":\"screen\",\"level\":\"overlay\",\"line_alpha\":{\"value\":1.0},\"line_color\":{\"value\":\"black\"},\"line_dash\":[4,4],\"line_width\":{\"value\":2},\"plot\":null,\"render_mode\":\"css\",\"right_units\":\"screen\",\"top_units\":\"screen\"},\"id\":\"016c5135-5a04-47d5-91b1-e022310e3c7e\",\"type\":\"BoxAnnotation\"},{\"attributes\":{\"overlay\":{\"id\":\"016c5135-5a04-47d5-91b1-e022310e3c7e\",\"type\":\"BoxAnnotation\"}},\"id\":\"135fee60-a989-4e61-a6a0-91b05a16811e\",\"type\":\"BoxZoomTool\"},{\"attributes\":{},\"id\":\"69957ade-1f34-41f1-8551-6024f70f3154\",\"type\":\"Selection\"},{\"attributes\":{},\"id\":\"1f058a76-6f46-4013-8c2d-1bbb52cacfda\",\"type\":\"LinearScale\"},{\"attributes\":{},\"id\":\"b8cfb39c-2137-4e97-903b-b2cf510f6635\",\"type\":\"BasicTickFormatter\"},{\"attributes\":{},\"id\":\"6e5d3d5e-c616-4074-b0d3-751dc473a5ab\",\"type\":\"WheelZoomTool\"},{\"attributes\":{\"dimension\":1,\"plot\":{\"id\":\"453925fc-de62-4377-affa-dac526f43178\",\"subtype\":\"Figure\",\"type\":\"Plot\"},\"ticker\":{\"id\":\"999de00b-e29a-4647-bc07-991f46f44849\",\"type\":\"BasicTicker\"}},\"id\":\"79c150da-8baa-4406-a763-e43cc7c010ed\",\"type\":\"Grid\"},{\"attributes\":{\"bottom\":{\"value\":0},\"fill_alpha\":{\"value\":0.1},\"fill_color\":{\"value\":\"#1f77b4\"},\"left\":{\"field\":\"left\"},\"line_alpha\":{\"value\":0.1},\"line_color\":{\"value\":\"#1f77b4\"},\"right\":{\"field\":\"right\"},\"top\":{\"field\":\"top\"}},\"id\":\"15245794-2927-405f-bc0f-b264e1c1730c\",\"type\":\"Quad\"},{\"attributes\":{\"below\":[{\"id\":\"5ffbe864-e512-445d-88e9-c90b5723d88c\",\"type\":\"LinearAxis\"}],\"left\":[{\"id\":\"32218bbe-2901-46c9-a6f8-beb76b33be1b\",\"type\":\"LinearAxis\"}],\"renderers\":[{\"id\":\"5ffbe864-e512-445d-88e9-c90b5723d88c\",\"type\":\"LinearAxis\"},{\"id\":\"0577dc78-71ac-46fa-9f7e-c1165765c9a8\",\"type\":\"Grid\"},{\"id\":\"32218bbe-2901-46c9-a6f8-beb76b33be1b\",\"type\":\"LinearAxis\"},{\"id\":\"79c150da-8baa-4406-a763-e43cc7c010ed\",\"type\":\"Grid\"},{\"id\":\"016c5135-5a04-47d5-91b1-e022310e3c7e\",\"type\":\"BoxAnnotation\"},{\"id\":\"2fadc266-d082-4297-b69d-76213229d484\",\"type\":\"GlyphRenderer\"}],\"title\":{\"id\":\"f8f79503-0294-4fb1-8644-bc5c9bb6059c\",\"type\":\"Title\"},\"toolbar\":{\"id\":\"8bbe46d4-a88f-468f-b8cd-bb1bf707b536\",\"type\":\"Toolbar\"},\"x_range\":{\"id\":\"da735bba-7214-4b99-9986-f152dbf57e4f\",\"type\":\"DataRange1d\"},\"x_scale\":{\"id\":\"8e77db13-d05d-499e-99f9-77697e6f7920\",\"type\":\"LinearScale\"},\"y_range\":{\"id\":\"65f74800-6f80-4a71-9fa7-c5ee5ec517b7\",\"type\":\"DataRange1d\"},\"y_scale\":{\"id\":\"1f058a76-6f46-4013-8c2d-1bbb52cacfda\",\"type\":\"LinearScale\"}},\"id\":\"453925fc-de62-4377-affa-dac526f43178\",\"subtype\":\"Figure\",\"type\":\"Plot\"},{\"attributes\":{\"callback\":null},\"id\":\"65f74800-6f80-4a71-9fa7-c5ee5ec517b7\",\"type\":\"DataRange1d\"},{\"attributes\":{\"active_drag\":\"auto\",\"active_inspect\":\"auto\",\"active_multi\":null,\"active_scroll\":\"auto\",\"active_tap\":\"auto\",\"tools\":[{\"id\":\"88c5f51b-039a-4abd-887e-d4bf4660d340\",\"type\":\"PanTool\"},{\"id\":\"6e5d3d5e-c616-4074-b0d3-751dc473a5ab\",\"type\":\"WheelZoomTool\"},{\"id\":\"135fee60-a989-4e61-a6a0-91b05a16811e\",\"type\":\"BoxZoomTool\"},{\"id\":\"1ebe45fd-79f5-40d6-8e18-e636b7328ef2\",\"type\":\"SaveTool\"},{\"id\":\"4a365a69-18ae-4055-9d92-d9728bd8ac19\",\"type\":\"ResetTool\"},{\"id\":\"a6e032b7-eb1e-4d00-80ef-01cbc7229b19\",\"type\":\"HelpTool\"}]},\"id\":\"8bbe46d4-a88f-468f-b8cd-bb1bf707b536\",\"type\":\"Toolbar\"},{\"attributes\":{\"callback\":null,\"data\":{\"left\":{\"__ndarray__\":\"AAAAAAAATsAAAAAAAIBLwAAAAAAAAEnAAAAAAACARsAAAAAAAABEwAAAAAAAgEHAAAAAAAAAPsAAAAAAAAA5wAAAAAAAADTAAAAAAAAALsAAAAAAAAAkwAAAAAAAABTAAAAAAAAAAAAAAAAAAAAUQAAAAAAAACRAAAAAAAAALkAAAAAAAAA0QAAAAAAAADlAAAAAAAAAPkAAAAAAAIBBQAAAAAAAAERAAAAAAACARkAAAAAAAABJQAAAAAAAgEtAAAAAAAAATkAAAAAAAEBQQAAAAAAAgFFAAAAAAADAUkAAAAAAAABUQAAAAAAAQFVAAAAAAACAVkAAAAAAAMBXQAAAAAAAAFlAAAAAAABAWkAAAAAAAIBbQAAAAAAAwFxA\",\"dtype\":\"float64\",\"shape\":[36]},\"right\":{\"__ndarray__\":\"AAAAAACAS8AAAAAAAABJwAAAAAAAgEbAAAAAAAAARMAAAAAAAIBBwAAAAAAAAD7AAAAAAAAAOcAAAAAAAAA0wAAAAAAAAC7AAAAAAAAAJMAAAAAAAAAUwAAAAAAAAAAAAAAAAAAAFEAAAAAAAAAkQAAAAAAAAC5AAAAAAAAANEAAAAAAAAA5QAAAAAAAAD5AAAAAAACAQUAAAAAAAABEQAAAAAAAgEZAAAAAAAAASUAAAAAAAIBLQAAAAAAAAE5AAAAAAABAUEAAAAAAAIBRQAAAAAAAwFJAAAAAAAAAVEAAAAAAAEBVQAAAAAAAgFZAAAAAAADAV0AAAAAAAABZQAAAAAAAQFpAAAAAAACAW0AAAAAAAMBcQAAAAAAAAF5A\",\"dtype\":\"float64\",\"shape\":[36]},\"top\":[276,636,1394,2820,5339,9420,15551,23546,31319,34857,33790,29786,24391,19028,14894,11324,8815,7159,5908,4896,4130,3630,3139,2782,2455,2179,1973,1805,1646,1454,1360,1286,1167,1013,945,1000]},\"selected\":{\"id\":\"69957ade-1f34-41f1-8551-6024f70f3154\",\"type\":\"Selection\"},\"selection_policy\":{\"id\":\"d3b105d9-0b39-4921-9f2e-102866c04581\",\"type\":\"UnionRenderers\"}},\"id\":\"e3d8cce3-1ea8-441e-b4ac-20541e105be2\",\"type\":\"ColumnDataSource\"},{\"attributes\":{\"axis_label\":\"Delay (min)]\",\"formatter\":{\"id\":\"b8cfb39c-2137-4e97-903b-b2cf510f6635\",\"type\":\"BasicTickFormatter\"},\"plot\":{\"id\":\"453925fc-de62-4377-affa-dac526f43178\",\"subtype\":\"Figure\",\"type\":\"Plot\"},\"ticker\":{\"id\":\"764a7ebc-8da5-455e-ba1a-64e9d8c910f6\",\"type\":\"BasicTicker\"}},\"id\":\"5ffbe864-e512-445d-88e9-c90b5723d88c\",\"type\":\"LinearAxis\"},{\"attributes\":{},\"id\":\"a6e032b7-eb1e-4d00-80ef-01cbc7229b19\",\"type\":\"HelpTool\"},{\"attributes\":{\"data_source\":{\"id\":\"e3d8cce3-1ea8-441e-b4ac-20541e105be2\",\"type\":\"ColumnDataSource\"},\"glyph\":{\"id\":\"69f76196-8ad7-4631-8234-b9bdbb9f41e1\",\"type\":\"Quad\"},\"hover_glyph\":null,\"muted_glyph\":null,\"nonselection_glyph\":{\"id\":\"15245794-2927-405f-bc0f-b264e1c1730c\",\"type\":\"Quad\"},\"selection_glyph\":null,\"view\":{\"id\":\"c24d08cf-45c0-4339-b34b-0fb2e07d9503\",\"type\":\"CDSView\"}},\"id\":\"2fadc266-d082-4297-b69d-76213229d484\",\"type\":\"GlyphRenderer\"},{\"attributes\":{},\"id\":\"d3b105d9-0b39-4921-9f2e-102866c04581\",\"type\":\"UnionRenderers\"},{\"attributes\":{},\"id\":\"8e77db13-d05d-499e-99f9-77697e6f7920\",\"type\":\"LinearScale\"},{\"attributes\":{\"source\":{\"id\":\"e3d8cce3-1ea8-441e-b4ac-20541e105be2\",\"type\":\"ColumnDataSource\"}},\"id\":\"c24d08cf-45c0-4339-b34b-0fb2e07d9503\",\"type\":\"CDSView\"},{\"attributes\":{\"plot\":null,\"text\":\"Histogram of Arrival Delays\"},\"id\":\"f8f79503-0294-4fb1-8644-bc5c9bb6059c\",\"type\":\"Title\"},{\"attributes\":{},\"id\":\"999de00b-e29a-4647-bc07-991f46f44849\",\"type\":\"BasicTicker\"},{\"attributes\":{},\"id\":\"88c5f51b-039a-4abd-887e-d4bf4660d340\",\"type\":\"PanTool\"},{\"attributes\":{\"bottom\":{\"value\":0},\"fill_color\":{\"value\":\"red\"},\"left\":{\"field\":\"left\"},\"right\":{\"field\":\"right\"},\"top\":{\"field\":\"top\"}},\"id\":\"69f76196-8ad7-4631-8234-b9bdbb9f41e1\",\"type\":\"Quad\"},{\"attributes\":{},\"id\":\"4a365a69-18ae-4055-9d92-d9728bd8ac19\",\"type\":\"ResetTool\"},{\"attributes\":{\"plot\":{\"id\":\"453925fc-de62-4377-affa-dac526f43178\",\"subtype\":\"Figure\",\"type\":\"Plot\"},\"ticker\":{\"id\":\"764a7ebc-8da5-455e-ba1a-64e9d8c910f6\",\"type\":\"BasicTicker\"}},\"id\":\"0577dc78-71ac-46fa-9f7e-c1165765c9a8\",\"type\":\"Grid\"},{\"attributes\":{},\"id\":\"1ebe45fd-79f5-40d6-8e18-e636b7328ef2\",\"type\":\"SaveTool\"},{\"attributes\":{\"axis_label\":\"Number of Flights\",\"formatter\":{\"id\":\"f81ffd6c-9fa9-4586-a443-d7ce257985e3\",\"type\":\"BasicTickFormatter\"},\"plot\":{\"id\":\"453925fc-de62-4377-affa-dac526f43178\",\"subtype\":\"Figure\",\"type\":\"Plot\"},\"ticker\":{\"id\":\"999de00b-e29a-4647-bc07-991f46f44849\",\"type\":\"BasicTicker\"}},\"id\":\"32218bbe-2901-46c9-a6f8-beb76b33be1b\",\"type\":\"LinearAxis\"},{\"attributes\":{},\"id\":\"f81ffd6c-9fa9-4586-a443-d7ce257985e3\",\"type\":\"BasicTickFormatter\"}],\"root_ids\":[\"453925fc-de62-4377-affa-dac526f43178\"]},\"title\":\"Bokeh Application\",\"version\":\"0.13.0\"}};\n",
       "  var render_items = [{\"docid\":\"c5590a16-578a-4778-af48-02e00a14d1d5\",\"roots\":{\"453925fc-de62-4377-affa-dac526f43178\":\"e90f4b19-5742-44e0-8a4e-869b0d148266\"}}];\n",
       "  root.Bokeh.embed.embed_items_notebook(docs_json, render_items);\n",
       "\n",
       "  }\n",
       "  if (root.Bokeh !== undefined) {\n",
       "    embed_document(root);\n",
       "  } else {\n",
       "    var attempts = 0;\n",
       "    var timer = setInterval(function(root) {\n",
       "      if (root.Bokeh !== undefined) {\n",
       "        embed_document(root);\n",
       "        clearInterval(timer);\n",
       "      }\n",
       "      attempts++;\n",
       "      if (attempts > 100) {\n",
       "        console.log(\"Bokeh: ERROR: Unable to run BokehJS code because BokehJS library is missing\")\n",
       "        clearInterval(timer);\n",
       "      }\n",
       "    }, 10, root)\n",
       "  }\n",
       "})(window);"
      ],
      "application/vnd.bokehjs_exec.v0+json": ""
     },
     "metadata": {
      "application/vnd.bokehjs_exec.v0+json": {
       "id": "453925fc-de62-4377-affa-dac526f43178"
      }
     },
     "output_type": "display_data"
    }
   ],
   "source": [
    "# Create the blank plot\n",
    "p = figure(plot_height = 600, plot_width = 600, \n",
    "           title = 'Histogram of Arrival Delays',\n",
    "          x_axis_label = 'Delay (min)]', \n",
    "           y_axis_label = 'Number of Flights')\n",
    "\n",
    "# Add a quad glyph\n",
    "p.quad(bottom=0, top=delays['flights'], \n",
    "       left=delays['left'], right=delays['right'], \n",
    "       fill_color='red', line_color='black')\n",
    "\n",
    "# Show the plot\n",
    "show(p)"
   ]
  },
  {
   "cell_type": "markdown",
   "metadata": {},
   "source": [
    "## matplotlib equivalent"
   ]
  },
  {
   "cell_type": "code",
   "execution_count": 11,
   "metadata": {},
   "outputs": [
    {
     "data": {
      "text/plain": [
       "<Figure size 640x480 with 1 Axes>"
      ]
     },
     "metadata": {},
     "output_type": "display_data"
    }
   ],
   "source": [
    "import matplotlib.pyplot as plt\n",
    "plt.hist(flights['arr_delay'], bins = int(180/5), range = (-60, 120));\n",
    "plt.xlabel('Delay (min)'); plt.ylabel('Number of Flights')\n",
    "plt.title('Histogram of Arrival Delays')\n",
    "plt.show()"
   ]
  },
  {
   "cell_type": "markdown",
   "metadata": {},
   "source": [
    "## Add basic styling function"
   ]
  },
  {
   "cell_type": "code",
   "execution_count": 12,
   "metadata": {},
   "outputs": [
    {
     "data": {
      "text/html": [
       "\n",
       "\n",
       "\n",
       "\n",
       "\n",
       "\n",
       "  <div class=\"bk-root\" id=\"a69c2755-bb38-47d4-8b99-8366fc1e1331\"></div>\n"
      ]
     },
     "metadata": {},
     "output_type": "display_data"
    },
    {
     "data": {
      "application/javascript": [
       "(function(root) {\n",
       "  function embed_document(root) {\n",
       "    \n",
       "  var docs_json = {\"faf88d4c-e417-4e7a-8dc4-7946cae07a76\":{\"roots\":{\"references\":[{\"attributes\":{\"callback\":null},\"id\":\"da735bba-7214-4b99-9986-f152dbf57e4f\",\"type\":\"DataRange1d\"},{\"attributes\":{},\"id\":\"764a7ebc-8da5-455e-ba1a-64e9d8c910f6\",\"type\":\"BasicTicker\"},{\"attributes\":{\"bottom_units\":\"screen\",\"fill_alpha\":{\"value\":0.5},\"fill_color\":{\"value\":\"lightgrey\"},\"left_units\":\"screen\",\"level\":\"overlay\",\"line_alpha\":{\"value\":1.0},\"line_color\":{\"value\":\"black\"},\"line_dash\":[4,4],\"line_width\":{\"value\":2},\"plot\":null,\"render_mode\":\"css\",\"right_units\":\"screen\",\"top_units\":\"screen\"},\"id\":\"016c5135-5a04-47d5-91b1-e022310e3c7e\",\"type\":\"BoxAnnotation\"},{\"attributes\":{\"overlay\":{\"id\":\"016c5135-5a04-47d5-91b1-e022310e3c7e\",\"type\":\"BoxAnnotation\"}},\"id\":\"135fee60-a989-4e61-a6a0-91b05a16811e\",\"type\":\"BoxZoomTool\"},{\"attributes\":{},\"id\":\"69957ade-1f34-41f1-8551-6024f70f3154\",\"type\":\"Selection\"},{\"attributes\":{},\"id\":\"1f058a76-6f46-4013-8c2d-1bbb52cacfda\",\"type\":\"LinearScale\"},{\"attributes\":{},\"id\":\"b8cfb39c-2137-4e97-903b-b2cf510f6635\",\"type\":\"BasicTickFormatter\"},{\"attributes\":{},\"id\":\"6e5d3d5e-c616-4074-b0d3-751dc473a5ab\",\"type\":\"WheelZoomTool\"},{\"attributes\":{\"dimension\":1,\"plot\":{\"id\":\"453925fc-de62-4377-affa-dac526f43178\",\"subtype\":\"Figure\",\"type\":\"Plot\"},\"ticker\":{\"id\":\"999de00b-e29a-4647-bc07-991f46f44849\",\"type\":\"BasicTicker\"}},\"id\":\"79c150da-8baa-4406-a763-e43cc7c010ed\",\"type\":\"Grid\"},{\"attributes\":{\"bottom\":{\"value\":0},\"fill_alpha\":{\"value\":0.1},\"fill_color\":{\"value\":\"#1f77b4\"},\"left\":{\"field\":\"left\"},\"line_alpha\":{\"value\":0.1},\"line_color\":{\"value\":\"#1f77b4\"},\"right\":{\"field\":\"right\"},\"top\":{\"field\":\"top\"}},\"id\":\"15245794-2927-405f-bc0f-b264e1c1730c\",\"type\":\"Quad\"},{\"attributes\":{\"below\":[{\"id\":\"5ffbe864-e512-445d-88e9-c90b5723d88c\",\"type\":\"LinearAxis\"}],\"left\":[{\"id\":\"32218bbe-2901-46c9-a6f8-beb76b33be1b\",\"type\":\"LinearAxis\"}],\"renderers\":[{\"id\":\"5ffbe864-e512-445d-88e9-c90b5723d88c\",\"type\":\"LinearAxis\"},{\"id\":\"0577dc78-71ac-46fa-9f7e-c1165765c9a8\",\"type\":\"Grid\"},{\"id\":\"32218bbe-2901-46c9-a6f8-beb76b33be1b\",\"type\":\"LinearAxis\"},{\"id\":\"79c150da-8baa-4406-a763-e43cc7c010ed\",\"type\":\"Grid\"},{\"id\":\"016c5135-5a04-47d5-91b1-e022310e3c7e\",\"type\":\"BoxAnnotation\"},{\"id\":\"2fadc266-d082-4297-b69d-76213229d484\",\"type\":\"GlyphRenderer\"}],\"title\":{\"id\":\"f8f79503-0294-4fb1-8644-bc5c9bb6059c\",\"type\":\"Title\"},\"toolbar\":{\"id\":\"8bbe46d4-a88f-468f-b8cd-bb1bf707b536\",\"type\":\"Toolbar\"},\"x_range\":{\"id\":\"da735bba-7214-4b99-9986-f152dbf57e4f\",\"type\":\"DataRange1d\"},\"x_scale\":{\"id\":\"8e77db13-d05d-499e-99f9-77697e6f7920\",\"type\":\"LinearScale\"},\"y_range\":{\"id\":\"65f74800-6f80-4a71-9fa7-c5ee5ec517b7\",\"type\":\"DataRange1d\"},\"y_scale\":{\"id\":\"1f058a76-6f46-4013-8c2d-1bbb52cacfda\",\"type\":\"LinearScale\"}},\"id\":\"453925fc-de62-4377-affa-dac526f43178\",\"subtype\":\"Figure\",\"type\":\"Plot\"},{\"attributes\":{\"callback\":null},\"id\":\"65f74800-6f80-4a71-9fa7-c5ee5ec517b7\",\"type\":\"DataRange1d\"},{\"attributes\":{\"active_drag\":\"auto\",\"active_inspect\":\"auto\",\"active_multi\":null,\"active_scroll\":\"auto\",\"active_tap\":\"auto\",\"tools\":[{\"id\":\"88c5f51b-039a-4abd-887e-d4bf4660d340\",\"type\":\"PanTool\"},{\"id\":\"6e5d3d5e-c616-4074-b0d3-751dc473a5ab\",\"type\":\"WheelZoomTool\"},{\"id\":\"135fee60-a989-4e61-a6a0-91b05a16811e\",\"type\":\"BoxZoomTool\"},{\"id\":\"1ebe45fd-79f5-40d6-8e18-e636b7328ef2\",\"type\":\"SaveTool\"},{\"id\":\"4a365a69-18ae-4055-9d92-d9728bd8ac19\",\"type\":\"ResetTool\"},{\"id\":\"a6e032b7-eb1e-4d00-80ef-01cbc7229b19\",\"type\":\"HelpTool\"}]},\"id\":\"8bbe46d4-a88f-468f-b8cd-bb1bf707b536\",\"type\":\"Toolbar\"},{\"attributes\":{\"callback\":null,\"data\":{\"left\":{\"__ndarray__\":\"AAAAAAAATsAAAAAAAIBLwAAAAAAAAEnAAAAAAACARsAAAAAAAABEwAAAAAAAgEHAAAAAAAAAPsAAAAAAAAA5wAAAAAAAADTAAAAAAAAALsAAAAAAAAAkwAAAAAAAABTAAAAAAAAAAAAAAAAAAAAUQAAAAAAAACRAAAAAAAAALkAAAAAAAAA0QAAAAAAAADlAAAAAAAAAPkAAAAAAAIBBQAAAAAAAAERAAAAAAACARkAAAAAAAABJQAAAAAAAgEtAAAAAAAAATkAAAAAAAEBQQAAAAAAAgFFAAAAAAADAUkAAAAAAAABUQAAAAAAAQFVAAAAAAACAVkAAAAAAAMBXQAAAAAAAAFlAAAAAAABAWkAAAAAAAIBbQAAAAAAAwFxA\",\"dtype\":\"float64\",\"shape\":[36]},\"right\":{\"__ndarray__\":\"AAAAAACAS8AAAAAAAABJwAAAAAAAgEbAAAAAAAAARMAAAAAAAIBBwAAAAAAAAD7AAAAAAAAAOcAAAAAAAAA0wAAAAAAAAC7AAAAAAAAAJMAAAAAAAAAUwAAAAAAAAAAAAAAAAAAAFEAAAAAAAAAkQAAAAAAAAC5AAAAAAAAANEAAAAAAAAA5QAAAAAAAAD5AAAAAAACAQUAAAAAAAABEQAAAAAAAgEZAAAAAAAAASUAAAAAAAIBLQAAAAAAAAE5AAAAAAABAUEAAAAAAAIBRQAAAAAAAwFJAAAAAAAAAVEAAAAAAAEBVQAAAAAAAgFZAAAAAAADAV0AAAAAAAABZQAAAAAAAQFpAAAAAAACAW0AAAAAAAMBcQAAAAAAAAF5A\",\"dtype\":\"float64\",\"shape\":[36]},\"top\":[276,636,1394,2820,5339,9420,15551,23546,31319,34857,33790,29786,24391,19028,14894,11324,8815,7159,5908,4896,4130,3630,3139,2782,2455,2179,1973,1805,1646,1454,1360,1286,1167,1013,945,1000]},\"selected\":{\"id\":\"69957ade-1f34-41f1-8551-6024f70f3154\",\"type\":\"Selection\"},\"selection_policy\":{\"id\":\"d3b105d9-0b39-4921-9f2e-102866c04581\",\"type\":\"UnionRenderers\"}},\"id\":\"e3d8cce3-1ea8-441e-b4ac-20541e105be2\",\"type\":\"ColumnDataSource\"},{\"attributes\":{\"axis_label\":\"Delay (min)]\",\"axis_label_text_font_size\":{\"value\":\"14pt\"},\"axis_label_text_font_style\":\"bold\",\"formatter\":{\"id\":\"b8cfb39c-2137-4e97-903b-b2cf510f6635\",\"type\":\"BasicTickFormatter\"},\"major_label_text_font_size\":{\"value\":\"12pt\"},\"plot\":{\"id\":\"453925fc-de62-4377-affa-dac526f43178\",\"subtype\":\"Figure\",\"type\":\"Plot\"},\"ticker\":{\"id\":\"764a7ebc-8da5-455e-ba1a-64e9d8c910f6\",\"type\":\"BasicTicker\"}},\"id\":\"5ffbe864-e512-445d-88e9-c90b5723d88c\",\"type\":\"LinearAxis\"},{\"attributes\":{},\"id\":\"a6e032b7-eb1e-4d00-80ef-01cbc7229b19\",\"type\":\"HelpTool\"},{\"attributes\":{\"data_source\":{\"id\":\"e3d8cce3-1ea8-441e-b4ac-20541e105be2\",\"type\":\"ColumnDataSource\"},\"glyph\":{\"id\":\"69f76196-8ad7-4631-8234-b9bdbb9f41e1\",\"type\":\"Quad\"},\"hover_glyph\":null,\"muted_glyph\":null,\"nonselection_glyph\":{\"id\":\"15245794-2927-405f-bc0f-b264e1c1730c\",\"type\":\"Quad\"},\"selection_glyph\":null,\"view\":{\"id\":\"c24d08cf-45c0-4339-b34b-0fb2e07d9503\",\"type\":\"CDSView\"}},\"id\":\"2fadc266-d082-4297-b69d-76213229d484\",\"type\":\"GlyphRenderer\"},{\"attributes\":{},\"id\":\"d3b105d9-0b39-4921-9f2e-102866c04581\",\"type\":\"UnionRenderers\"},{\"attributes\":{},\"id\":\"8e77db13-d05d-499e-99f9-77697e6f7920\",\"type\":\"LinearScale\"},{\"attributes\":{\"source\":{\"id\":\"e3d8cce3-1ea8-441e-b4ac-20541e105be2\",\"type\":\"ColumnDataSource\"}},\"id\":\"c24d08cf-45c0-4339-b34b-0fb2e07d9503\",\"type\":\"CDSView\"},{\"attributes\":{\"align\":\"center\",\"plot\":null,\"text\":\"Histogram of Arrival Delays\",\"text_font\":\"serif\",\"text_font_size\":{\"value\":\"20pt\"}},\"id\":\"f8f79503-0294-4fb1-8644-bc5c9bb6059c\",\"type\":\"Title\"},{\"attributes\":{},\"id\":\"999de00b-e29a-4647-bc07-991f46f44849\",\"type\":\"BasicTicker\"},{\"attributes\":{},\"id\":\"88c5f51b-039a-4abd-887e-d4bf4660d340\",\"type\":\"PanTool\"},{\"attributes\":{\"bottom\":{\"value\":0},\"fill_color\":{\"value\":\"red\"},\"left\":{\"field\":\"left\"},\"right\":{\"field\":\"right\"},\"top\":{\"field\":\"top\"}},\"id\":\"69f76196-8ad7-4631-8234-b9bdbb9f41e1\",\"type\":\"Quad\"},{\"attributes\":{},\"id\":\"4a365a69-18ae-4055-9d92-d9728bd8ac19\",\"type\":\"ResetTool\"},{\"attributes\":{\"plot\":{\"id\":\"453925fc-de62-4377-affa-dac526f43178\",\"subtype\":\"Figure\",\"type\":\"Plot\"},\"ticker\":{\"id\":\"764a7ebc-8da5-455e-ba1a-64e9d8c910f6\",\"type\":\"BasicTicker\"}},\"id\":\"0577dc78-71ac-46fa-9f7e-c1165765c9a8\",\"type\":\"Grid\"},{\"attributes\":{},\"id\":\"1ebe45fd-79f5-40d6-8e18-e636b7328ef2\",\"type\":\"SaveTool\"},{\"attributes\":{\"axis_label\":\"Number of Flights\",\"axis_label_text_font_size\":{\"value\":\"14pt\"},\"axis_label_text_font_style\":\"bold\",\"formatter\":{\"id\":\"f81ffd6c-9fa9-4586-a443-d7ce257985e3\",\"type\":\"BasicTickFormatter\"},\"major_label_text_font_size\":{\"value\":\"12pt\"},\"plot\":{\"id\":\"453925fc-de62-4377-affa-dac526f43178\",\"subtype\":\"Figure\",\"type\":\"Plot\"},\"ticker\":{\"id\":\"999de00b-e29a-4647-bc07-991f46f44849\",\"type\":\"BasicTicker\"}},\"id\":\"32218bbe-2901-46c9-a6f8-beb76b33be1b\",\"type\":\"LinearAxis\"},{\"attributes\":{},\"id\":\"f81ffd6c-9fa9-4586-a443-d7ce257985e3\",\"type\":\"BasicTickFormatter\"}],\"root_ids\":[\"453925fc-de62-4377-affa-dac526f43178\"]},\"title\":\"Bokeh Application\",\"version\":\"0.13.0\"}};\n",
       "  var render_items = [{\"docid\":\"faf88d4c-e417-4e7a-8dc4-7946cae07a76\",\"roots\":{\"453925fc-de62-4377-affa-dac526f43178\":\"a69c2755-bb38-47d4-8b99-8366fc1e1331\"}}];\n",
       "  root.Bokeh.embed.embed_items_notebook(docs_json, render_items);\n",
       "\n",
       "  }\n",
       "  if (root.Bokeh !== undefined) {\n",
       "    embed_document(root);\n",
       "  } else {\n",
       "    var attempts = 0;\n",
       "    var timer = setInterval(function(root) {\n",
       "      if (root.Bokeh !== undefined) {\n",
       "        embed_document(root);\n",
       "        clearInterval(timer);\n",
       "      }\n",
       "      attempts++;\n",
       "      if (attempts > 100) {\n",
       "        console.log(\"Bokeh: ERROR: Unable to run BokehJS code because BokehJS library is missing\")\n",
       "        clearInterval(timer);\n",
       "      }\n",
       "    }, 10, root)\n",
       "  }\n",
       "})(window);"
      ],
      "application/vnd.bokehjs_exec.v0+json": ""
     },
     "metadata": {
      "application/vnd.bokehjs_exec.v0+json": {
       "id": "453925fc-de62-4377-affa-dac526f43178"
      }
     },
     "output_type": "display_data"
    }
   ],
   "source": [
    "# Style function that takes in a plot\n",
    "def style(p):\n",
    "    # Title \n",
    "    p.title.align = 'center'\n",
    "    p.title.text_font_size = '20pt'\n",
    "    p.title.text_font = 'serif'\n",
    "    \n",
    "    # Axis titles\n",
    "    p.xaxis.axis_label_text_font_size = '14pt'\n",
    "    p.xaxis.axis_label_text_font_style = 'bold'\n",
    "    p.yaxis.axis_label_text_font_size = '14pt'\n",
    "    p.yaxis.axis_label_text_font_style = 'bold'\n",
    "    \n",
    "    # Tick labels\n",
    "    p.xaxis.major_label_text_font_size = '12pt'\n",
    "    p.yaxis.major_label_text_font_size = '12pt'\n",
    "    \n",
    "    return p\n",
    "\n",
    "# Add Aesthetics\n",
    "styled_p = style(p)\n",
    "\n",
    "# Show plot\n",
    "show(styled_p)"
   ]
  },
  {
   "cell_type": "markdown",
   "metadata": {},
   "source": [
    "## Adding Interactivity\n",
    "There are easier ways to create a basic histogram in Python, using matplotlib, but Bokeh provides ways to interact with the data\n",
    "\n",
    "### **Passive Interactions**\n",
    "(inspectors) are actions which do not alter the data displayed. e.g. the **HoverTool**"
   ]
  },
  {
   "cell_type": "markdown",
   "metadata": {},
   "source": [
    "### ColumnDataSource"
   ]
  },
  {
   "cell_type": "code",
   "execution_count": 13,
   "metadata": {},
   "outputs": [],
   "source": [
    "# Import the ColumnDataSource class\n",
    "from bokeh.models import ColumnDataSource"
   ]
  },
  {
   "cell_type": "code",
   "execution_count": 14,
   "metadata": {},
   "outputs": [
    {
     "data": {
      "text/html": [
       "<div>\n",
       "<style scoped>\n",
       "    .dataframe tbody tr th:only-of-type {\n",
       "        vertical-align: middle;\n",
       "    }\n",
       "\n",
       "    .dataframe tbody tr th {\n",
       "        vertical-align: top;\n",
       "    }\n",
       "\n",
       "    .dataframe thead th {\n",
       "        text-align: right;\n",
       "    }\n",
       "</style>\n",
       "<table border=\"1\" class=\"dataframe\">\n",
       "  <thead>\n",
       "    <tr style=\"text-align: right;\">\n",
       "      <th></th>\n",
       "      <th>flights</th>\n",
       "      <th>left</th>\n",
       "      <th>right</th>\n",
       "      <th>f_flights</th>\n",
       "      <th>f_interval</th>\n",
       "    </tr>\n",
       "  </thead>\n",
       "  <tbody>\n",
       "    <tr>\n",
       "      <th>0</th>\n",
       "      <td>276</td>\n",
       "      <td>-60.0</td>\n",
       "      <td>-55.0</td>\n",
       "      <td>276 flights</td>\n",
       "      <td>-60 to -55 minutes</td>\n",
       "    </tr>\n",
       "    <tr>\n",
       "      <th>1</th>\n",
       "      <td>636</td>\n",
       "      <td>-55.0</td>\n",
       "      <td>-50.0</td>\n",
       "      <td>636 flights</td>\n",
       "      <td>-55 to -50 minutes</td>\n",
       "    </tr>\n",
       "    <tr>\n",
       "      <th>2</th>\n",
       "      <td>1394</td>\n",
       "      <td>-50.0</td>\n",
       "      <td>-45.0</td>\n",
       "      <td>1394 flights</td>\n",
       "      <td>-50 to -45 minutes</td>\n",
       "    </tr>\n",
       "    <tr>\n",
       "      <th>3</th>\n",
       "      <td>2820</td>\n",
       "      <td>-45.0</td>\n",
       "      <td>-40.0</td>\n",
       "      <td>2820 flights</td>\n",
       "      <td>-45 to -40 minutes</td>\n",
       "    </tr>\n",
       "    <tr>\n",
       "      <th>4</th>\n",
       "      <td>5339</td>\n",
       "      <td>-40.0</td>\n",
       "      <td>-35.0</td>\n",
       "      <td>5339 flights</td>\n",
       "      <td>-40 to -35 minutes</td>\n",
       "    </tr>\n",
       "  </tbody>\n",
       "</table>\n",
       "</div>"
      ],
      "text/plain": [
       "   flights  left  right     f_flights          f_interval\n",
       "0      276 -60.0  -55.0   276 flights  -60 to -55 minutes\n",
       "1      636 -55.0  -50.0   636 flights  -55 to -50 minutes\n",
       "2     1394 -50.0  -45.0  1394 flights  -50 to -45 minutes\n",
       "3     2820 -45.0  -40.0  2820 flights  -45 to -40 minutes\n",
       "4     5339 -40.0  -35.0  5339 flights  -40 to -35 minutes"
      ]
     },
     "execution_count": 14,
     "metadata": {},
     "output_type": "execute_result"
    }
   ],
   "source": [
    "# Formatted columns for Hover Tooltips\n",
    "delays['f_flights'] = ['%d flights' % count for count in delays['flights']]\n",
    "delays['f_interval'] = ['%d to %d minutes' % (left, right) for left, right in zip(delays['left'], delays['right'])]\n",
    "\n",
    "delays.head()"
   ]
  },
  {
   "cell_type": "code",
   "execution_count": 15,
   "metadata": {},
   "outputs": [
    {
     "data": {
      "text/plain": [
       "dict_keys(['f_flights', 'left', 'f_interval', 'flights', 'right', 'index'])"
      ]
     },
     "execution_count": 15,
     "metadata": {},
     "output_type": "execute_result"
    }
   ],
   "source": [
    "# Convert to column data source\n",
    "src = ColumnDataSource(delays)\n",
    "src.data.keys()"
   ]
  },
  {
   "cell_type": "markdown",
   "metadata": {},
   "source": [
    "### Add in Tooltips on Hover"
   ]
  },
  {
   "cell_type": "code",
   "execution_count": 16,
   "metadata": {},
   "outputs": [],
   "source": [
    "# Import the hover tool class\n",
    "from bokeh.models import HoverTool"
   ]
  },
  {
   "cell_type": "code",
   "execution_count": 17,
   "metadata": {},
   "outputs": [
    {
     "data": {
      "text/html": [
       "\n",
       "\n",
       "\n",
       "\n",
       "\n",
       "\n",
       "  <div class=\"bk-root\" id=\"dc151c0b-d06d-45ad-9bc9-9d7d213745bf\"></div>\n"
      ]
     },
     "metadata": {},
     "output_type": "display_data"
    },
    {
     "data": {
      "application/javascript": [
       "(function(root) {\n",
       "  function embed_document(root) {\n",
       "    \n",
       "  var docs_json = {\"8df1f710-ce03-4d14-8c6e-f1473df1bc6a\":{\"roots\":{\"references\":[{\"attributes\":{},\"id\":\"c730f566-f145-43f2-9ddc-ebf1c40c8291\",\"type\":\"UnionRenderers\"},{\"attributes\":{},\"id\":\"d2bdb9a9-0c80-43e1-9d70-f4c4e294535d\",\"type\":\"BasicTickFormatter\"},{\"attributes\":{\"callback\":null},\"id\":\"a6d3116b-3222-4beb-a4fa-e053f87d9a5f\",\"type\":\"DataRange1d\"},{\"attributes\":{\"callback\":null,\"renderers\":\"auto\",\"tooltips\":[[\"Delay\",\"@f_interval\"],[\"Num of Flights\",\"@f_flights\"]]},\"id\":\"4423bc41-5c6f-4282-af26-9d4ffdb4f988\",\"type\":\"HoverTool\"},{\"attributes\":{},\"id\":\"71d77e73-266e-43cd-bb5a-29e7d02931ee\",\"type\":\"LinearScale\"},{\"attributes\":{\"align\":\"center\",\"plot\":null,\"text\":\"Histogram of Arrival Delays\",\"text_font\":\"serif\",\"text_font_size\":{\"value\":\"20pt\"}},\"id\":\"e6358e64-d562-4dde-89cc-2e65de0622e8\",\"type\":\"Title\"},{\"attributes\":{\"overlay\":{\"id\":\"c8b0c40a-9285-48f0-8324-12dae6e6cb59\",\"type\":\"BoxAnnotation\"}},\"id\":\"7cf1dd7e-8236-4fe2-bc23-2c30d527f1d3\",\"type\":\"BoxZoomTool\"},{\"attributes\":{\"dimension\":1,\"plot\":{\"id\":\"c831cbb0-4498-4544-8473-9ebb01e430de\",\"subtype\":\"Figure\",\"type\":\"Plot\"},\"ticker\":{\"id\":\"489ff939-8d13-4c69-88c2-a28b1f591459\",\"type\":\"BasicTicker\"}},\"id\":\"8ece5971-d41b-4688-a889-9c6d3d26b7c9\",\"type\":\"Grid\"},{\"attributes\":{\"bottom_units\":\"screen\",\"fill_alpha\":{\"value\":0.5},\"fill_color\":{\"value\":\"lightgrey\"},\"left_units\":\"screen\",\"level\":\"overlay\",\"line_alpha\":{\"value\":1.0},\"line_color\":{\"value\":\"black\"},\"line_dash\":[4,4],\"line_width\":{\"value\":2},\"plot\":null,\"render_mode\":\"css\",\"right_units\":\"screen\",\"top_units\":\"screen\"},\"id\":\"c8b0c40a-9285-48f0-8324-12dae6e6cb59\",\"type\":\"BoxAnnotation\"},{\"attributes\":{},\"id\":\"cd1f194e-cb67-413a-af7f-110f9f2a724b\",\"type\":\"WheelZoomTool\"},{\"attributes\":{\"plot\":{\"id\":\"c831cbb0-4498-4544-8473-9ebb01e430de\",\"subtype\":\"Figure\",\"type\":\"Plot\"},\"ticker\":{\"id\":\"9e1d8fdc-ffea-4698-9d8f-d6e25bda9c72\",\"type\":\"BasicTicker\"}},\"id\":\"eafd9d51-a570-40ff-b185-e91c3047a541\",\"type\":\"Grid\"},{\"attributes\":{},\"id\":\"c3819219-ef5c-415e-8edf-9d8754d9867b\",\"type\":\"LinearScale\"},{\"attributes\":{\"data_source\":{\"id\":\"0b0206ac-f47c-45de-909d-dca0de71b5ba\",\"type\":\"ColumnDataSource\"},\"glyph\":{\"id\":\"66719849-c46a-4bbd-ac4a-2d2183250a40\",\"type\":\"Quad\"},\"hover_glyph\":{\"id\":\"4d03933c-0c8b-44a5-98a9-27565b03249d\",\"type\":\"Quad\"},\"muted_glyph\":null,\"nonselection_glyph\":{\"id\":\"9af1440f-e895-4afe-a1ee-699ee02cfc80\",\"type\":\"Quad\"},\"selection_glyph\":null,\"view\":{\"id\":\"aebd9bee-450e-4a78-bac5-1cf04ccf9bac\",\"type\":\"CDSView\"}},\"id\":\"4cae0261-7610-492f-b820-ff9baf3d01e6\",\"type\":\"GlyphRenderer\"},{\"attributes\":{},\"id\":\"98d9f234-76ba-444a-be92-6d4b67bdb001\",\"type\":\"Selection\"},{\"attributes\":{\"callback\":null},\"id\":\"18c5fbf4-aee1-4ed0-a2bc-2f3c0f6eb84c\",\"type\":\"DataRange1d\"},{\"attributes\":{\"callback\":null,\"data\":{\"f_flights\":[\"276 flights\",\"636 flights\",\"1394 flights\",\"2820 flights\",\"5339 flights\",\"9420 flights\",\"15551 flights\",\"23546 flights\",\"31319 flights\",\"34857 flights\",\"33790 flights\",\"29786 flights\",\"24391 flights\",\"19028 flights\",\"14894 flights\",\"11324 flights\",\"8815 flights\",\"7159 flights\",\"5908 flights\",\"4896 flights\",\"4130 flights\",\"3630 flights\",\"3139 flights\",\"2782 flights\",\"2455 flights\",\"2179 flights\",\"1973 flights\",\"1805 flights\",\"1646 flights\",\"1454 flights\",\"1360 flights\",\"1286 flights\",\"1167 flights\",\"1013 flights\",\"945 flights\",\"1000 flights\"],\"f_interval\":[\"-60 to -55 minutes\",\"-55 to -50 minutes\",\"-50 to -45 minutes\",\"-45 to -40 minutes\",\"-40 to -35 minutes\",\"-35 to -30 minutes\",\"-30 to -25 minutes\",\"-25 to -20 minutes\",\"-20 to -15 minutes\",\"-15 to -10 minutes\",\"-10 to -5 minutes\",\"-5 to 0 minutes\",\"0 to 5 minutes\",\"5 to 10 minutes\",\"10 to 15 minutes\",\"15 to 20 minutes\",\"20 to 25 minutes\",\"25 to 30 minutes\",\"30 to 35 minutes\",\"35 to 40 minutes\",\"40 to 45 minutes\",\"45 to 50 minutes\",\"50 to 55 minutes\",\"55 to 60 minutes\",\"60 to 65 minutes\",\"65 to 70 minutes\",\"70 to 75 minutes\",\"75 to 80 minutes\",\"80 to 85 minutes\",\"85 to 90 minutes\",\"90 to 95 minutes\",\"95 to 100 minutes\",\"100 to 105 minutes\",\"105 to 110 minutes\",\"110 to 115 minutes\",\"115 to 120 minutes\"],\"flights\":[276,636,1394,2820,5339,9420,15551,23546,31319,34857,33790,29786,24391,19028,14894,11324,8815,7159,5908,4896,4130,3630,3139,2782,2455,2179,1973,1805,1646,1454,1360,1286,1167,1013,945,1000],\"index\":[0,1,2,3,4,5,6,7,8,9,10,11,12,13,14,15,16,17,18,19,20,21,22,23,24,25,26,27,28,29,30,31,32,33,34,35],\"left\":{\"__ndarray__\":\"AAAAAAAATsAAAAAAAIBLwAAAAAAAAEnAAAAAAACARsAAAAAAAABEwAAAAAAAgEHAAAAAAAAAPsAAAAAAAAA5wAAAAAAAADTAAAAAAAAALsAAAAAAAAAkwAAAAAAAABTAAAAAAAAAAAAAAAAAAAAUQAAAAAAAACRAAAAAAAAALkAAAAAAAAA0QAAAAAAAADlAAAAAAAAAPkAAAAAAAIBBQAAAAAAAAERAAAAAAACARkAAAAAAAABJQAAAAAAAgEtAAAAAAAAATkAAAAAAAEBQQAAAAAAAgFFAAAAAAADAUkAAAAAAAABUQAAAAAAAQFVAAAAAAACAVkAAAAAAAMBXQAAAAAAAAFlAAAAAAABAWkAAAAAAAIBbQAAAAAAAwFxA\",\"dtype\":\"float64\",\"shape\":[36]},\"right\":{\"__ndarray__\":\"AAAAAACAS8AAAAAAAABJwAAAAAAAgEbAAAAAAAAARMAAAAAAAIBBwAAAAAAAAD7AAAAAAAAAOcAAAAAAAAA0wAAAAAAAAC7AAAAAAAAAJMAAAAAAAAAUwAAAAAAAAAAAAAAAAAAAFEAAAAAAAAAkQAAAAAAAAC5AAAAAAAAANEAAAAAAAAA5QAAAAAAAAD5AAAAAAACAQUAAAAAAAABEQAAAAAAAgEZAAAAAAAAASUAAAAAAAIBLQAAAAAAAAE5AAAAAAABAUEAAAAAAAIBRQAAAAAAAwFJAAAAAAAAAVEAAAAAAAEBVQAAAAAAAgFZAAAAAAADAV0AAAAAAAABZQAAAAAAAQFpAAAAAAACAW0AAAAAAAMBcQAAAAAAAAF5A\",\"dtype\":\"float64\",\"shape\":[36]}},\"selected\":{\"id\":\"98d9f234-76ba-444a-be92-6d4b67bdb001\",\"type\":\"Selection\"},\"selection_policy\":{\"id\":\"c730f566-f145-43f2-9ddc-ebf1c40c8291\",\"type\":\"UnionRenderers\"}},\"id\":\"0b0206ac-f47c-45de-909d-dca0de71b5ba\",\"type\":\"ColumnDataSource\"},{\"attributes\":{},\"id\":\"3246e78b-4f31-407c-beac-d6680bde8748\",\"type\":\"SaveTool\"},{\"attributes\":{\"below\":[{\"id\":\"af574566-addd-4b5c-a95f-08097d6445ad\",\"type\":\"LinearAxis\"}],\"left\":[{\"id\":\"cd7daf3f-8184-443e-a6d9-84c871e37464\",\"type\":\"LinearAxis\"}],\"renderers\":[{\"id\":\"af574566-addd-4b5c-a95f-08097d6445ad\",\"type\":\"LinearAxis\"},{\"id\":\"eafd9d51-a570-40ff-b185-e91c3047a541\",\"type\":\"Grid\"},{\"id\":\"cd7daf3f-8184-443e-a6d9-84c871e37464\",\"type\":\"LinearAxis\"},{\"id\":\"8ece5971-d41b-4688-a889-9c6d3d26b7c9\",\"type\":\"Grid\"},{\"id\":\"c8b0c40a-9285-48f0-8324-12dae6e6cb59\",\"type\":\"BoxAnnotation\"},{\"id\":\"4cae0261-7610-492f-b820-ff9baf3d01e6\",\"type\":\"GlyphRenderer\"}],\"title\":{\"id\":\"e6358e64-d562-4dde-89cc-2e65de0622e8\",\"type\":\"Title\"},\"toolbar\":{\"id\":\"e715f25c-7c5e-49a1-af5e-30f2402eac0a\",\"type\":\"Toolbar\"},\"x_range\":{\"id\":\"18c5fbf4-aee1-4ed0-a2bc-2f3c0f6eb84c\",\"type\":\"DataRange1d\"},\"x_scale\":{\"id\":\"71d77e73-266e-43cd-bb5a-29e7d02931ee\",\"type\":\"LinearScale\"},\"y_range\":{\"id\":\"a6d3116b-3222-4beb-a4fa-e053f87d9a5f\",\"type\":\"DataRange1d\"},\"y_scale\":{\"id\":\"c3819219-ef5c-415e-8edf-9d8754d9867b\",\"type\":\"LinearScale\"}},\"id\":\"c831cbb0-4498-4544-8473-9ebb01e430de\",\"subtype\":\"Figure\",\"type\":\"Plot\"},{\"attributes\":{},\"id\":\"8080a34a-40f1-469b-8d94-01aeaaea6a80\",\"type\":\"PanTool\"},{\"attributes\":{\"active_drag\":\"auto\",\"active_inspect\":\"auto\",\"active_multi\":null,\"active_scroll\":\"auto\",\"active_tap\":\"auto\",\"tools\":[{\"id\":\"8080a34a-40f1-469b-8d94-01aeaaea6a80\",\"type\":\"PanTool\"},{\"id\":\"cd1f194e-cb67-413a-af7f-110f9f2a724b\",\"type\":\"WheelZoomTool\"},{\"id\":\"7cf1dd7e-8236-4fe2-bc23-2c30d527f1d3\",\"type\":\"BoxZoomTool\"},{\"id\":\"3246e78b-4f31-407c-beac-d6680bde8748\",\"type\":\"SaveTool\"},{\"id\":\"9d1a33a1-241b-44a6-987d-7fe1acc947e3\",\"type\":\"ResetTool\"},{\"id\":\"47b4814a-55b6-4f02-8e90-05e1375d5707\",\"type\":\"HelpTool\"},{\"id\":\"4423bc41-5c6f-4282-af26-9d4ffdb4f988\",\"type\":\"HoverTool\"}]},\"id\":\"e715f25c-7c5e-49a1-af5e-30f2402eac0a\",\"type\":\"Toolbar\"},{\"attributes\":{\"axis_label\":\"Delay (min)\",\"axis_label_text_font_size\":{\"value\":\"14pt\"},\"axis_label_text_font_style\":\"bold\",\"formatter\":{\"id\":\"d2bdb9a9-0c80-43e1-9d70-f4c4e294535d\",\"type\":\"BasicTickFormatter\"},\"major_label_text_font_size\":{\"value\":\"12pt\"},\"plot\":{\"id\":\"c831cbb0-4498-4544-8473-9ebb01e430de\",\"subtype\":\"Figure\",\"type\":\"Plot\"},\"ticker\":{\"id\":\"9e1d8fdc-ffea-4698-9d8f-d6e25bda9c72\",\"type\":\"BasicTicker\"}},\"id\":\"af574566-addd-4b5c-a95f-08097d6445ad\",\"type\":\"LinearAxis\"},{\"attributes\":{},\"id\":\"9d1a33a1-241b-44a6-987d-7fe1acc947e3\",\"type\":\"ResetTool\"},{\"attributes\":{\"bottom\":{\"value\":0},\"fill_alpha\":{\"value\":0.75},\"fill_color\":{\"value\":\"red\"},\"left\":{\"field\":\"left\"},\"right\":{\"field\":\"right\"},\"top\":{\"field\":\"flights\"}},\"id\":\"66719849-c46a-4bbd-ac4a-2d2183250a40\",\"type\":\"Quad\"},{\"attributes\":{\"source\":{\"id\":\"0b0206ac-f47c-45de-909d-dca0de71b5ba\",\"type\":\"ColumnDataSource\"}},\"id\":\"aebd9bee-450e-4a78-bac5-1cf04ccf9bac\",\"type\":\"CDSView\"},{\"attributes\":{\"bottom\":{\"value\":0},\"fill_color\":{\"value\":\"navy\"},\"left\":{\"field\":\"left\"},\"line_color\":{\"value\":\"#1f77b4\"},\"right\":{\"field\":\"right\"},\"top\":{\"field\":\"flights\"}},\"id\":\"4d03933c-0c8b-44a5-98a9-27565b03249d\",\"type\":\"Quad\"},{\"attributes\":{\"axis_label\":\"Number of Flights\",\"axis_label_text_font_size\":{\"value\":\"14pt\"},\"axis_label_text_font_style\":\"bold\",\"formatter\":{\"id\":\"e39ed9c5-0029-4f28-8dcd-5badd59e46f9\",\"type\":\"BasicTickFormatter\"},\"major_label_text_font_size\":{\"value\":\"12pt\"},\"plot\":{\"id\":\"c831cbb0-4498-4544-8473-9ebb01e430de\",\"subtype\":\"Figure\",\"type\":\"Plot\"},\"ticker\":{\"id\":\"489ff939-8d13-4c69-88c2-a28b1f591459\",\"type\":\"BasicTicker\"}},\"id\":\"cd7daf3f-8184-443e-a6d9-84c871e37464\",\"type\":\"LinearAxis\"},{\"attributes\":{},\"id\":\"9e1d8fdc-ffea-4698-9d8f-d6e25bda9c72\",\"type\":\"BasicTicker\"},{\"attributes\":{},\"id\":\"47b4814a-55b6-4f02-8e90-05e1375d5707\",\"type\":\"HelpTool\"},{\"attributes\":{},\"id\":\"489ff939-8d13-4c69-88c2-a28b1f591459\",\"type\":\"BasicTicker\"},{\"attributes\":{},\"id\":\"e39ed9c5-0029-4f28-8dcd-5badd59e46f9\",\"type\":\"BasicTickFormatter\"},{\"attributes\":{\"bottom\":{\"value\":0},\"fill_alpha\":{\"value\":0.1},\"fill_color\":{\"value\":\"#1f77b4\"},\"left\":{\"field\":\"left\"},\"line_alpha\":{\"value\":0.1},\"line_color\":{\"value\":\"#1f77b4\"},\"right\":{\"field\":\"right\"},\"top\":{\"field\":\"flights\"}},\"id\":\"9af1440f-e895-4afe-a1ee-699ee02cfc80\",\"type\":\"Quad\"}],\"root_ids\":[\"c831cbb0-4498-4544-8473-9ebb01e430de\"]},\"title\":\"Bokeh Application\",\"version\":\"0.13.0\"}};\n",
       "  var render_items = [{\"docid\":\"8df1f710-ce03-4d14-8c6e-f1473df1bc6a\",\"roots\":{\"c831cbb0-4498-4544-8473-9ebb01e430de\":\"dc151c0b-d06d-45ad-9bc9-9d7d213745bf\"}}];\n",
       "  root.Bokeh.embed.embed_items_notebook(docs_json, render_items);\n",
       "\n",
       "  }\n",
       "  if (root.Bokeh !== undefined) {\n",
       "    embed_document(root);\n",
       "  } else {\n",
       "    var attempts = 0;\n",
       "    var timer = setInterval(function(root) {\n",
       "      if (root.Bokeh !== undefined) {\n",
       "        embed_document(root);\n",
       "        clearInterval(timer);\n",
       "      }\n",
       "      attempts++;\n",
       "      if (attempts > 100) {\n",
       "        console.log(\"Bokeh: ERROR: Unable to run BokehJS code because BokehJS library is missing\")\n",
       "        clearInterval(timer);\n",
       "      }\n",
       "    }, 10, root)\n",
       "  }\n",
       "})(window);"
      ],
      "application/vnd.bokehjs_exec.v0+json": ""
     },
     "metadata": {
      "application/vnd.bokehjs_exec.v0+json": {
       "id": "c831cbb0-4498-4544-8473-9ebb01e430de"
      }
     },
     "output_type": "display_data"
    }
   ],
   "source": [
    "# Create the blank plot\n",
    "p = figure(plot_height = 600, plot_width = 600, \n",
    "           title = 'Histogram of Arrival Delays',\n",
    "          x_axis_label = 'Delay (min)', \n",
    "           y_axis_label = 'Number of Flights')\n",
    "\n",
    "# Add a quad glyph with source this time\n",
    "p.quad(bottom=0, top='flights', left='left', right='right', source=src,\n",
    "       fill_color='red', line_color='black', fill_alpha = 0.75,\n",
    "       hover_fill_alpha = 1.0, hover_fill_color = 'navy')\n",
    "\n",
    "# Add a hover tool referring to the formatted columns\n",
    "hover = HoverTool(tooltips = [('Delay', '@f_interval'),\n",
    "                             ('Num of Flights', '@f_flights')])\n",
    "\n",
    "# Style the plot\n",
    "p = style(p)\n",
    "\n",
    "# Add the hover tool to the graph\n",
    "p.add_tools(hover)\n",
    "\n",
    "# Show the plot\n",
    "show(p)"
   ]
  },
  {
   "cell_type": "markdown",
   "metadata": {},
   "source": [
    "### Save the Plot"
   ]
  },
  {
   "cell_type": "markdown",
   "metadata": {},
   "source": [
    "## Delay Proportion by Carrier"
   ]
  },
  {
   "cell_type": "code",
   "execution_count": 18,
   "metadata": {},
   "outputs": [],
   "source": [
    "# Group by the carrier to find the most common\n",
    "carrier_nums = flights.groupby('carrier')['year'].count().sort_values(ascending=False)"
   ]
  },
  {
   "cell_type": "code",
   "execution_count": 19,
   "metadata": {},
   "outputs": [
    {
     "data": {
      "text/plain": [
       "carrier\n",
       "UA    57782\n",
       "B6    54049\n",
       "EV    51108\n",
       "DL    47658\n",
       "AA    31947\n",
       "MQ    25037\n",
       "US    19831\n",
       "9E    17294\n",
       "WN    12044\n",
       "VX     5116\n",
       "FL     3175\n",
       "AS      709\n",
       "F9      681\n",
       "YV      544\n",
       "HA      342\n",
       "OO       29\n",
       "Name: year, dtype: int64"
      ]
     },
     "execution_count": 19,
     "metadata": {},
     "output_type": "execute_result"
    }
   ],
   "source": [
    "carrier_nums"
   ]
  },
  {
   "cell_type": "code",
   "execution_count": 20,
   "metadata": {},
   "outputs": [],
   "source": [
    "# Subset to the 8 most common carriers\n",
    "flights = flights[flights['carrier'].isin(carrier_nums.index[:5])]\n",
    "\n",
    "# Subset to only [-2, +2] hour delays\n",
    "flights = flights[(flights['arr_delay'] >= -120) & (flights['arr_delay'] <= 120)]"
   ]
  },
  {
   "cell_type": "markdown",
   "metadata": {},
   "source": [
    "### Find actual carrier names\n",
    "and merge them onto flights dataset"
   ]
  },
  {
   "cell_type": "code",
   "execution_count": 23,
   "metadata": {},
   "outputs": [
    {
     "data": {
      "text/html": [
       "<div>\n",
       "<style scoped>\n",
       "    .dataframe tbody tr th:only-of-type {\n",
       "        vertical-align: middle;\n",
       "    }\n",
       "\n",
       "    .dataframe tbody tr th {\n",
       "        vertical-align: top;\n",
       "    }\n",
       "\n",
       "    .dataframe thead th {\n",
       "        text-align: right;\n",
       "    }\n",
       "</style>\n",
       "<table border=\"1\" class=\"dataframe\">\n",
       "  <thead>\n",
       "    <tr style=\"text-align: right;\">\n",
       "      <th></th>\n",
       "      <th>carrier</th>\n",
       "      <th>name</th>\n",
       "    </tr>\n",
       "  </thead>\n",
       "  <tbody>\n",
       "    <tr>\n",
       "      <th>1</th>\n",
       "      <td>9E</td>\n",
       "      <td>Endeavor Air Inc.</td>\n",
       "    </tr>\n",
       "    <tr>\n",
       "      <th>2</th>\n",
       "      <td>AA</td>\n",
       "      <td>American Airlines Inc.</td>\n",
       "    </tr>\n",
       "    <tr>\n",
       "      <th>3</th>\n",
       "      <td>AS</td>\n",
       "      <td>Alaska Airlines Inc.</td>\n",
       "    </tr>\n",
       "    <tr>\n",
       "      <th>4</th>\n",
       "      <td>B6</td>\n",
       "      <td>JetBlue Airways</td>\n",
       "    </tr>\n",
       "    <tr>\n",
       "      <th>5</th>\n",
       "      <td>DL</td>\n",
       "      <td>Delta Air Lines Inc.</td>\n",
       "    </tr>\n",
       "  </tbody>\n",
       "</table>\n",
       "</div>"
      ],
      "text/plain": [
       "  carrier                    name\n",
       "1      9E       Endeavor Air Inc.\n",
       "2      AA  American Airlines Inc.\n",
       "3      AS    Alaska Airlines Inc.\n",
       "4      B6         JetBlue Airways\n",
       "5      DL    Delta Air Lines Inc."
      ]
     },
     "execution_count": 23,
     "metadata": {},
     "output_type": "execute_result"
    }
   ],
   "source": [
    "# Upload carrier names file\n",
    "carrier_names = pd.read_csv('../../data/airlines.csv')\n",
    "carrier_names.head()"
   ]
  },
  {
   "cell_type": "code",
   "execution_count": 24,
   "metadata": {},
   "outputs": [
    {
     "data": {
      "text/html": [
       "<div>\n",
       "<style scoped>\n",
       "    .dataframe tbody tr th:only-of-type {\n",
       "        vertical-align: middle;\n",
       "    }\n",
       "\n",
       "    .dataframe tbody tr th {\n",
       "        vertical-align: top;\n",
       "    }\n",
       "\n",
       "    .dataframe thead th {\n",
       "        text-align: right;\n",
       "    }\n",
       "</style>\n",
       "<table border=\"1\" class=\"dataframe\">\n",
       "  <thead>\n",
       "    <tr style=\"text-align: right;\">\n",
       "      <th></th>\n",
       "      <th>year</th>\n",
       "      <th>month</th>\n",
       "      <th>day</th>\n",
       "      <th>dep_time</th>\n",
       "      <th>sched_dep_time</th>\n",
       "      <th>dep_delay</th>\n",
       "      <th>arr_time</th>\n",
       "      <th>sched_arr_time</th>\n",
       "      <th>arr_delay</th>\n",
       "      <th>carrier</th>\n",
       "      <th>flight</th>\n",
       "      <th>tailnum</th>\n",
       "      <th>origin</th>\n",
       "      <th>dest</th>\n",
       "      <th>air_time</th>\n",
       "      <th>distance</th>\n",
       "      <th>hour</th>\n",
       "      <th>minute</th>\n",
       "      <th>time_hour</th>\n",
       "      <th>name</th>\n",
       "    </tr>\n",
       "  </thead>\n",
       "  <tbody>\n",
       "    <tr>\n",
       "      <th>0</th>\n",
       "      <td>2013</td>\n",
       "      <td>1</td>\n",
       "      <td>1</td>\n",
       "      <td>517.0</td>\n",
       "      <td>515</td>\n",
       "      <td>2.0</td>\n",
       "      <td>830.0</td>\n",
       "      <td>819</td>\n",
       "      <td>11.0</td>\n",
       "      <td>UA</td>\n",
       "      <td>1545</td>\n",
       "      <td>N14228</td>\n",
       "      <td>EWR</td>\n",
       "      <td>IAH</td>\n",
       "      <td>227.0</td>\n",
       "      <td>1400</td>\n",
       "      <td>5</td>\n",
       "      <td>15</td>\n",
       "      <td>2013-01-01 05:00:00</td>\n",
       "      <td>United Air Lines Inc.</td>\n",
       "    </tr>\n",
       "    <tr>\n",
       "      <th>1</th>\n",
       "      <td>2013</td>\n",
       "      <td>1</td>\n",
       "      <td>1</td>\n",
       "      <td>533.0</td>\n",
       "      <td>529</td>\n",
       "      <td>4.0</td>\n",
       "      <td>850.0</td>\n",
       "      <td>830</td>\n",
       "      <td>20.0</td>\n",
       "      <td>UA</td>\n",
       "      <td>1714</td>\n",
       "      <td>N24211</td>\n",
       "      <td>LGA</td>\n",
       "      <td>IAH</td>\n",
       "      <td>227.0</td>\n",
       "      <td>1416</td>\n",
       "      <td>5</td>\n",
       "      <td>29</td>\n",
       "      <td>2013-01-01 05:00:00</td>\n",
       "      <td>United Air Lines Inc.</td>\n",
       "    </tr>\n",
       "    <tr>\n",
       "      <th>2</th>\n",
       "      <td>2013</td>\n",
       "      <td>1</td>\n",
       "      <td>1</td>\n",
       "      <td>542.0</td>\n",
       "      <td>540</td>\n",
       "      <td>2.0</td>\n",
       "      <td>923.0</td>\n",
       "      <td>850</td>\n",
       "      <td>33.0</td>\n",
       "      <td>AA</td>\n",
       "      <td>1141</td>\n",
       "      <td>N619AA</td>\n",
       "      <td>JFK</td>\n",
       "      <td>MIA</td>\n",
       "      <td>160.0</td>\n",
       "      <td>1089</td>\n",
       "      <td>5</td>\n",
       "      <td>40</td>\n",
       "      <td>2013-01-01 05:00:00</td>\n",
       "      <td>American Airlines Inc.</td>\n",
       "    </tr>\n",
       "    <tr>\n",
       "      <th>3</th>\n",
       "      <td>2013</td>\n",
       "      <td>1</td>\n",
       "      <td>1</td>\n",
       "      <td>544.0</td>\n",
       "      <td>545</td>\n",
       "      <td>-1.0</td>\n",
       "      <td>1004.0</td>\n",
       "      <td>1022</td>\n",
       "      <td>-18.0</td>\n",
       "      <td>B6</td>\n",
       "      <td>725</td>\n",
       "      <td>N804JB</td>\n",
       "      <td>JFK</td>\n",
       "      <td>BQN</td>\n",
       "      <td>183.0</td>\n",
       "      <td>1576</td>\n",
       "      <td>5</td>\n",
       "      <td>45</td>\n",
       "      <td>2013-01-01 05:00:00</td>\n",
       "      <td>JetBlue Airways</td>\n",
       "    </tr>\n",
       "    <tr>\n",
       "      <th>4</th>\n",
       "      <td>2013</td>\n",
       "      <td>1</td>\n",
       "      <td>1</td>\n",
       "      <td>554.0</td>\n",
       "      <td>600</td>\n",
       "      <td>-6.0</td>\n",
       "      <td>812.0</td>\n",
       "      <td>837</td>\n",
       "      <td>-25.0</td>\n",
       "      <td>DL</td>\n",
       "      <td>461</td>\n",
       "      <td>N668DN</td>\n",
       "      <td>LGA</td>\n",
       "      <td>ATL</td>\n",
       "      <td>116.0</td>\n",
       "      <td>762</td>\n",
       "      <td>6</td>\n",
       "      <td>0</td>\n",
       "      <td>2013-01-01 06:00:00</td>\n",
       "      <td>Delta Air Lines Inc.</td>\n",
       "    </tr>\n",
       "  </tbody>\n",
       "</table>\n",
       "</div>"
      ],
      "text/plain": [
       "   year  month  day  dep_time  sched_dep_time  dep_delay  arr_time  \\\n",
       "0  2013      1    1     517.0             515        2.0     830.0   \n",
       "1  2013      1    1     533.0             529        4.0     850.0   \n",
       "2  2013      1    1     542.0             540        2.0     923.0   \n",
       "3  2013      1    1     544.0             545       -1.0    1004.0   \n",
       "4  2013      1    1     554.0             600       -6.0     812.0   \n",
       "\n",
       "   sched_arr_time  arr_delay carrier  flight tailnum origin dest  air_time  \\\n",
       "0             819       11.0      UA    1545  N14228    EWR  IAH     227.0   \n",
       "1             830       20.0      UA    1714  N24211    LGA  IAH     227.0   \n",
       "2             850       33.0      AA    1141  N619AA    JFK  MIA     160.0   \n",
       "3            1022      -18.0      B6     725  N804JB    JFK  BQN     183.0   \n",
       "4             837      -25.0      DL     461  N668DN    LGA  ATL     116.0   \n",
       "\n",
       "   distance  hour  minute            time_hour                    name  \n",
       "0      1400     5      15  2013-01-01 05:00:00   United Air Lines Inc.  \n",
       "1      1416     5      29  2013-01-01 05:00:00   United Air Lines Inc.  \n",
       "2      1089     5      40  2013-01-01 05:00:00  American Airlines Inc.  \n",
       "3      1576     5      45  2013-01-01 05:00:00         JetBlue Airways  \n",
       "4       762     6       0  2013-01-01 06:00:00    Delta Air Lines Inc.  "
      ]
     },
     "execution_count": 24,
     "metadata": {},
     "output_type": "execute_result"
    }
   ],
   "source": [
    "# Merge carrier_names \"on\" carrier column in flights data\n",
    "flights = flights.merge(carrier_names, how = 'left', on = 'carrier')\n",
    "flights.head()"
   ]
  },
  {
   "cell_type": "markdown",
   "metadata": {},
   "source": [
    "## Making the dataset\n",
    "The following takes the list of carriers that we want to include, the minimum and maximum delays to be plotter, and the specified bin width in minutes"
   ]
  },
  {
   "cell_type": "code",
   "execution_count": 25,
   "metadata": {},
   "outputs": [
    {
     "name": "stderr",
     "output_type": "stream",
     "text": [
      "/Users/jonahgolden/anaconda3/lib/python3.5/site-packages/pandas/core/frame.py:6211: FutureWarning: Sorting because non-concatenation axis is not aligned. A future version\n",
      "of pandas will change to not sort by default.\n",
      "\n",
      "To accept the future behavior, pass 'sort=False'.\n",
      "\n",
      "To retain the current behavior and silence the warning, pass 'sort=True'.\n",
      "\n",
      "  sort=sort)\n"
     ]
    }
   ],
   "source": [
    "from bokeh.palettes import Category10_5\n",
    "\n",
    "by_carrier = pd.DataFrame(columns=['proportion', 'left', 'right', \n",
    "                                   'f_proportion', 'f_interval',\n",
    "                                   'name', 'color'])\n",
    "\n",
    "# Iterate through all the carriers\n",
    "for i, carrier_name in enumerate(flights['name'].unique()):\n",
    "    \n",
    "    # Subset to the carrier\n",
    "    subset = flights[flights['name'] == carrier_name]\n",
    "    \n",
    "    # Create a histogram with 5 minute bins\n",
    "    arr_hist, edges = np.histogram(subset['arr_delay'], bins = int(240/5), range = [-120, 120])\n",
    "    \n",
    "    # Divide the counts by the total to get a proportion\n",
    "    arr_df = pd.DataFrame({'proportion': arr_hist / np.sum(arr_hist), 'left': edges[:-1], 'right': edges[1:] })\n",
    "    \n",
    "    # Format the proportion \n",
    "    arr_df['f_proportion'] = ['%0.5f' % proportion for proportion in arr_df['proportion']]\n",
    "    \n",
    "    # Format the interval\n",
    "    arr_df['f_interval'] = ['%d to %d minutes' % (left, right) for left, right in zip(arr_df['left'], arr_df['right'])]\n",
    "    \n",
    "    # Assign the carrier for labels\n",
    "    arr_df['name'] = carrier_name\n",
    "    \n",
    "    # Color each carrier differently\n",
    "    arr_df['color'] = Category10_5[i]\n",
    "\n",
    "    # Add to the overall dataframe\n",
    "    by_carrier = by_carrier.append(arr_df)\n",
    "    \n",
    "# Overall dataframe\n",
    "by_carrier = by_carrier.sort_values(['name', 'left'])"
   ]
  },
  {
   "cell_type": "code",
   "execution_count": 26,
   "metadata": {},
   "outputs": [
    {
     "data": {
      "text/html": [
       "<div>\n",
       "<style scoped>\n",
       "    .dataframe tbody tr th:only-of-type {\n",
       "        vertical-align: middle;\n",
       "    }\n",
       "\n",
       "    .dataframe tbody tr th {\n",
       "        vertical-align: top;\n",
       "    }\n",
       "\n",
       "    .dataframe thead th {\n",
       "        text-align: right;\n",
       "    }\n",
       "</style>\n",
       "<table border=\"1\" class=\"dataframe\">\n",
       "  <thead>\n",
       "    <tr style=\"text-align: right;\">\n",
       "      <th></th>\n",
       "      <th>color</th>\n",
       "      <th>f_interval</th>\n",
       "      <th>f_proportion</th>\n",
       "      <th>left</th>\n",
       "      <th>name</th>\n",
       "      <th>proportion</th>\n",
       "      <th>right</th>\n",
       "    </tr>\n",
       "  </thead>\n",
       "  <tbody>\n",
       "    <tr>\n",
       "      <th>0</th>\n",
       "      <td>#ff7f0e</td>\n",
       "      <td>-120 to -115 minutes</td>\n",
       "      <td>0.00000</td>\n",
       "      <td>-120.0</td>\n",
       "      <td>American Airlines Inc.</td>\n",
       "      <td>0.0</td>\n",
       "      <td>-115.0</td>\n",
       "    </tr>\n",
       "    <tr>\n",
       "      <th>1</th>\n",
       "      <td>#ff7f0e</td>\n",
       "      <td>-115 to -110 minutes</td>\n",
       "      <td>0.00000</td>\n",
       "      <td>-115.0</td>\n",
       "      <td>American Airlines Inc.</td>\n",
       "      <td>0.0</td>\n",
       "      <td>-110.0</td>\n",
       "    </tr>\n",
       "    <tr>\n",
       "      <th>2</th>\n",
       "      <td>#ff7f0e</td>\n",
       "      <td>-110 to -105 minutes</td>\n",
       "      <td>0.00000</td>\n",
       "      <td>-110.0</td>\n",
       "      <td>American Airlines Inc.</td>\n",
       "      <td>0.0</td>\n",
       "      <td>-105.0</td>\n",
       "    </tr>\n",
       "    <tr>\n",
       "      <th>3</th>\n",
       "      <td>#ff7f0e</td>\n",
       "      <td>-105 to -100 minutes</td>\n",
       "      <td>0.00000</td>\n",
       "      <td>-105.0</td>\n",
       "      <td>American Airlines Inc.</td>\n",
       "      <td>0.0</td>\n",
       "      <td>-100.0</td>\n",
       "    </tr>\n",
       "    <tr>\n",
       "      <th>4</th>\n",
       "      <td>#ff7f0e</td>\n",
       "      <td>-100 to -95 minutes</td>\n",
       "      <td>0.00000</td>\n",
       "      <td>-100.0</td>\n",
       "      <td>American Airlines Inc.</td>\n",
       "      <td>0.0</td>\n",
       "      <td>-95.0</td>\n",
       "    </tr>\n",
       "  </tbody>\n",
       "</table>\n",
       "</div>"
      ],
      "text/plain": [
       "     color            f_interval f_proportion   left                    name  \\\n",
       "0  #ff7f0e  -120 to -115 minutes      0.00000 -120.0  American Airlines Inc.   \n",
       "1  #ff7f0e  -115 to -110 minutes      0.00000 -115.0  American Airlines Inc.   \n",
       "2  #ff7f0e  -110 to -105 minutes      0.00000 -110.0  American Airlines Inc.   \n",
       "3  #ff7f0e  -105 to -100 minutes      0.00000 -105.0  American Airlines Inc.   \n",
       "4  #ff7f0e   -100 to -95 minutes      0.00000 -100.0  American Airlines Inc.   \n",
       "\n",
       "   proportion  right  \n",
       "0         0.0 -115.0  \n",
       "1         0.0 -110.0  \n",
       "2         0.0 -105.0  \n",
       "3         0.0 -100.0  \n",
       "4         0.0  -95.0  "
      ]
     },
     "execution_count": 26,
     "metadata": {},
     "output_type": "execute_result"
    }
   ],
   "source": [
    "by_carrier.head()"
   ]
  },
  {
   "cell_type": "code",
   "execution_count": 27,
   "metadata": {},
   "outputs": [],
   "source": [
    "# Make ColumnDataSource date\n",
    "by_carrier_src = ColumnDataSource(by_carrier)"
   ]
  },
  {
   "cell_type": "code",
   "execution_count": 29,
   "metadata": {},
   "outputs": [
    {
     "data": {
      "text/html": [
       "\n",
       "\n",
       "\n",
       "\n",
       "\n",
       "\n",
       "  <div class=\"bk-root\" id=\"55e78388-9488-4d1a-8f5c-058bbb0fc766\"></div>\n"
      ]
     },
     "metadata": {},
     "output_type": "display_data"
    },
    {
     "data": {
      "application/javascript": [
       "(function(root) {\n",
       "  function embed_document(root) {\n",
       "    \n",
       "  var docs_json = {\"21de1552-e6f4-438d-9d73-2b4c8d56a621\":{\"roots\":{\"references\":[{\"attributes\":{},\"id\":\"f8beb276-a409-4ad1-8458-418700ec0b14\",\"type\":\"PanTool\"},{\"attributes\":{\"active_drag\":\"auto\",\"active_inspect\":\"auto\",\"active_multi\":null,\"active_scroll\":\"auto\",\"active_tap\":\"auto\",\"tools\":[{\"id\":\"f8beb276-a409-4ad1-8458-418700ec0b14\",\"type\":\"PanTool\"},{\"id\":\"06acfef7-868c-481f-8720-16e8ddbbdf99\",\"type\":\"WheelZoomTool\"},{\"id\":\"63f5c781-8d9e-4105-be4e-93c9e7ed5bfc\",\"type\":\"BoxZoomTool\"},{\"id\":\"eb05d1e6-9157-41ea-bfef-9d191487ee2b\",\"type\":\"SaveTool\"},{\"id\":\"9fb59551-0274-475d-82f9-a23b9b9caffe\",\"type\":\"ResetTool\"},{\"id\":\"9e98e569-4c8b-44bf-a35c-304b5c3d3c50\",\"type\":\"HelpTool\"},{\"id\":\"2fab0cc2-1183-4666-bc5d-26a6e7db2ac6\",\"type\":\"HoverTool\"}]},\"id\":\"37875872-b842-4185-9792-1e76ae9b076a\",\"type\":\"Toolbar\"},{\"attributes\":{\"data_source\":{\"id\":\"61d9e677-0e60-41a9-983d-2d0cbd4fafc1\",\"type\":\"ColumnDataSource\"},\"glyph\":{\"id\":\"1cd5061b-7749-47f8-80d4-f7bb77446d00\",\"type\":\"Quad\"},\"hover_glyph\":{\"id\":\"c5f31028-35cc-400d-908a-d003486b36d0\",\"type\":\"Quad\"},\"muted_glyph\":null,\"nonselection_glyph\":{\"id\":\"f6777081-e24b-43bf-8806-d837deed5072\",\"type\":\"Quad\"},\"selection_glyph\":null,\"view\":{\"id\":\"fa4fe281-51d2-4d28-bb2e-5d59584bf3ca\",\"type\":\"CDSView\"}},\"id\":\"9073c6a5-13ec-436f-885b-d1904c0aa2c7\",\"type\":\"GlyphRenderer\"},{\"attributes\":{\"bottom\":{\"value\":0},\"fill_color\":{\"field\":\"color\"},\"left\":{\"field\":\"left\"},\"line_color\":{\"value\":\"#1f77b4\"},\"right\":{\"field\":\"right\"},\"top\":{\"field\":\"proportion\"}},\"id\":\"c5f31028-35cc-400d-908a-d003486b36d0\",\"type\":\"Quad\"},{\"attributes\":{\"axis_label\":\"Arrival Delay (min)\",\"axis_label_text_font_size\":{\"value\":\"14pt\"},\"axis_label_text_font_style\":\"bold\",\"formatter\":{\"id\":\"f3769f26-7057-494f-b6ee-1ca465261d12\",\"type\":\"BasicTickFormatter\"},\"major_label_text_font_size\":{\"value\":\"12pt\"},\"plot\":{\"id\":\"05cbf465-cbaa-4033-8ed6-9fb602fa8a36\",\"subtype\":\"Figure\",\"type\":\"Plot\"},\"ticker\":{\"id\":\"d9b63bad-b0e2-4635-b3a2-bf48b1d9882d\",\"type\":\"BasicTicker\"}},\"id\":\"0279b579-e0e4-4dea-9f7a-921389810075\",\"type\":\"LinearAxis\"},{\"attributes\":{},\"id\":\"e712009c-b93f-4839-8ef0-3fc0ab8233c0\",\"type\":\"UnionRenderers\"},{\"attributes\":{},\"id\":\"9e98e569-4c8b-44bf-a35c-304b5c3d3c50\",\"type\":\"HelpTool\"},{\"attributes\":{},\"id\":\"d9b63bad-b0e2-4635-b3a2-bf48b1d9882d\",\"type\":\"BasicTicker\"},{\"attributes\":{},\"id\":\"06acfef7-868c-481f-8720-16e8ddbbdf99\",\"type\":\"WheelZoomTool\"},{\"attributes\":{\"label\":{\"field\":\"name\"},\"renderers\":[{\"id\":\"9073c6a5-13ec-436f-885b-d1904c0aa2c7\",\"type\":\"GlyphRenderer\"}]},\"id\":\"eb0d353b-eb8d-4f19-875a-0f68b68586ad\",\"type\":\"LegendItem\"},{\"attributes\":{\"callback\":null,\"data\":{\"color\":[\"#ff7f0e\",\"#ff7f0e\",\"#ff7f0e\",\"#ff7f0e\",\"#ff7f0e\",\"#ff7f0e\",\"#ff7f0e\",\"#ff7f0e\",\"#ff7f0e\",\"#ff7f0e\",\"#ff7f0e\",\"#ff7f0e\",\"#ff7f0e\",\"#ff7f0e\",\"#ff7f0e\",\"#ff7f0e\",\"#ff7f0e\",\"#ff7f0e\",\"#ff7f0e\",\"#ff7f0e\",\"#ff7f0e\",\"#ff7f0e\",\"#ff7f0e\",\"#ff7f0e\",\"#ff7f0e\",\"#ff7f0e\",\"#ff7f0e\",\"#ff7f0e\",\"#ff7f0e\",\"#ff7f0e\",\"#ff7f0e\",\"#ff7f0e\",\"#ff7f0e\",\"#ff7f0e\",\"#ff7f0e\",\"#ff7f0e\",\"#ff7f0e\",\"#ff7f0e\",\"#ff7f0e\",\"#ff7f0e\",\"#ff7f0e\",\"#ff7f0e\",\"#ff7f0e\",\"#ff7f0e\",\"#ff7f0e\",\"#ff7f0e\",\"#ff7f0e\",\"#ff7f0e\",\"#d62728\",\"#d62728\",\"#d62728\",\"#d62728\",\"#d62728\",\"#d62728\",\"#d62728\",\"#d62728\",\"#d62728\",\"#d62728\",\"#d62728\",\"#d62728\",\"#d62728\",\"#d62728\",\"#d62728\",\"#d62728\",\"#d62728\",\"#d62728\",\"#d62728\",\"#d62728\",\"#d62728\",\"#d62728\",\"#d62728\",\"#d62728\",\"#d62728\",\"#d62728\",\"#d62728\",\"#d62728\",\"#d62728\",\"#d62728\",\"#d62728\",\"#d62728\",\"#d62728\",\"#d62728\",\"#d62728\",\"#d62728\",\"#d62728\",\"#d62728\",\"#d62728\",\"#d62728\",\"#d62728\",\"#d62728\",\"#d62728\",\"#d62728\",\"#d62728\",\"#d62728\",\"#d62728\",\"#d62728\",\"#9467bd\",\"#9467bd\",\"#9467bd\",\"#9467bd\",\"#9467bd\",\"#9467bd\",\"#9467bd\",\"#9467bd\",\"#9467bd\",\"#9467bd\",\"#9467bd\",\"#9467bd\",\"#9467bd\",\"#9467bd\",\"#9467bd\",\"#9467bd\",\"#9467bd\",\"#9467bd\",\"#9467bd\",\"#9467bd\",\"#9467bd\",\"#9467bd\",\"#9467bd\",\"#9467bd\",\"#9467bd\",\"#9467bd\",\"#9467bd\",\"#9467bd\",\"#9467bd\",\"#9467bd\",\"#9467bd\",\"#9467bd\",\"#9467bd\",\"#9467bd\",\"#9467bd\",\"#9467bd\",\"#9467bd\",\"#9467bd\",\"#9467bd\",\"#9467bd\",\"#9467bd\",\"#9467bd\",\"#9467bd\",\"#9467bd\",\"#9467bd\",\"#9467bd\",\"#9467bd\",\"#9467bd\",\"#2ca02c\",\"#2ca02c\",\"#2ca02c\",\"#2ca02c\",\"#2ca02c\",\"#2ca02c\",\"#2ca02c\",\"#2ca02c\",\"#2ca02c\",\"#2ca02c\",\"#2ca02c\",\"#2ca02c\",\"#2ca02c\",\"#2ca02c\",\"#2ca02c\",\"#2ca02c\",\"#2ca02c\",\"#2ca02c\",\"#2ca02c\",\"#2ca02c\",\"#2ca02c\",\"#2ca02c\",\"#2ca02c\",\"#2ca02c\",\"#2ca02c\",\"#2ca02c\",\"#2ca02c\",\"#2ca02c\",\"#2ca02c\",\"#2ca02c\",\"#2ca02c\",\"#2ca02c\",\"#2ca02c\",\"#2ca02c\",\"#2ca02c\",\"#2ca02c\",\"#2ca02c\",\"#2ca02c\",\"#2ca02c\",\"#2ca02c\",\"#2ca02c\",\"#2ca02c\",\"#2ca02c\",\"#2ca02c\",\"#2ca02c\",\"#2ca02c\",\"#2ca02c\",\"#2ca02c\",\"#1f77b4\",\"#1f77b4\",\"#1f77b4\",\"#1f77b4\",\"#1f77b4\",\"#1f77b4\",\"#1f77b4\",\"#1f77b4\",\"#1f77b4\",\"#1f77b4\",\"#1f77b4\",\"#1f77b4\",\"#1f77b4\",\"#1f77b4\",\"#1f77b4\",\"#1f77b4\",\"#1f77b4\",\"#1f77b4\",\"#1f77b4\",\"#1f77b4\",\"#1f77b4\",\"#1f77b4\",\"#1f77b4\",\"#1f77b4\",\"#1f77b4\",\"#1f77b4\",\"#1f77b4\",\"#1f77b4\",\"#1f77b4\",\"#1f77b4\",\"#1f77b4\",\"#1f77b4\",\"#1f77b4\",\"#1f77b4\",\"#1f77b4\",\"#1f77b4\",\"#1f77b4\",\"#1f77b4\",\"#1f77b4\",\"#1f77b4\",\"#1f77b4\",\"#1f77b4\",\"#1f77b4\",\"#1f77b4\",\"#1f77b4\",\"#1f77b4\",\"#1f77b4\",\"#1f77b4\"],\"f_interval\":[\"-120 to -115 minutes\",\"-115 to -110 minutes\",\"-110 to -105 minutes\",\"-105 to -100 minutes\",\"-100 to -95 minutes\",\"-95 to -90 minutes\",\"-90 to -85 minutes\",\"-85 to -80 minutes\",\"-80 to -75 minutes\",\"-75 to -70 minutes\",\"-70 to -65 minutes\",\"-65 to -60 minutes\",\"-60 to -55 minutes\",\"-55 to -50 minutes\",\"-50 to -45 minutes\",\"-45 to -40 minutes\",\"-40 to -35 minutes\",\"-35 to -30 minutes\",\"-30 to -25 minutes\",\"-25 to -20 minutes\",\"-20 to -15 minutes\",\"-15 to -10 minutes\",\"-10 to -5 minutes\",\"-5 to 0 minutes\",\"0 to 5 minutes\",\"5 to 10 minutes\",\"10 to 15 minutes\",\"15 to 20 minutes\",\"20 to 25 minutes\",\"25 to 30 minutes\",\"30 to 35 minutes\",\"35 to 40 minutes\",\"40 to 45 minutes\",\"45 to 50 minutes\",\"50 to 55 minutes\",\"55 to 60 minutes\",\"60 to 65 minutes\",\"65 to 70 minutes\",\"70 to 75 minutes\",\"75 to 80 minutes\",\"80 to 85 minutes\",\"85 to 90 minutes\",\"90 to 95 minutes\",\"95 to 100 minutes\",\"100 to 105 minutes\",\"105 to 110 minutes\",\"110 to 115 minutes\",\"115 to 120 minutes\",\"-120 to -115 minutes\",\"-115 to -110 minutes\",\"-110 to -105 minutes\",\"-105 to -100 minutes\",\"-100 to -95 minutes\",\"-95 to -90 minutes\",\"-90 to -85 minutes\",\"-85 to -80 minutes\",\"-80 to -75 minutes\",\"-75 to -70 minutes\",\"-70 to -65 minutes\",\"-65 to -60 minutes\",\"-60 to -55 minutes\",\"-55 to -50 minutes\",\"-50 to -45 minutes\",\"-45 to -40 minutes\",\"-40 to -35 minutes\",\"-35 to -30 minutes\",\"-30 to -25 minutes\",\"-25 to -20 minutes\",\"-20 to -15 minutes\",\"-15 to -10 minutes\",\"-10 to -5 minutes\",\"-5 to 0 minutes\",\"0 to 5 minutes\",\"5 to 10 minutes\",\"10 to 15 minutes\",\"15 to 20 minutes\",\"20 to 25 minutes\",\"25 to 30 minutes\",\"30 to 35 minutes\",\"35 to 40 minutes\",\"40 to 45 minutes\",\"45 to 50 minutes\",\"50 to 55 minutes\",\"55 to 60 minutes\",\"60 to 65 minutes\",\"65 to 70 minutes\",\"70 to 75 minutes\",\"75 to 80 minutes\",\"80 to 85 minutes\",\"85 to 90 minutes\",\"90 to 95 minutes\",\"95 to 100 minutes\",\"100 to 105 minutes\",\"105 to 110 minutes\",\"110 to 115 minutes\",\"115 to 120 minutes\",\"-120 to -115 minutes\",\"-115 to -110 minutes\",\"-110 to -105 minutes\",\"-105 to -100 minutes\",\"-100 to -95 minutes\",\"-95 to -90 minutes\",\"-90 to -85 minutes\",\"-85 to -80 minutes\",\"-80 to -75 minutes\",\"-75 to -70 minutes\",\"-70 to -65 minutes\",\"-65 to -60 minutes\",\"-60 to -55 minutes\",\"-55 to -50 minutes\",\"-50 to -45 minutes\",\"-45 to -40 minutes\",\"-40 to -35 minutes\",\"-35 to -30 minutes\",\"-30 to -25 minutes\",\"-25 to -20 minutes\",\"-20 to -15 minutes\",\"-15 to -10 minutes\",\"-10 to -5 minutes\",\"-5 to 0 minutes\",\"0 to 5 minutes\",\"5 to 10 minutes\",\"10 to 15 minutes\",\"15 to 20 minutes\",\"20 to 25 minutes\",\"25 to 30 minutes\",\"30 to 35 minutes\",\"35 to 40 minutes\",\"40 to 45 minutes\",\"45 to 50 minutes\",\"50 to 55 minutes\",\"55 to 60 minutes\",\"60 to 65 minutes\",\"65 to 70 minutes\",\"70 to 75 minutes\",\"75 to 80 minutes\",\"80 to 85 minutes\",\"85 to 90 minutes\",\"90 to 95 minutes\",\"95 to 100 minutes\",\"100 to 105 minutes\",\"105 to 110 minutes\",\"110 to 115 minutes\",\"115 to 120 minutes\",\"-120 to -115 minutes\",\"-115 to -110 minutes\",\"-110 to -105 minutes\",\"-105 to -100 minutes\",\"-100 to -95 minutes\",\"-95 to -90 minutes\",\"-90 to -85 minutes\",\"-85 to -80 minutes\",\"-80 to -75 minutes\",\"-75 to -70 minutes\",\"-70 to -65 minutes\",\"-65 to -60 minutes\",\"-60 to -55 minutes\",\"-55 to -50 minutes\",\"-50 to -45 minutes\",\"-45 to -40 minutes\",\"-40 to -35 minutes\",\"-35 to -30 minutes\",\"-30 to -25 minutes\",\"-25 to -20 minutes\",\"-20 to -15 minutes\",\"-15 to -10 minutes\",\"-10 to -5 minutes\",\"-5 to 0 minutes\",\"0 to 5 minutes\",\"5 to 10 minutes\",\"10 to 15 minutes\",\"15 to 20 minutes\",\"20 to 25 minutes\",\"25 to 30 minutes\",\"30 to 35 minutes\",\"35 to 40 minutes\",\"40 to 45 minutes\",\"45 to 50 minutes\",\"50 to 55 minutes\",\"55 to 60 minutes\",\"60 to 65 minutes\",\"65 to 70 minutes\",\"70 to 75 minutes\",\"75 to 80 minutes\",\"80 to 85 minutes\",\"85 to 90 minutes\",\"90 to 95 minutes\",\"95 to 100 minutes\",\"100 to 105 minutes\",\"105 to 110 minutes\",\"110 to 115 minutes\",\"115 to 120 minutes\",\"-120 to -115 minutes\",\"-115 to -110 minutes\",\"-110 to -105 minutes\",\"-105 to -100 minutes\",\"-100 to -95 minutes\",\"-95 to -90 minutes\",\"-90 to -85 minutes\",\"-85 to -80 minutes\",\"-80 to -75 minutes\",\"-75 to -70 minutes\",\"-70 to -65 minutes\",\"-65 to -60 minutes\",\"-60 to -55 minutes\",\"-55 to -50 minutes\",\"-50 to -45 minutes\",\"-45 to -40 minutes\",\"-40 to -35 minutes\",\"-35 to -30 minutes\",\"-30 to -25 minutes\",\"-25 to -20 minutes\",\"-20 to -15 minutes\",\"-15 to -10 minutes\",\"-10 to -5 minutes\",\"-5 to 0 minutes\",\"0 to 5 minutes\",\"5 to 10 minutes\",\"10 to 15 minutes\",\"15 to 20 minutes\",\"20 to 25 minutes\",\"25 to 30 minutes\",\"30 to 35 minutes\",\"35 to 40 minutes\",\"40 to 45 minutes\",\"45 to 50 minutes\",\"50 to 55 minutes\",\"55 to 60 minutes\",\"60 to 65 minutes\",\"65 to 70 minutes\",\"70 to 75 minutes\",\"75 to 80 minutes\",\"80 to 85 minutes\",\"85 to 90 minutes\",\"90 to 95 minutes\",\"95 to 100 minutes\",\"100 to 105 minutes\",\"105 to 110 minutes\",\"110 to 115 minutes\",\"115 to 120 minutes\"],\"f_proportion\":[\"0.00000\",\"0.00000\",\"0.00000\",\"0.00000\",\"0.00000\",\"0.00000\",\"0.00000\",\"0.00000\",\"0.00000\",\"0.00003\",\"0.00013\",\"0.00054\",\"0.00167\",\"0.00388\",\"0.00903\",\"0.01858\",\"0.03251\",\"0.04930\",\"0.06736\",\"0.09248\",\"0.10587\",\"0.10731\",\"0.09488\",\"0.08171\",\"0.06586\",\"0.05317\",\"0.04033\",\"0.02896\",\"0.02351\",\"0.02047\",\"0.01457\",\"0.01150\",\"0.00983\",\"0.00801\",\"0.00746\",\"0.00660\",\"0.00609\",\"0.00538\",\"0.00458\",\"0.00452\",\"0.00368\",\"0.00324\",\"0.00282\",\"0.00346\",\"0.00279\",\"0.00301\",\"0.00259\",\"0.00231\",\"0.00000\",\"0.00000\",\"0.00000\",\"0.00000\",\"0.00000\",\"0.00000\",\"0.00000\",\"0.00000\",\"0.00000\",\"0.00002\",\"0.00028\",\"0.00073\",\"0.00138\",\"0.00303\",\"0.00619\",\"0.01202\",\"0.02330\",\"0.04044\",\"0.06305\",\"0.08840\",\"0.10770\",\"0.11209\",\"0.10743\",\"0.08883\",\"0.07496\",\"0.05682\",\"0.04358\",\"0.03242\",\"0.02309\",\"0.01690\",\"0.01447\",\"0.01139\",\"0.00931\",\"0.00884\",\"0.00703\",\"0.00686\",\"0.00494\",\"0.00503\",\"0.00441\",\"0.00376\",\"0.00340\",\"0.00329\",\"0.00320\",\"0.00275\",\"0.00260\",\"0.00230\",\"0.00174\",\"0.00202\",\"0.00000\",\"0.00000\",\"0.00000\",\"0.00000\",\"0.00000\",\"0.00000\",\"0.00000\",\"0.00000\",\"0.00000\",\"0.00000\",\"0.00000\",\"0.00006\",\"0.00008\",\"0.00031\",\"0.00095\",\"0.00251\",\"0.00814\",\"0.01653\",\"0.03713\",\"0.06289\",\"0.09378\",\"0.10641\",\"0.10741\",\"0.09467\",\"0.07582\",\"0.05966\",\"0.04720\",\"0.03624\",\"0.03051\",\"0.02543\",\"0.02292\",\"0.01934\",\"0.01696\",\"0.01581\",\"0.01511\",\"0.01262\",\"0.01190\",\"0.01024\",\"0.00999\",\"0.00909\",\"0.00835\",\"0.00736\",\"0.00654\",\"0.00662\",\"0.00615\",\"0.00495\",\"0.00530\",\"0.00504\",\"0.00000\",\"0.00000\",\"0.00000\",\"0.00000\",\"0.00000\",\"0.00000\",\"0.00000\",\"0.00000\",\"0.00000\",\"0.00002\",\"0.00008\",\"0.00031\",\"0.00061\",\"0.00109\",\"0.00233\",\"0.00484\",\"0.00878\",\"0.01880\",\"0.03573\",\"0.06248\",\"0.09691\",\"0.11724\",\"0.11465\",\"0.10060\",\"0.08021\",\"0.06196\",\"0.04846\",\"0.03894\",\"0.03077\",\"0.02446\",\"0.02062\",\"0.01796\",\"0.01534\",\"0.01327\",\"0.01058\",\"0.00981\",\"0.00887\",\"0.00767\",\"0.00635\",\"0.00633\",\"0.00578\",\"0.00495\",\"0.00442\",\"0.00440\",\"0.00402\",\"0.00339\",\"0.00335\",\"0.00365\",\"0.00000\",\"0.00000\",\"0.00000\",\"0.00000\",\"0.00000\",\"0.00000\",\"0.00000\",\"0.00000\",\"0.00000\",\"0.00005\",\"0.00023\",\"0.00078\",\"0.00124\",\"0.00287\",\"0.00656\",\"0.01255\",\"0.02258\",\"0.03781\",\"0.05604\",\"0.07783\",\"0.09757\",\"0.10606\",\"0.09965\",\"0.09219\",\"0.07444\",\"0.05854\",\"0.04667\",\"0.03564\",\"0.02710\",\"0.02363\",\"0.01834\",\"0.01515\",\"0.01203\",\"0.01085\",\"0.00911\",\"0.00760\",\"0.00608\",\"0.00613\",\"0.00518\",\"0.00496\",\"0.00436\",\"0.00370\",\"0.00354\",\"0.00330\",\"0.00289\",\"0.00248\",\"0.00206\",\"0.00218\"],\"index\":[0,1,2,3,4,5,6,7,8,9,10,11,12,13,14,15,16,17,18,19,20,21,22,23,24,25,26,27,28,29,30,31,32,33,34,35,36,37,38,39,40,41,42,43,44,45,46,47,0,1,2,3,4,5,6,7,8,9,10,11,12,13,14,15,16,17,18,19,20,21,22,23,24,25,26,27,28,29,30,31,32,33,34,35,36,37,38,39,40,41,42,43,44,45,46,47,0,1,2,3,4,5,6,7,8,9,10,11,12,13,14,15,16,17,18,19,20,21,22,23,24,25,26,27,28,29,30,31,32,33,34,35,36,37,38,39,40,41,42,43,44,45,46,47,0,1,2,3,4,5,6,7,8,9,10,11,12,13,14,15,16,17,18,19,20,21,22,23,24,25,26,27,28,29,30,31,32,33,34,35,36,37,38,39,40,41,42,43,44,45,46,47,0,1,2,3,4,5,6,7,8,9,10,11,12,13,14,15,16,17,18,19,20,21,22,23,24,25,26,27,28,29,30,31,32,33,34,35,36,37,38,39,40,41,42,43,44,45,46,47],\"left\":{\"__ndarray__\":\"AAAAAAAAXsAAAAAAAMBcwAAAAAAAgFvAAAAAAABAWsAAAAAAAABZwAAAAAAAwFfAAAAAAACAVsAAAAAAAEBVwAAAAAAAAFTAAAAAAADAUsAAAAAAAIBRwAAAAAAAQFDAAAAAAAAATsAAAAAAAIBLwAAAAAAAAEnAAAAAAACARsAAAAAAAABEwAAAAAAAgEHAAAAAAAAAPsAAAAAAAAA5wAAAAAAAADTAAAAAAAAALsAAAAAAAAAkwAAAAAAAABTAAAAAAAAAAAAAAAAAAAAUQAAAAAAAACRAAAAAAAAALkAAAAAAAAA0QAAAAAAAADlAAAAAAAAAPkAAAAAAAIBBQAAAAAAAAERAAAAAAACARkAAAAAAAABJQAAAAAAAgEtAAAAAAAAATkAAAAAAAEBQQAAAAAAAgFFAAAAAAADAUkAAAAAAAABUQAAAAAAAQFVAAAAAAACAVkAAAAAAAMBXQAAAAAAAAFlAAAAAAABAWkAAAAAAAIBbQAAAAAAAwFxAAAAAAAAAXsAAAAAAAMBcwAAAAAAAgFvAAAAAAABAWsAAAAAAAABZwAAAAAAAwFfAAAAAAACAVsAAAAAAAEBVwAAAAAAAAFTAAAAAAADAUsAAAAAAAIBRwAAAAAAAQFDAAAAAAAAATsAAAAAAAIBLwAAAAAAAAEnAAAAAAACARsAAAAAAAABEwAAAAAAAgEHAAAAAAAAAPsAAAAAAAAA5wAAAAAAAADTAAAAAAAAALsAAAAAAAAAkwAAAAAAAABTAAAAAAAAAAAAAAAAAAAAUQAAAAAAAACRAAAAAAAAALkAAAAAAAAA0QAAAAAAAADlAAAAAAAAAPkAAAAAAAIBBQAAAAAAAAERAAAAAAACARkAAAAAAAABJQAAAAAAAgEtAAAAAAAAATkAAAAAAAEBQQAAAAAAAgFFAAAAAAADAUkAAAAAAAABUQAAAAAAAQFVAAAAAAACAVkAAAAAAAMBXQAAAAAAAAFlAAAAAAABAWkAAAAAAAIBbQAAAAAAAwFxAAAAAAAAAXsAAAAAAAMBcwAAAAAAAgFvAAAAAAABAWsAAAAAAAABZwAAAAAAAwFfAAAAAAACAVsAAAAAAAEBVwAAAAAAAAFTAAAAAAADAUsAAAAAAAIBRwAAAAAAAQFDAAAAAAAAATsAAAAAAAIBLwAAAAAAAAEnAAAAAAACARsAAAAAAAABEwAAAAAAAgEHAAAAAAAAAPsAAAAAAAAA5wAAAAAAAADTAAAAAAAAALsAAAAAAAAAkwAAAAAAAABTAAAAAAAAAAAAAAAAAAAAUQAAAAAAAACRAAAAAAAAALkAAAAAAAAA0QAAAAAAAADlAAAAAAAAAPkAAAAAAAIBBQAAAAAAAAERAAAAAAACARkAAAAAAAABJQAAAAAAAgEtAAAAAAAAATkAAAAAAAEBQQAAAAAAAgFFAAAAAAADAUkAAAAAAAABUQAAAAAAAQFVAAAAAAACAVkAAAAAAAMBXQAAAAAAAAFlAAAAAAABAWkAAAAAAAIBbQAAAAAAAwFxAAAAAAAAAXsAAAAAAAMBcwAAAAAAAgFvAAAAAAABAWsAAAAAAAABZwAAAAAAAwFfAAAAAAACAVsAAAAAAAEBVwAAAAAAAAFTAAAAAAADAUsAAAAAAAIBRwAAAAAAAQFDAAAAAAAAATsAAAAAAAIBLwAAAAAAAAEnAAAAAAACARsAAAAAAAABEwAAAAAAAgEHAAAAAAAAAPsAAAAAAAAA5wAAAAAAAADTAAAAAAAAALsAAAAAAAAAkwAAAAAAAABTAAAAAAAAAAAAAAAAAAAAUQAAAAAAAACRAAAAAAAAALkAAAAAAAAA0QAAAAAAAADlAAAAAAAAAPkAAAAAAAIBBQAAAAAAAAERAAAAAAACARkAAAAAAAABJQAAAAAAAgEtAAAAAAAAATkAAAAAAAEBQQAAAAAAAgFFAAAAAAADAUkAAAAAAAABUQAAAAAAAQFVAAAAAAACAVkAAAAAAAMBXQAAAAAAAAFlAAAAAAABAWkAAAAAAAIBbQAAAAAAAwFxAAAAAAAAAXsAAAAAAAMBcwAAAAAAAgFvAAAAAAABAWsAAAAAAAABZwAAAAAAAwFfAAAAAAACAVsAAAAAAAEBVwAAAAAAAAFTAAAAAAADAUsAAAAAAAIBRwAAAAAAAQFDAAAAAAAAATsAAAAAAAIBLwAAAAAAAAEnAAAAAAACARsAAAAAAAABEwAAAAAAAgEHAAAAAAAAAPsAAAAAAAAA5wAAAAAAAADTAAAAAAAAALsAAAAAAAAAkwAAAAAAAABTAAAAAAAAAAAAAAAAAAAAUQAAAAAAAACRAAAAAAAAALkAAAAAAAAA0QAAAAAAAADlAAAAAAAAAPkAAAAAAAIBBQAAAAAAAAERAAAAAAACARkAAAAAAAABJQAAAAAAAgEtAAAAAAAAATkAAAAAAAEBQQAAAAAAAgFFAAAAAAADAUkAAAAAAAABUQAAAAAAAQFVAAAAAAACAVkAAAAAAAMBXQAAAAAAAAFlAAAAAAABAWkAAAAAAAIBbQAAAAAAAwFxA\",\"dtype\":\"float64\",\"shape\":[240]},\"name\":[\"American Airlines Inc.\",\"American Airlines Inc.\",\"American Airlines Inc.\",\"American Airlines Inc.\",\"American Airlines Inc.\",\"American Airlines Inc.\",\"American Airlines Inc.\",\"American Airlines Inc.\",\"American Airlines Inc.\",\"American Airlines Inc.\",\"American Airlines Inc.\",\"American Airlines Inc.\",\"American Airlines Inc.\",\"American Airlines Inc.\",\"American Airlines Inc.\",\"American Airlines Inc.\",\"American Airlines Inc.\",\"American Airlines Inc.\",\"American Airlines Inc.\",\"American Airlines Inc.\",\"American Airlines Inc.\",\"American Airlines Inc.\",\"American Airlines Inc.\",\"American Airlines Inc.\",\"American Airlines Inc.\",\"American Airlines Inc.\",\"American Airlines Inc.\",\"American Airlines Inc.\",\"American Airlines Inc.\",\"American Airlines Inc.\",\"American Airlines Inc.\",\"American Airlines Inc.\",\"American Airlines Inc.\",\"American Airlines Inc.\",\"American Airlines Inc.\",\"American Airlines Inc.\",\"American Airlines Inc.\",\"American Airlines Inc.\",\"American Airlines Inc.\",\"American Airlines Inc.\",\"American Airlines Inc.\",\"American Airlines Inc.\",\"American Airlines Inc.\",\"American Airlines Inc.\",\"American Airlines Inc.\",\"American Airlines Inc.\",\"American Airlines Inc.\",\"American Airlines Inc.\",\"Delta Air Lines Inc.\",\"Delta Air Lines Inc.\",\"Delta Air Lines Inc.\",\"Delta Air Lines Inc.\",\"Delta Air Lines Inc.\",\"Delta Air Lines Inc.\",\"Delta Air Lines Inc.\",\"Delta Air Lines Inc.\",\"Delta Air Lines Inc.\",\"Delta Air Lines Inc.\",\"Delta Air Lines Inc.\",\"Delta Air Lines Inc.\",\"Delta Air Lines Inc.\",\"Delta Air Lines Inc.\",\"Delta Air Lines Inc.\",\"Delta Air Lines Inc.\",\"Delta Air Lines Inc.\",\"Delta Air Lines Inc.\",\"Delta Air Lines Inc.\",\"Delta Air Lines Inc.\",\"Delta Air Lines Inc.\",\"Delta Air Lines Inc.\",\"Delta Air Lines Inc.\",\"Delta Air Lines Inc.\",\"Delta Air Lines Inc.\",\"Delta Air Lines Inc.\",\"Delta Air Lines Inc.\",\"Delta Air Lines Inc.\",\"Delta Air Lines Inc.\",\"Delta Air Lines Inc.\",\"Delta Air Lines Inc.\",\"Delta Air Lines Inc.\",\"Delta Air Lines Inc.\",\"Delta Air Lines Inc.\",\"Delta Air Lines Inc.\",\"Delta Air Lines Inc.\",\"Delta Air Lines Inc.\",\"Delta Air Lines Inc.\",\"Delta Air Lines Inc.\",\"Delta Air Lines Inc.\",\"Delta Air Lines Inc.\",\"Delta Air Lines Inc.\",\"Delta Air Lines Inc.\",\"Delta Air Lines Inc.\",\"Delta Air Lines Inc.\",\"Delta Air Lines Inc.\",\"Delta Air Lines Inc.\",\"Delta Air Lines Inc.\",\"ExpressJet Airlines Inc.\",\"ExpressJet Airlines Inc.\",\"ExpressJet Airlines Inc.\",\"ExpressJet Airlines Inc.\",\"ExpressJet Airlines Inc.\",\"ExpressJet Airlines Inc.\",\"ExpressJet Airlines Inc.\",\"ExpressJet Airlines Inc.\",\"ExpressJet Airlines Inc.\",\"ExpressJet Airlines Inc.\",\"ExpressJet Airlines Inc.\",\"ExpressJet Airlines Inc.\",\"ExpressJet Airlines Inc.\",\"ExpressJet Airlines Inc.\",\"ExpressJet Airlines Inc.\",\"ExpressJet Airlines Inc.\",\"ExpressJet Airlines Inc.\",\"ExpressJet Airlines Inc.\",\"ExpressJet Airlines Inc.\",\"ExpressJet Airlines Inc.\",\"ExpressJet Airlines Inc.\",\"ExpressJet Airlines Inc.\",\"ExpressJet Airlines Inc.\",\"ExpressJet Airlines Inc.\",\"ExpressJet Airlines Inc.\",\"ExpressJet Airlines Inc.\",\"ExpressJet Airlines Inc.\",\"ExpressJet Airlines Inc.\",\"ExpressJet Airlines Inc.\",\"ExpressJet Airlines Inc.\",\"ExpressJet Airlines Inc.\",\"ExpressJet Airlines Inc.\",\"ExpressJet Airlines Inc.\",\"ExpressJet Airlines Inc.\",\"ExpressJet Airlines Inc.\",\"ExpressJet Airlines Inc.\",\"ExpressJet Airlines Inc.\",\"ExpressJet Airlines Inc.\",\"ExpressJet Airlines Inc.\",\"ExpressJet Airlines Inc.\",\"ExpressJet Airlines Inc.\",\"ExpressJet Airlines Inc.\",\"ExpressJet Airlines Inc.\",\"ExpressJet Airlines Inc.\",\"ExpressJet Airlines Inc.\",\"ExpressJet Airlines Inc.\",\"ExpressJet Airlines Inc.\",\"ExpressJet Airlines Inc.\",\"JetBlue Airways\",\"JetBlue Airways\",\"JetBlue Airways\",\"JetBlue Airways\",\"JetBlue Airways\",\"JetBlue Airways\",\"JetBlue Airways\",\"JetBlue Airways\",\"JetBlue Airways\",\"JetBlue Airways\",\"JetBlue Airways\",\"JetBlue Airways\",\"JetBlue Airways\",\"JetBlue Airways\",\"JetBlue Airways\",\"JetBlue Airways\",\"JetBlue Airways\",\"JetBlue Airways\",\"JetBlue Airways\",\"JetBlue Airways\",\"JetBlue Airways\",\"JetBlue Airways\",\"JetBlue Airways\",\"JetBlue Airways\",\"JetBlue Airways\",\"JetBlue Airways\",\"JetBlue Airways\",\"JetBlue Airways\",\"JetBlue Airways\",\"JetBlue Airways\",\"JetBlue Airways\",\"JetBlue Airways\",\"JetBlue Airways\",\"JetBlue Airways\",\"JetBlue Airways\",\"JetBlue Airways\",\"JetBlue Airways\",\"JetBlue Airways\",\"JetBlue Airways\",\"JetBlue Airways\",\"JetBlue Airways\",\"JetBlue Airways\",\"JetBlue Airways\",\"JetBlue Airways\",\"JetBlue Airways\",\"JetBlue Airways\",\"JetBlue Airways\",\"JetBlue Airways\",\"United Air Lines Inc.\",\"United Air Lines Inc.\",\"United Air Lines Inc.\",\"United Air Lines Inc.\",\"United Air Lines Inc.\",\"United Air Lines Inc.\",\"United Air Lines Inc.\",\"United Air Lines Inc.\",\"United Air Lines Inc.\",\"United Air Lines Inc.\",\"United Air Lines Inc.\",\"United Air Lines Inc.\",\"United Air Lines Inc.\",\"United Air Lines Inc.\",\"United Air Lines Inc.\",\"United Air Lines Inc.\",\"United Air Lines Inc.\",\"United Air Lines Inc.\",\"United Air Lines Inc.\",\"United Air Lines Inc.\",\"United Air Lines Inc.\",\"United Air Lines Inc.\",\"United Air Lines Inc.\",\"United Air Lines Inc.\",\"United Air Lines Inc.\",\"United Air Lines Inc.\",\"United Air Lines Inc.\",\"United Air Lines Inc.\",\"United Air Lines Inc.\",\"United Air Lines Inc.\",\"United Air Lines Inc.\",\"United Air Lines Inc.\",\"United Air Lines Inc.\",\"United Air Lines Inc.\",\"United Air Lines Inc.\",\"United Air Lines Inc.\",\"United Air Lines Inc.\",\"United Air Lines Inc.\",\"United Air Lines Inc.\",\"United Air Lines Inc.\",\"United Air Lines Inc.\",\"United Air Lines Inc.\",\"United Air Lines Inc.\",\"United Air Lines Inc.\",\"United Air Lines Inc.\",\"United Air Lines Inc.\",\"United Air Lines Inc.\",\"United Air Lines Inc.\"],\"proportion\":{\"__ndarray__\":\"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\",\"dtype\":\"float64\",\"shape\":[240]},\"right\":{\"__ndarray__\":\"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\",\"dtype\":\"float64\",\"shape\":[240]}},\"selected\":{\"id\":\"64191867-7815-42f2-8250-39cf9460e46b\",\"type\":\"Selection\"},\"selection_policy\":{\"id\":\"e712009c-b93f-4839-8ef0-3fc0ab8233c0\",\"type\":\"UnionRenderers\"}},\"id\":\"61d9e677-0e60-41a9-983d-2d0cbd4fafc1\",\"type\":\"ColumnDataSource\"},{\"attributes\":{},\"id\":\"f3769f26-7057-494f-b6ee-1ca465261d12\",\"type\":\"BasicTickFormatter\"},{\"attributes\":{\"align\":\"center\",\"plot\":null,\"text\":\"Histogram of Airline Delays by Cariier\",\"text_font\":\"serif\",\"text_font_size\":{\"value\":\"20pt\"}},\"id\":\"2dc23b38-3202-4633-8e42-c4ba23f72e97\",\"type\":\"Title\"},{\"attributes\":{\"items\":[{\"id\":\"eb0d353b-eb8d-4f19-875a-0f68b68586ad\",\"type\":\"LegendItem\"}],\"plot\":{\"id\":\"05cbf465-cbaa-4033-8ed6-9fb602fa8a36\",\"subtype\":\"Figure\",\"type\":\"Plot\"}},\"id\":\"5850b4a4-4b07-402b-bb85-a832b0722db2\",\"type\":\"Legend\"},{\"attributes\":{},\"id\":\"dba65082-db9e-4a21-8b2e-f86fa5fdfa60\",\"type\":\"LinearScale\"},{\"attributes\":{},\"id\":\"eb05d1e6-9157-41ea-bfef-9d191487ee2b\",\"type\":\"SaveTool\"},{\"attributes\":{\"bottom\":{\"value\":0},\"fill_alpha\":{\"value\":0.1},\"fill_color\":{\"value\":\"#1f77b4\"},\"left\":{\"field\":\"left\"},\"line_alpha\":{\"value\":0.1},\"line_color\":{\"value\":\"#1f77b4\"},\"right\":{\"field\":\"right\"},\"top\":{\"field\":\"proportion\"}},\"id\":\"f6777081-e24b-43bf-8806-d837deed5072\",\"type\":\"Quad\"},{\"attributes\":{},\"id\":\"64191867-7815-42f2-8250-39cf9460e46b\",\"type\":\"Selection\"},{\"attributes\":{\"axis_label\":\"Proportion\",\"axis_label_text_font_size\":{\"value\":\"14pt\"},\"axis_label_text_font_style\":\"bold\",\"formatter\":{\"id\":\"21c8dc57-1278-4bfa-9390-2b1524db6920\",\"type\":\"BasicTickFormatter\"},\"major_label_text_font_size\":{\"value\":\"12pt\"},\"plot\":{\"id\":\"05cbf465-cbaa-4033-8ed6-9fb602fa8a36\",\"subtype\":\"Figure\",\"type\":\"Plot\"},\"ticker\":{\"id\":\"ea2aebf2-d880-4baa-8fec-d28747e2da98\",\"type\":\"BasicTicker\"}},\"id\":\"8f651581-7614-4e0b-8938-29fbb7d184b1\",\"type\":\"LinearAxis\"},{\"attributes\":{\"plot\":{\"id\":\"05cbf465-cbaa-4033-8ed6-9fb602fa8a36\",\"subtype\":\"Figure\",\"type\":\"Plot\"},\"ticker\":{\"id\":\"d9b63bad-b0e2-4635-b3a2-bf48b1d9882d\",\"type\":\"BasicTicker\"}},\"id\":\"759ad810-fcee-4e66-a39b-c6980e507959\",\"type\":\"Grid\"},{\"attributes\":{},\"id\":\"6ada32af-e990-455b-9475-0cd92114a170\",\"type\":\"LinearScale\"},{\"attributes\":{\"source\":{\"id\":\"61d9e677-0e60-41a9-983d-2d0cbd4fafc1\",\"type\":\"ColumnDataSource\"}},\"id\":\"fa4fe281-51d2-4d28-bb2e-5d59584bf3ca\",\"type\":\"CDSView\"},{\"attributes\":{\"overlay\":{\"id\":\"d014bfdc-fcca-4614-bc4d-7ab9123cccb7\",\"type\":\"BoxAnnotation\"}},\"id\":\"63f5c781-8d9e-4105-be4e-93c9e7ed5bfc\",\"type\":\"BoxZoomTool\"},{\"attributes\":{\"bottom\":{\"value\":0},\"fill_alpha\":{\"value\":0.6},\"fill_color\":{\"field\":\"color\"},\"left\":{\"field\":\"left\"},\"line_color\":{\"value\":\"#1f77b4\"},\"right\":{\"field\":\"right\"},\"top\":{\"field\":\"proportion\"}},\"id\":\"1cd5061b-7749-47f8-80d4-f7bb77446d00\",\"type\":\"Quad\"},{\"attributes\":{\"callback\":null,\"mode\":\"vline\",\"renderers\":\"auto\",\"tooltips\":[[\"Carrier\",\"@name\"],[\"Proportion\",\"@f_proportion\"],[\"Delay\",\"@f_interval\"]]},\"id\":\"2fab0cc2-1183-4666-bc5d-26a6e7db2ac6\",\"type\":\"HoverTool\"},{\"attributes\":{\"callback\":null},\"id\":\"c2c14b0f-eada-49c0-b0ea-c0bc5836959b\",\"type\":\"DataRange1d\"},{\"attributes\":{\"below\":[{\"id\":\"0279b579-e0e4-4dea-9f7a-921389810075\",\"type\":\"LinearAxis\"}],\"left\":[{\"id\":\"8f651581-7614-4e0b-8938-29fbb7d184b1\",\"type\":\"LinearAxis\"}],\"plot_width\":800,\"renderers\":[{\"id\":\"0279b579-e0e4-4dea-9f7a-921389810075\",\"type\":\"LinearAxis\"},{\"id\":\"759ad810-fcee-4e66-a39b-c6980e507959\",\"type\":\"Grid\"},{\"id\":\"8f651581-7614-4e0b-8938-29fbb7d184b1\",\"type\":\"LinearAxis\"},{\"id\":\"b696fe84-3b1a-4052-9b70-65e7d7916077\",\"type\":\"Grid\"},{\"id\":\"d014bfdc-fcca-4614-bc4d-7ab9123cccb7\",\"type\":\"BoxAnnotation\"},{\"id\":\"5850b4a4-4b07-402b-bb85-a832b0722db2\",\"type\":\"Legend\"},{\"id\":\"9073c6a5-13ec-436f-885b-d1904c0aa2c7\",\"type\":\"GlyphRenderer\"}],\"title\":{\"id\":\"2dc23b38-3202-4633-8e42-c4ba23f72e97\",\"type\":\"Title\"},\"toolbar\":{\"id\":\"37875872-b842-4185-9792-1e76ae9b076a\",\"type\":\"Toolbar\"},\"x_range\":{\"id\":\"c2c14b0f-eada-49c0-b0ea-c0bc5836959b\",\"type\":\"DataRange1d\"},\"x_scale\":{\"id\":\"6ada32af-e990-455b-9475-0cd92114a170\",\"type\":\"LinearScale\"},\"y_range\":{\"id\":\"a267e873-f512-4165-9fb7-9ce1c6c7487f\",\"type\":\"DataRange1d\"},\"y_scale\":{\"id\":\"dba65082-db9e-4a21-8b2e-f86fa5fdfa60\",\"type\":\"LinearScale\"}},\"id\":\"05cbf465-cbaa-4033-8ed6-9fb602fa8a36\",\"subtype\":\"Figure\",\"type\":\"Plot\"},{\"attributes\":{\"bottom_units\":\"screen\",\"fill_alpha\":{\"value\":0.5},\"fill_color\":{\"value\":\"lightgrey\"},\"left_units\":\"screen\",\"level\":\"overlay\",\"line_alpha\":{\"value\":1.0},\"line_color\":{\"value\":\"black\"},\"line_dash\":[4,4],\"line_width\":{\"value\":2},\"plot\":null,\"render_mode\":\"css\",\"right_units\":\"screen\",\"top_units\":\"screen\"},\"id\":\"d014bfdc-fcca-4614-bc4d-7ab9123cccb7\",\"type\":\"BoxAnnotation\"},{\"attributes\":{\"callback\":null},\"id\":\"a267e873-f512-4165-9fb7-9ce1c6c7487f\",\"type\":\"DataRange1d\"},{\"attributes\":{},\"id\":\"9fb59551-0274-475d-82f9-a23b9b9caffe\",\"type\":\"ResetTool\"},{\"attributes\":{},\"id\":\"ea2aebf2-d880-4baa-8fec-d28747e2da98\",\"type\":\"BasicTicker\"},{\"attributes\":{\"dimension\":1,\"plot\":{\"id\":\"05cbf465-cbaa-4033-8ed6-9fb602fa8a36\",\"subtype\":\"Figure\",\"type\":\"Plot\"},\"ticker\":{\"id\":\"ea2aebf2-d880-4baa-8fec-d28747e2da98\",\"type\":\"BasicTicker\"}},\"id\":\"b696fe84-3b1a-4052-9b70-65e7d7916077\",\"type\":\"Grid\"},{\"attributes\":{},\"id\":\"21c8dc57-1278-4bfa-9390-2b1524db6920\",\"type\":\"BasicTickFormatter\"}],\"root_ids\":[\"05cbf465-cbaa-4033-8ed6-9fb602fa8a36\"]},\"title\":\"Bokeh Application\",\"version\":\"0.13.0\"}};\n",
       "  var render_items = [{\"docid\":\"21de1552-e6f4-438d-9d73-2b4c8d56a621\",\"roots\":{\"05cbf465-cbaa-4033-8ed6-9fb602fa8a36\":\"55e78388-9488-4d1a-8f5c-058bbb0fc766\"}}];\n",
       "  root.Bokeh.embed.embed_items_notebook(docs_json, render_items);\n",
       "\n",
       "  }\n",
       "  if (root.Bokeh !== undefined) {\n",
       "    embed_document(root);\n",
       "  } else {\n",
       "    var attempts = 0;\n",
       "    var timer = setInterval(function(root) {\n",
       "      if (root.Bokeh !== undefined) {\n",
       "        embed_document(root);\n",
       "        clearInterval(timer);\n",
       "      }\n",
       "      attempts++;\n",
       "      if (attempts > 100) {\n",
       "        console.log(\"Bokeh: ERROR: Unable to run BokehJS code because BokehJS library is missing\")\n",
       "        clearInterval(timer);\n",
       "      }\n",
       "    }, 10, root)\n",
       "  }\n",
       "})(window);"
      ],
      "application/vnd.bokehjs_exec.v0+json": ""
     },
     "metadata": {
      "application/vnd.bokehjs_exec.v0+json": {
       "id": "05cbf465-cbaa-4033-8ed6-9fb602fa8a36"
      }
     },
     "output_type": "display_data"
    }
   ],
   "source": [
    "# Create the figure\n",
    "p = figure(plot_height = 600, plot_width = 800,\n",
    "          title = 'Histogram of Airline Delays by Cariier',\n",
    "          x_axis_label = 'Arrival Delay (min)', y_axis_label = 'Proportion')\n",
    "\n",
    "# Add the quad glyph with the source by carrier\n",
    "p.quad(bottom = 0, left = 'left', right = 'right', top = 'proportion',\n",
    "      fill_color = 'color', legend = 'name', source = by_carrier_src,\n",
    "      fill_alpha = 0.6, hover_fill_alpha = 1.0, hover_fill_color = 'color')\n",
    "\n",
    "# Create the hover tool\n",
    "hover = HoverTool(tooltips = [('Carrier', '@name'),\n",
    "                              ('Proportion', '@f_proportion'),\n",
    "                              ('Delay', '@f_interval')],\n",
    "                 mode = 'vline')\n",
    "\n",
    "# Add styling and hover tool\n",
    "styled_p = style(p)\n",
    "styled_p.add_tools(hover)\n",
    "show(styled_p)\n",
    "                              "
   ]
  },
  {
   "cell_type": "markdown",
   "metadata": {},
   "source": [
    "## Creating Widget Interactions"
   ]
  },
  {
   "cell_type": "markdown",
   "metadata": {},
   "source": [
    "The first widget we want is a selection box that allows viewers to select airlines to display. This control will be a check box which allows as many selections as desired and is known in Bokeh as a CheckboxGroup. To make the selection tool, we import the CheckboxGroup class and create an instance with two parameters, labels: the values we want displayed next to each box and active: the initial boxes which are checked."
   ]
  },
  {
   "cell_type": "code",
   "execution_count": 36,
   "metadata": {},
   "outputs": [
    {
     "data": {
      "text/plain": [
       "['American Airlines Inc.',\n",
       " 'Delta Air Lines Inc.',\n",
       " 'ExpressJet Airlines Inc.',\n",
       " 'JetBlue Airways',\n",
       " 'United Air Lines Inc.']"
      ]
     },
     "execution_count": 36,
     "metadata": {},
     "output_type": "execute_result"
    }
   ],
   "source": [
    "# Available carrier list\n",
    "available_carriers = list(by_carrier['name'].unique())\n",
    "\n",
    "# Sort the list in-place (alphabetical order)\n",
    "available_carriers.sort()\n",
    "\n",
    "available_carriers"
   ]
  },
  {
   "cell_type": "code",
   "execution_count": 38,
   "metadata": {},
   "outputs": [
    {
     "data": {
      "text/html": [
       "<div style=\"display: table;\"><div style=\"display: table-row;\"><div style=\"display: table-cell;\"><b title=\"bokeh.models.widgets.groups.CheckboxGroup\">CheckboxGroup</b>(</div><div style=\"display: table-cell;\">id&nbsp;=&nbsp;'41e3b0ab-4921-43be-8e55-6b65efa25279', <span id=\"58b9bebc-0eec-4b86-bf66-6c7f32a7837f\" style=\"cursor: pointer;\">&hellip;)</span></div></div><div class=\"61184446-4688-4931-a085-e2060cad4880\" style=\"display: none;\"><div style=\"display: table-cell;\"></div><div style=\"display: table-cell;\">active&nbsp;=&nbsp;[0, 1],</div></div><div class=\"61184446-4688-4931-a085-e2060cad4880\" style=\"display: none;\"><div style=\"display: table-cell;\"></div><div style=\"display: table-cell;\">callback&nbsp;=&nbsp;None,</div></div><div class=\"61184446-4688-4931-a085-e2060cad4880\" style=\"display: none;\"><div style=\"display: table-cell;\"></div><div style=\"display: table-cell;\">css_classes&nbsp;=&nbsp;[],</div></div><div class=\"61184446-4688-4931-a085-e2060cad4880\" style=\"display: none;\"><div style=\"display: table-cell;\"></div><div style=\"display: table-cell;\">disabled&nbsp;=&nbsp;False,</div></div><div class=\"61184446-4688-4931-a085-e2060cad4880\" style=\"display: none;\"><div style=\"display: table-cell;\"></div><div style=\"display: table-cell;\">height&nbsp;=&nbsp;None,</div></div><div class=\"61184446-4688-4931-a085-e2060cad4880\" style=\"display: none;\"><div style=\"display: table-cell;\"></div><div style=\"display: table-cell;\">inline&nbsp;=&nbsp;False,</div></div><div class=\"61184446-4688-4931-a085-e2060cad4880\" style=\"display: none;\"><div style=\"display: table-cell;\"></div><div style=\"display: table-cell;\">js_event_callbacks&nbsp;=&nbsp;{},</div></div><div class=\"61184446-4688-4931-a085-e2060cad4880\" style=\"display: none;\"><div style=\"display: table-cell;\"></div><div style=\"display: table-cell;\">js_property_callbacks&nbsp;=&nbsp;{},</div></div><div class=\"61184446-4688-4931-a085-e2060cad4880\" style=\"display: none;\"><div style=\"display: table-cell;\"></div><div style=\"display: table-cell;\">labels&nbsp;=&nbsp;['American Airlines Inc.', 'Delta Air Lines Inc.', 'ExpressJet Airlines Inc.', 'JetBlue Airways', 'United Air Lines Inc.'],</div></div><div class=\"61184446-4688-4931-a085-e2060cad4880\" style=\"display: none;\"><div style=\"display: table-cell;\"></div><div style=\"display: table-cell;\">name&nbsp;=&nbsp;None,</div></div><div class=\"61184446-4688-4931-a085-e2060cad4880\" style=\"display: none;\"><div style=\"display: table-cell;\"></div><div style=\"display: table-cell;\">sizing_mode&nbsp;=&nbsp;'fixed',</div></div><div class=\"61184446-4688-4931-a085-e2060cad4880\" style=\"display: none;\"><div style=\"display: table-cell;\"></div><div style=\"display: table-cell;\">subscribed_events&nbsp;=&nbsp;[],</div></div><div class=\"61184446-4688-4931-a085-e2060cad4880\" style=\"display: none;\"><div style=\"display: table-cell;\"></div><div style=\"display: table-cell;\">tags&nbsp;=&nbsp;[],</div></div><div class=\"61184446-4688-4931-a085-e2060cad4880\" style=\"display: none;\"><div style=\"display: table-cell;\"></div><div style=\"display: table-cell;\">width&nbsp;=&nbsp;None)</div></div></div>\n",
       "<script>\n",
       "(function() {\n",
       "  var expanded = false;\n",
       "  var ellipsis = document.getElementById(\"58b9bebc-0eec-4b86-bf66-6c7f32a7837f\");\n",
       "  ellipsis.addEventListener(\"click\", function() {\n",
       "    var rows = document.getElementsByClassName(\"61184446-4688-4931-a085-e2060cad4880\");\n",
       "    for (var i = 0; i < rows.length; i++) {\n",
       "      var el = rows[i];\n",
       "      el.style.display = expanded ? \"none\" : \"table-row\";\n",
       "    }\n",
       "    ellipsis.innerHTML = expanded ? \"&hellip;)\" : \"&lsaquo;&lsaquo;&lsaquo;\";\n",
       "    expanded = !expanded;\n",
       "  });\n",
       "})();\n",
       "</script>\n"
      ],
      "text/plain": [
       "bokeh.models.widgets.groups.CheckboxGroup(\n",
       "    id='41e3b0ab-4921-43be-8e55-6b65efa25279',\n",
       "    active=[0, 1],\n",
       "    callback=None,\n",
       "    css_classes=[],\n",
       "    disabled=False,\n",
       "    height=None,\n",
       "    inline=False,\n",
       "    js_event_callbacks={},\n",
       "    js_property_callbacks={},\n",
       "    labels=['American Airlines Inc.',\n",
       "     'Delta Air Lines Inc.',\n",
       "     'ExpressJet Airlines Inc.',\n",
       "     'JetBlue Airways',\n",
       "     'United Air Lines Inc.'],\n",
       "    name=None,\n",
       "    sizing_mode='fixed',\n",
       "    subscribed_events=[],\n",
       "    tags=[],\n",
       "    width=None)"
      ]
     },
     "execution_count": 38,
     "metadata": {},
     "output_type": "execute_result"
    }
   ],
   "source": [
    "from bokeh.models.widgets import CheckboxGroup\n",
    "\n",
    "# Create the checkbox selection elements, availaible carriers is a \n",
    "# list of all airlines in the data. \n",
    "carrier_selection = CheckboxGroup(labels=available_carriers,\n",
    "                                 active = [0, 1])\n",
    "carrier_selection"
   ]
  },
  {
   "cell_type": "code",
   "execution_count": 39,
   "metadata": {},
   "outputs": [
    {
     "data": {
      "text/plain": [
       "['American Airlines Inc.', 'Delta Air Lines Inc.']"
      ]
     },
     "execution_count": 39,
     "metadata": {},
     "output_type": "execute_result"
    }
   ],
   "source": [
    "# Select the airlines names from the selection values\n",
    "[carrier_selection.labels[i] for i in carrier_selection.active]"
   ]
  },
  {
   "cell_type": "code",
   "execution_count": 40,
   "metadata": {},
   "outputs": [],
   "source": [
    "# Update function takes three default parameters\n",
    "def update(attr, old, new):\n",
    "    # Get the list of carriers for the graph\n",
    "    carriers_to_plot = [carrier_selection.labels[i] for i in \n",
    "                        carrier_selection.active]\n",
    "    # Make a new dataset based on the selected carriers and the \n",
    "    # make_dataset function defined earlier\n",
    "    new_src = make_dataset(carriers_to_plot,\n",
    "                           range_start = -60,\n",
    "                           range_end = 120,\n",
    "                           bin_width = 5)\n",
    "    # Update the source used in the quad glpyhs\n",
    "    src.data.update(new_src.data)"
   ]
  },
  {
   "cell_type": "code",
   "execution_count": 41,
   "metadata": {},
   "outputs": [],
   "source": [
    "# Link a change in selected buttons to the update function\n",
    "carrier_selection.on_change('active', update)"
   ]
  },
  {
   "cell_type": "code",
   "execution_count": null,
   "metadata": {},
   "outputs": [],
   "source": []
  },
  {
   "cell_type": "code",
   "execution_count": null,
   "metadata": {},
   "outputs": [],
   "source": []
  },
  {
   "cell_type": "code",
   "execution_count": null,
   "metadata": {},
   "outputs": [],
   "source": []
  },
  {
   "cell_type": "code",
   "execution_count": null,
   "metadata": {},
   "outputs": [],
   "source": []
  },
  {
   "cell_type": "code",
   "execution_count": null,
   "metadata": {},
   "outputs": [],
   "source": []
  },
  {
   "cell_type": "markdown",
   "metadata": {},
   "source": [
    "## Lighter Weight Approach Using Seaborn\n"
   ]
  },
  {
   "cell_type": "code",
   "execution_count": 30,
   "metadata": {},
   "outputs": [],
   "source": [
    "import seaborn as sns\n",
    "import matplotlib.pyplot as plt\n",
    "%matplotlib inline"
   ]
  },
  {
   "cell_type": "code",
   "execution_count": 31,
   "metadata": {},
   "outputs": [
    {
     "name": "stderr",
     "output_type": "stream",
     "text": [
      "/Users/jonahgolden/anaconda3/lib/python3.5/site-packages/scipy/stats/stats.py:1713: FutureWarning: Using a non-tuple sequence for multidimensional indexing is deprecated; use `arr[tuple(seq)]` instead of `arr[seq]`. In the future this will be interpreted as an array index, `arr[np.array(seq)]`, which will result either in an error or a different result.\n",
      "  return np.add.reduce(sorted[indexer] * weights, axis=axis) / sumval\n"
     ]
    },
    {
     "data": {
      "image/png": "[encoded data removed]",
      "text/plain": [
       "<Figure size 720x576 with 1 Axes>"
      ]
     },
     "metadata": {
      "needs_background": "light"
     },
     "output_type": "display_data"
    }
   ],
   "source": [
    "# Create a figure\n",
    "plt.figure(figsize=(10, 8))\n",
    "\n",
    "# Iterate through each carrier and make a density plot (kde)\n",
    "for i, carrier in enumerate(flights['name'].unique()):\n",
    "    subset = flights[flights['name'] == carrier]\n",
    "    sns.kdeplot(subset['arr_delay'], color = Category10_5[i], label = '%s' % carrier, lw = 2 );\n",
    "\n",
    "plt.xlabel('Arrival Delay (min)')\n",
    "plt.ylabel('Density')\n",
    "plt.title('Density Plot of Arrival Delay by Carrier')\n",
    "plt.legend();"
   ]
  },
  {
   "cell_type": "code",
   "execution_count": null,
   "metadata": {},
   "outputs": [],
   "source": []
  }
 ],
 "metadata": {
  "kernelspec": {
   "display_name": "Python 3",
   "language": "python",
   "name": "python3"
  },
  "language_info": {
   "codemirror_mode": {
    "name": "ipython",
    "version": 3
   },
   "file_extension": ".py",
   "mimetype": "text/x-python",
   "name": "python",
   "nbconvert_exporter": "python",
   "pygments_lexer": "ipython3",
   "version": "3.5.5"
  }
 },
 "nbformat": 4,
 "nbformat_minor": 2
}

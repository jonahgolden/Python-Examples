{
 "cells": [
  {
   "cell_type": "markdown",
   "metadata": {},
   "source": [
    "# Starting Out With Bokeh"
   ]
  },
  {
   "cell_type": "markdown",
   "metadata": {},
   "source": [
    "## One Variable Plotting"
   ]
  },
  {
   "cell_type": "code",
   "execution_count": 29,
   "metadata": {},
   "outputs": [],
   "source": [
    "# Pandas for data manipulation\n",
    "import pandas as pd\n",
    "import numpy as np"
   ]
  },
  {
   "cell_type": "markdown",
   "metadata": {},
   "source": [
    "## Basic Glyphs"
   ]
  },
  {
   "cell_type": "code",
   "execution_count": 30,
   "metadata": {},
   "outputs": [
    {
     "data": {
      "text/html": [
       "\n",
       "    <div class=\"bk-root\">\n",
       "        <a href=\"https://bokeh.pydata.org\" target=\"_blank\" class=\"bk-logo bk-logo-small bk-logo-notebook\"></a>\n",
       "        <span id=\"c95d342e-2971-4640-999d-84809ea722fb\">Loading BokehJS ...</span>\n",
       "    </div>"
      ]
     },
     "metadata": {},
     "output_type": "display_data"
    },
    {
     "data": {
      "application/javascript": [
       "\n",
       "(function(root) {\n",
       "  function now() {\n",
       "    return new Date();\n",
       "  }\n",
       "\n",
       "  var force = true;\n",
       "\n",
       "  if (typeof (root._bokeh_onload_callbacks) === \"undefined\" || force === true) {\n",
       "    root._bokeh_onload_callbacks = [];\n",
       "    root._bokeh_is_loading = undefined;\n",
       "  }\n",
       "\n",
       "  var JS_MIME_TYPE = 'application/javascript';\n",
       "  var HTML_MIME_TYPE = 'text/html';\n",
       "  var EXEC_MIME_TYPE = 'application/vnd.bokehjs_exec.v0+json';\n",
       "  var CLASS_NAME = 'output_bokeh rendered_html';\n",
       "\n",
       "  /**\n",
       "   * Render data to the DOM node\n",
       "   */\n",
       "  function render(props, node) {\n",
       "    var script = document.createElement(\"script\");\n",
       "    node.appendChild(script);\n",
       "  }\n",
       "\n",
       "  /**\n",
       "   * Handle when an output is cleared or removed\n",
       "   */\n",
       "  function handleClearOutput(event, handle) {\n",
       "    var cell = handle.cell;\n",
       "\n",
       "    var id = cell.output_area._bokeh_element_id;\n",
       "    var server_id = cell.output_area._bokeh_server_id;\n",
       "    // Clean up Bokeh references\n",
       "    if (id != null && id in Bokeh.index) {\n",
       "      Bokeh.index[id].model.document.clear();\n",
       "      delete Bokeh.index[id];\n",
       "    }\n",
       "\n",
       "    if (server_id !== undefined) {\n",
       "      // Clean up Bokeh references\n",
       "      var cmd = \"from bokeh.io.state import curstate; print(curstate().uuid_to_server['\" + server_id + \"'].get_sessions()[0].document.roots[0]._id)\";\n",
       "      cell.notebook.kernel.execute(cmd, {\n",
       "        iopub: {\n",
       "          output: function(msg) {\n",
       "            var id = msg.content.text.trim();\n",
       "            if (id in Bokeh.index) {\n",
       "              Bokeh.index[id].model.document.clear();\n",
       "              delete Bokeh.index[id];\n",
       "            }\n",
       "          }\n",
       "        }\n",
       "      });\n",
       "      // Destroy server and session\n",
       "      var cmd = \"import bokeh.io.notebook as ion; ion.destroy_server('\" + server_id + \"')\";\n",
       "      cell.notebook.kernel.execute(cmd);\n",
       "    }\n",
       "  }\n",
       "\n",
       "  /**\n",
       "   * Handle when a new output is added\n",
       "   */\n",
       "  function handleAddOutput(event, handle) {\n",
       "    var output_area = handle.output_area;\n",
       "    var output = handle.output;\n",
       "\n",
       "    // limit handleAddOutput to display_data with EXEC_MIME_TYPE content only\n",
       "    if ((output.output_type != \"display_data\") || (!output.data.hasOwnProperty(EXEC_MIME_TYPE))) {\n",
       "      return\n",
       "    }\n",
       "\n",
       "    var toinsert = output_area.element.find(\".\" + CLASS_NAME.split(' ')[0]);\n",
       "\n",
       "    if (output.metadata[EXEC_MIME_TYPE][\"id\"] !== undefined) {\n",
       "      toinsert[toinsert.length - 1].firstChild.textContent = output.data[JS_MIME_TYPE];\n",
       "      // store reference to embed id on output_area\n",
       "      output_area._bokeh_element_id = output.metadata[EXEC_MIME_TYPE][\"id\"];\n",
       "    }\n",
       "    if (output.metadata[EXEC_MIME_TYPE][\"server_id\"] !== undefined) {\n",
       "      var bk_div = document.createElement(\"div\");\n",
       "      bk_div.innerHTML = output.data[HTML_MIME_TYPE];\n",
       "      var script_attrs = bk_div.children[0].attributes;\n",
       "      for (var i = 0; i < script_attrs.length; i++) {\n",
       "        toinsert[toinsert.length - 1].firstChild.setAttribute(script_attrs[i].name, script_attrs[i].value);\n",
       "      }\n",
       "      // store reference to server id on output_area\n",
       "      output_area._bokeh_server_id = output.metadata[EXEC_MIME_TYPE][\"server_id\"];\n",
       "    }\n",
       "  }\n",
       "\n",
       "  function register_renderer(events, OutputArea) {\n",
       "\n",
       "    function append_mime(data, metadata, element) {\n",
       "      // create a DOM node to render to\n",
       "      var toinsert = this.create_output_subarea(\n",
       "        metadata,\n",
       "        CLASS_NAME,\n",
       "        EXEC_MIME_TYPE\n",
       "      );\n",
       "      this.keyboard_manager.register_events(toinsert);\n",
       "      // Render to node\n",
       "      var props = {data: data, metadata: metadata[EXEC_MIME_TYPE]};\n",
       "      render(props, toinsert[toinsert.length - 1]);\n",
       "      element.append(toinsert);\n",
       "      return toinsert\n",
       "    }\n",
       "\n",
       "    /* Handle when an output is cleared or removed */\n",
       "    events.on('clear_output.CodeCell', handleClearOutput);\n",
       "    events.on('delete.Cell', handleClearOutput);\n",
       "\n",
       "    /* Handle when a new output is added */\n",
       "    events.on('output_added.OutputArea', handleAddOutput);\n",
       "\n",
       "    /**\n",
       "     * Register the mime type and append_mime function with output_area\n",
       "     */\n",
       "    OutputArea.prototype.register_mime_type(EXEC_MIME_TYPE, append_mime, {\n",
       "      /* Is output safe? */\n",
       "      safe: true,\n",
       "      /* Index of renderer in `output_area.display_order` */\n",
       "      index: 0\n",
       "    });\n",
       "  }\n",
       "\n",
       "  // register the mime type if in Jupyter Notebook environment and previously unregistered\n",
       "  if (root.Jupyter !== undefined) {\n",
       "    var events = require('base/js/events');\n",
       "    var OutputArea = require('notebook/js/outputarea').OutputArea;\n",
       "\n",
       "    if (OutputArea.prototype.mime_types().indexOf(EXEC_MIME_TYPE) == -1) {\n",
       "      register_renderer(events, OutputArea);\n",
       "    }\n",
       "  }\n",
       "\n",
       "  \n",
       "  if (typeof (root._bokeh_timeout) === \"undefined\" || force === true) {\n",
       "    root._bokeh_timeout = Date.now() + 5000;\n",
       "    root._bokeh_failed_load = false;\n",
       "  }\n",
       "\n",
       "  var NB_LOAD_WARNING = {'data': {'text/html':\n",
       "     \"<div style='background-color: #fdd'>\\n\"+\n",
       "     \"<p>\\n\"+\n",
       "     \"BokehJS does not appear to have successfully loaded. If loading BokehJS from CDN, this \\n\"+\n",
       "     \"may be due to a slow or bad network connection. Possible fixes:\\n\"+\n",
       "     \"</p>\\n\"+\n",
       "     \"<ul>\\n\"+\n",
       "     \"<li>re-rerun `output_notebook()` to attempt to load from CDN again, or</li>\\n\"+\n",
       "     \"<li>use INLINE resources instead, as so:</li>\\n\"+\n",
       "     \"</ul>\\n\"+\n",
       "     \"<code>\\n\"+\n",
       "     \"from bokeh.resources import INLINE\\n\"+\n",
       "     \"output_notebook(resources=INLINE)\\n\"+\n",
       "     \"</code>\\n\"+\n",
       "     \"</div>\"}};\n",
       "\n",
       "  function display_loaded() {\n",
       "    var el = document.getElementById(\"c95d342e-2971-4640-999d-84809ea722fb\");\n",
       "    if (el != null) {\n",
       "      el.textContent = \"BokehJS is loading...\";\n",
       "    }\n",
       "    if (root.Bokeh !== undefined) {\n",
       "      if (el != null) {\n",
       "        el.textContent = \"BokehJS \" + root.Bokeh.version + \" successfully loaded.\";\n",
       "      }\n",
       "    } else if (Date.now() < root._bokeh_timeout) {\n",
       "      setTimeout(display_loaded, 100)\n",
       "    }\n",
       "  }\n",
       "\n",
       "\n",
       "  function run_callbacks() {\n",
       "    try {\n",
       "      root._bokeh_onload_callbacks.forEach(function(callback) { callback() });\n",
       "    }\n",
       "    finally {\n",
       "      delete root._bokeh_onload_callbacks\n",
       "    }\n",
       "    console.info(\"Bokeh: all callbacks have finished\");\n",
       "  }\n",
       "\n",
       "  function load_libs(js_urls, callback) {\n",
       "    root._bokeh_onload_callbacks.push(callback);\n",
       "    if (root._bokeh_is_loading > 0) {\n",
       "      console.log(\"Bokeh: BokehJS is being loaded, scheduling callback at\", now());\n",
       "      return null;\n",
       "    }\n",
       "    if (js_urls == null || js_urls.length === 0) {\n",
       "      run_callbacks();\n",
       "      return null;\n",
       "    }\n",
       "    console.log(\"Bokeh: BokehJS not loaded, scheduling load and callback at\", now());\n",
       "    root._bokeh_is_loading = js_urls.length;\n",
       "    for (var i = 0; i < js_urls.length; i++) {\n",
       "      var url = js_urls[i];\n",
       "      var s = document.createElement('script');\n",
       "      s.src = url;\n",
       "      s.async = false;\n",
       "      s.onreadystatechange = s.onload = function() {\n",
       "        root._bokeh_is_loading--;\n",
       "        if (root._bokeh_is_loading === 0) {\n",
       "          console.log(\"Bokeh: all BokehJS libraries loaded\");\n",
       "          run_callbacks()\n",
       "        }\n",
       "      };\n",
       "      s.onerror = function() {\n",
       "        console.warn(\"failed to load library \" + url);\n",
       "      };\n",
       "      console.log(\"Bokeh: injecting script tag for BokehJS library: \", url);\n",
       "      document.getElementsByTagName(\"head\")[0].appendChild(s);\n",
       "    }\n",
       "  };var element = document.getElementById(\"c95d342e-2971-4640-999d-84809ea722fb\");\n",
       "  if (element == null) {\n",
       "    console.log(\"Bokeh: ERROR: autoload.js configured with elementid 'c95d342e-2971-4640-999d-84809ea722fb' but no matching script tag was found. \")\n",
       "    return false;\n",
       "  }\n",
       "\n",
       "  var js_urls = [\"https://cdn.pydata.org/bokeh/release/bokeh-0.13.0.min.js\", \"https://cdn.pydata.org/bokeh/release/bokeh-widgets-0.13.0.min.js\", \"https://cdn.pydata.org/bokeh/release/bokeh-tables-0.13.0.min.js\", \"https://cdn.pydata.org/bokeh/release/bokeh-gl-0.13.0.min.js\"];\n",
       "\n",
       "  var inline_js = [\n",
       "    function(Bokeh) {\n",
       "      Bokeh.set_log_level(\"info\");\n",
       "    },\n",
       "    \n",
       "    function(Bokeh) {\n",
       "      \n",
       "    },\n",
       "    function(Bokeh) {\n",
       "      console.log(\"Bokeh: injecting CSS: https://cdn.pydata.org/bokeh/release/bokeh-0.13.0.min.css\");\n",
       "      Bokeh.embed.inject_css(\"https://cdn.pydata.org/bokeh/release/bokeh-0.13.0.min.css\");\n",
       "      console.log(\"Bokeh: injecting CSS: https://cdn.pydata.org/bokeh/release/bokeh-widgets-0.13.0.min.css\");\n",
       "      Bokeh.embed.inject_css(\"https://cdn.pydata.org/bokeh/release/bokeh-widgets-0.13.0.min.css\");\n",
       "      console.log(\"Bokeh: injecting CSS: https://cdn.pydata.org/bokeh/release/bokeh-tables-0.13.0.min.css\");\n",
       "      Bokeh.embed.inject_css(\"https://cdn.pydata.org/bokeh/release/bokeh-tables-0.13.0.min.css\");\n",
       "    }\n",
       "  ];\n",
       "\n",
       "  function run_inline_js() {\n",
       "    \n",
       "    if ((root.Bokeh !== undefined) || (force === true)) {\n",
       "      for (var i = 0; i < inline_js.length; i++) {\n",
       "        inline_js[i].call(root, root.Bokeh);\n",
       "      }if (force === true) {\n",
       "        display_loaded();\n",
       "      }} else if (Date.now() < root._bokeh_timeout) {\n",
       "      setTimeout(run_inline_js, 100);\n",
       "    } else if (!root._bokeh_failed_load) {\n",
       "      console.log(\"Bokeh: BokehJS failed to load within specified timeout.\");\n",
       "      root._bokeh_failed_load = true;\n",
       "    } else if (force !== true) {\n",
       "      var cell = $(document.getElementById(\"c95d342e-2971-4640-999d-84809ea722fb\")).parents('.cell').data().cell;\n",
       "      cell.output_area.append_execute_result(NB_LOAD_WARNING)\n",
       "    }\n",
       "\n",
       "  }\n",
       "\n",
       "  if (root._bokeh_is_loading === 0) {\n",
       "    console.log(\"Bokeh: BokehJS loaded, going straight to plotting\");\n",
       "    run_inline_js();\n",
       "  } else {\n",
       "    load_libs(js_urls, function() {\n",
       "      console.log(\"Bokeh: BokehJS plotting callback run at\", now());\n",
       "      run_inline_js();\n",
       "    });\n",
       "  }\n",
       "}(window));"
      ],
      "application/vnd.bokehjs_load.v0+json": "\n(function(root) {\n  function now() {\n    return new Date();\n  }\n\n  var force = true;\n\n  if (typeof (root._bokeh_onload_callbacks) === \"undefined\" || force === true) {\n    root._bokeh_onload_callbacks = [];\n    root._bokeh_is_loading = undefined;\n  }\n\n  \n\n  \n  if (typeof (root._bokeh_timeout) === \"undefined\" || force === true) {\n    root._bokeh_timeout = Date.now() + 5000;\n    root._bokeh_failed_load = false;\n  }\n\n  var NB_LOAD_WARNING = {'data': {'text/html':\n     \"<div style='background-color: #fdd'>\\n\"+\n     \"<p>\\n\"+\n     \"BokehJS does not appear to have successfully loaded. If loading BokehJS from CDN, this \\n\"+\n     \"may be due to a slow or bad network connection. Possible fixes:\\n\"+\n     \"</p>\\n\"+\n     \"<ul>\\n\"+\n     \"<li>re-rerun `output_notebook()` to attempt to load from CDN again, or</li>\\n\"+\n     \"<li>use INLINE resources instead, as so:</li>\\n\"+\n     \"</ul>\\n\"+\n     \"<code>\\n\"+\n     \"from bokeh.resources import INLINE\\n\"+\n     \"output_notebook(resources=INLINE)\\n\"+\n     \"</code>\\n\"+\n     \"</div>\"}};\n\n  function display_loaded() {\n    var el = document.getElementById(\"c95d342e-2971-4640-999d-84809ea722fb\");\n    if (el != null) {\n      el.textContent = \"BokehJS is loading...\";\n    }\n    if (root.Bokeh !== undefined) {\n      if (el != null) {\n        el.textContent = \"BokehJS \" + root.Bokeh.version + \" successfully loaded.\";\n      }\n    } else if (Date.now() < root._bokeh_timeout) {\n      setTimeout(display_loaded, 100)\n    }\n  }\n\n\n  function run_callbacks() {\n    try {\n      root._bokeh_onload_callbacks.forEach(function(callback) { callback() });\n    }\n    finally {\n      delete root._bokeh_onload_callbacks\n    }\n    console.info(\"Bokeh: all callbacks have finished\");\n  }\n\n  function load_libs(js_urls, callback) {\n    root._bokeh_onload_callbacks.push(callback);\n    if (root._bokeh_is_loading > 0) {\n      console.log(\"Bokeh: BokehJS is being loaded, scheduling callback at\", now());\n      return null;\n    }\n    if (js_urls == null || js_urls.length === 0) {\n      run_callbacks();\n      return null;\n    }\n    console.log(\"Bokeh: BokehJS not loaded, scheduling load and callback at\", now());\n    root._bokeh_is_loading = js_urls.length;\n    for (var i = 0; i < js_urls.length; i++) {\n      var url = js_urls[i];\n      var s = document.createElement('script');\n      s.src = url;\n      s.async = false;\n      s.onreadystatechange = s.onload = function() {\n        root._bokeh_is_loading--;\n        if (root._bokeh_is_loading === 0) {\n          console.log(\"Bokeh: all BokehJS libraries loaded\");\n          run_callbacks()\n        }\n      };\n      s.onerror = function() {\n        console.warn(\"failed to load library \" + url);\n      };\n      console.log(\"Bokeh: injecting script tag for BokehJS library: \", url);\n      document.getElementsByTagName(\"head\")[0].appendChild(s);\n    }\n  };var element = document.getElementById(\"c95d342e-2971-4640-999d-84809ea722fb\");\n  if (element == null) {\n    console.log(\"Bokeh: ERROR: autoload.js configured with elementid 'c95d342e-2971-4640-999d-84809ea722fb' but no matching script tag was found. \")\n    return false;\n  }\n\n  var js_urls = [\"https://cdn.pydata.org/bokeh/release/bokeh-0.13.0.min.js\", \"https://cdn.pydata.org/bokeh/release/bokeh-widgets-0.13.0.min.js\", \"https://cdn.pydata.org/bokeh/release/bokeh-tables-0.13.0.min.js\", \"https://cdn.pydata.org/bokeh/release/bokeh-gl-0.13.0.min.js\"];\n\n  var inline_js = [\n    function(Bokeh) {\n      Bokeh.set_log_level(\"info\");\n    },\n    \n    function(Bokeh) {\n      \n    },\n    function(Bokeh) {\n      console.log(\"Bokeh: injecting CSS: https://cdn.pydata.org/bokeh/release/bokeh-0.13.0.min.css\");\n      Bokeh.embed.inject_css(\"https://cdn.pydata.org/bokeh/release/bokeh-0.13.0.min.css\");\n      console.log(\"Bokeh: injecting CSS: https://cdn.pydata.org/bokeh/release/bokeh-widgets-0.13.0.min.css\");\n      Bokeh.embed.inject_css(\"https://cdn.pydata.org/bokeh/release/bokeh-widgets-0.13.0.min.css\");\n      console.log(\"Bokeh: injecting CSS: https://cdn.pydata.org/bokeh/release/bokeh-tables-0.13.0.min.css\");\n      Bokeh.embed.inject_css(\"https://cdn.pydata.org/bokeh/release/bokeh-tables-0.13.0.min.css\");\n    }\n  ];\n\n  function run_inline_js() {\n    \n    if ((root.Bokeh !== undefined) || (force === true)) {\n      for (var i = 0; i < inline_js.length; i++) {\n        inline_js[i].call(root, root.Bokeh);\n      }if (force === true) {\n        display_loaded();\n      }} else if (Date.now() < root._bokeh_timeout) {\n      setTimeout(run_inline_js, 100);\n    } else if (!root._bokeh_failed_load) {\n      console.log(\"Bokeh: BokehJS failed to load within specified timeout.\");\n      root._bokeh_failed_load = true;\n    } else if (force !== true) {\n      var cell = $(document.getElementById(\"c95d342e-2971-4640-999d-84809ea722fb\")).parents('.cell').data().cell;\n      cell.output_area.append_execute_result(NB_LOAD_WARNING)\n    }\n\n  }\n\n  if (root._bokeh_is_loading === 0) {\n    console.log(\"Bokeh: BokehJS loaded, going straight to plotting\");\n    run_inline_js();\n  } else {\n    load_libs(js_urls, function() {\n      console.log(\"Bokeh: BokehJS plotting callback run at\", now());\n      run_inline_js();\n    });\n  }\n}(window));"
     },
     "metadata": {},
     "output_type": "display_data"
    },
    {
     "data": {
      "text/html": [
       "\n",
       "\n",
       "\n",
       "\n",
       "\n",
       "\n",
       "  <div class=\"bk-root\" id=\"3f50715c-b4ce-445a-857e-3248bf23c840\"></div>\n"
      ]
     },
     "metadata": {},
     "output_type": "display_data"
    },
    {
     "data": {
      "application/javascript": [
       "(function(root) {\n",
       "  function embed_document(root) {\n",
       "    \n",
       "  var docs_json = {\"2264c5ca-768d-4eea-85fe-db2a304fb9bc\":{\"roots\":{\"references\":[{\"attributes\":{},\"id\":\"b5c4e1aa-5a8c-4e57-adaa-ceaa0741f9e7\",\"type\":\"Selection\"},{\"attributes\":{},\"id\":\"d50d86db-e783-451a-b211-59f146f3bc0e\",\"type\":\"Selection\"},{\"attributes\":{\"callback\":null,\"data\":{\"x\":[1,3,4,5,8],\"y\":[8,7,3,1,10]},\"selected\":{\"id\":\"b5c4e1aa-5a8c-4e57-adaa-ceaa0741f9e7\",\"type\":\"Selection\"},\"selection_policy\":{\"id\":\"676206f4-387f-4aee-98e5-78f1d9acb167\",\"type\":\"UnionRenderers\"}},\"id\":\"35617007-702b-4330-8653-b00bb8b20bcd\",\"type\":\"ColumnDataSource\"},{\"attributes\":{},\"id\":\"b186bfae-468f-44b4-848a-9d26615db625\",\"type\":\"UnionRenderers\"},{\"attributes\":{\"callback\":null},\"id\":\"29c893ef-dcfc-4fa6-b8ac-7b4e9ec49835\",\"type\":\"DataRange1d\"},{\"attributes\":{\"source\":{\"id\":\"35617007-702b-4330-8653-b00bb8b20bcd\",\"type\":\"ColumnDataSource\"}},\"id\":\"0745494d-1aa0-4bb8-80cf-e7ba596bb919\",\"type\":\"CDSView\"},{\"attributes\":{},\"id\":\"cc7db165-6bf0-4526-a214-754d4e87ec4b\",\"type\":\"LinearScale\"},{\"attributes\":{\"fill_alpha\":{\"value\":0.6},\"fill_color\":{\"value\":\"navy\"},\"line_alpha\":{\"value\":0.6},\"line_color\":{\"value\":\"navy\"},\"size\":{\"units\":\"screen\",\"value\":12},\"x\":{\"field\":\"x\"},\"y\":{\"field\":\"y\"}},\"id\":\"05e2e106-31f0-411e-b7b4-ca3e8343b3b2\",\"type\":\"Square\"},{\"attributes\":{},\"id\":\"676206f4-387f-4aee-98e5-78f1d9acb167\",\"type\":\"UnionRenderers\"},{\"attributes\":{},\"id\":\"5954ac59-0bf1-4b9b-975e-55a497fa81ac\",\"type\":\"ResetTool\"},{\"attributes\":{},\"id\":\"fd3c35ee-69a2-4a09-9e52-2b4a8b811a16\",\"type\":\"BasicTickFormatter\"},{\"attributes\":{},\"id\":\"dd816628-0703-473f-b03b-cf8d25f83a99\",\"type\":\"WheelZoomTool\"},{\"attributes\":{\"data_source\":{\"id\":\"35617007-702b-4330-8653-b00bb8b20bcd\",\"type\":\"ColumnDataSource\"},\"glyph\":{\"id\":\"05e2e106-31f0-411e-b7b4-ca3e8343b3b2\",\"type\":\"Square\"},\"hover_glyph\":null,\"muted_glyph\":null,\"nonselection_glyph\":{\"id\":\"0cd27f03-1956-4aa8-b123-60eafe3800df\",\"type\":\"Square\"},\"selection_glyph\":null,\"view\":{\"id\":\"0745494d-1aa0-4bb8-80cf-e7ba596bb919\",\"type\":\"CDSView\"}},\"id\":\"ecb1c6b6-e73c-42e6-8845-8e613fcd0d9f\",\"type\":\"GlyphRenderer\"},{\"attributes\":{},\"id\":\"07c2184f-ccdd-4068-a874-49462999351b\",\"type\":\"PanTool\"},{\"attributes\":{\"bottom_units\":\"screen\",\"fill_alpha\":{\"value\":0.5},\"fill_color\":{\"value\":\"lightgrey\"},\"left_units\":\"screen\",\"level\":\"overlay\",\"line_alpha\":{\"value\":1.0},\"line_color\":{\"value\":\"black\"},\"line_dash\":[4,4],\"line_width\":{\"value\":2},\"plot\":null,\"render_mode\":\"css\",\"right_units\":\"screen\",\"top_units\":\"screen\"},\"id\":\"8c838b58-ec6d-4b97-af0e-e92493b9fb8e\",\"type\":\"BoxAnnotation\"},{\"attributes\":{\"fill_alpha\":{\"value\":0.1},\"fill_color\":{\"value\":\"#1f77b4\"},\"line_alpha\":{\"value\":0.1},\"line_color\":{\"value\":\"#1f77b4\"},\"size\":{\"units\":\"screen\",\"value\":12},\"x\":{\"field\":\"x\"},\"y\":{\"field\":\"y\"}},\"id\":\"0cd27f03-1956-4aa8-b123-60eafe3800df\",\"type\":\"Square\"},{\"attributes\":{},\"id\":\"8b58761c-5e3b-4673-9f78-f9579cf24327\",\"type\":\"SaveTool\"},{\"attributes\":{},\"id\":\"55de8c0e-97ce-4cd5-9ad9-c26438b1aef9\",\"type\":\"BasicTicker\"},{\"attributes\":{\"fill_alpha\":{\"value\":0.1},\"fill_color\":{\"value\":\"#1f77b4\"},\"line_alpha\":{\"value\":0.1},\"line_color\":{\"value\":\"#1f77b4\"},\"size\":{\"units\":\"screen\",\"value\":12},\"x\":{\"field\":\"x\"},\"y\":{\"field\":\"y\"}},\"id\":\"6fed1f08-f365-440f-a0d8-58069a3ec659\",\"type\":\"Circle\"},{\"attributes\":{},\"id\":\"63db3620-1eb5-4e2a-933f-ff0737725fc2\",\"type\":\"BasicTickFormatter\"},{\"attributes\":{\"below\":[{\"id\":\"57d929f1-e78d-4d8f-8b21-6c0283fe2ce7\",\"type\":\"LinearAxis\"}],\"left\":[{\"id\":\"f314903f-e24a-4591-891a-4fd5f14cf23b\",\"type\":\"LinearAxis\"}],\"renderers\":[{\"id\":\"57d929f1-e78d-4d8f-8b21-6c0283fe2ce7\",\"type\":\"LinearAxis\"},{\"id\":\"7bd57e88-59d4-4c24-85c1-6dfa81fc44ab\",\"type\":\"Grid\"},{\"id\":\"f314903f-e24a-4591-891a-4fd5f14cf23b\",\"type\":\"LinearAxis\"},{\"id\":\"07689c31-5405-4031-8012-23f019bdb49a\",\"type\":\"Grid\"},{\"id\":\"8c838b58-ec6d-4b97-af0e-e92493b9fb8e\",\"type\":\"BoxAnnotation\"},{\"id\":\"ecb1c6b6-e73c-42e6-8845-8e613fcd0d9f\",\"type\":\"GlyphRenderer\"},{\"id\":\"9b955806-292a-4f2b-9aa5-3554857b97e2\",\"type\":\"GlyphRenderer\"}],\"title\":{\"id\":\"5122bca8-4220-4672-91bd-3b2b6122f18a\",\"type\":\"Title\"},\"toolbar\":{\"id\":\"0616e4dc-9163-4e53-8ee8-e006006947e1\",\"type\":\"Toolbar\"},\"x_range\":{\"id\":\"29c893ef-dcfc-4fa6-b8ac-7b4e9ec49835\",\"type\":\"DataRange1d\"},\"x_scale\":{\"id\":\"d9af0238-40bd-4dae-afe2-93cbe982fbbb\",\"type\":\"LinearScale\"},\"y_range\":{\"id\":\"9934e52a-a960-4905-81bd-67ae3970e3fe\",\"type\":\"DataRange1d\"},\"y_scale\":{\"id\":\"cc7db165-6bf0-4526-a214-754d4e87ec4b\",\"type\":\"LinearScale\"}},\"id\":\"89eb77e7-177c-48dc-b592-db08f72a1905\",\"subtype\":\"Figure\",\"type\":\"Plot\"},{\"attributes\":{},\"id\":\"d9af0238-40bd-4dae-afe2-93cbe982fbbb\",\"type\":\"LinearScale\"},{\"attributes\":{\"fill_color\":{\"value\":\"red\"},\"line_color\":{\"value\":\"red\"},\"size\":{\"units\":\"screen\",\"value\":12},\"x\":{\"field\":\"x\"},\"y\":{\"field\":\"y\"}},\"id\":\"c96f4ca7-9681-41b4-b9ee-b60a8bbc96bf\",\"type\":\"Circle\"},{\"attributes\":{\"callback\":null},\"id\":\"9934e52a-a960-4905-81bd-67ae3970e3fe\",\"type\":\"DataRange1d\"},{\"attributes\":{\"axis_label\":\"X\",\"formatter\":{\"id\":\"fd3c35ee-69a2-4a09-9e52-2b4a8b811a16\",\"type\":\"BasicTickFormatter\"},\"plot\":{\"id\":\"89eb77e7-177c-48dc-b592-db08f72a1905\",\"subtype\":\"Figure\",\"type\":\"Plot\"},\"ticker\":{\"id\":\"55de8c0e-97ce-4cd5-9ad9-c26438b1aef9\",\"type\":\"BasicTicker\"}},\"id\":\"57d929f1-e78d-4d8f-8b21-6c0283fe2ce7\",\"type\":\"LinearAxis\"},{\"attributes\":{\"plot\":null,\"text\":\"Example Glyphs\"},\"id\":\"5122bca8-4220-4672-91bd-3b2b6122f18a\",\"type\":\"Title\"},{\"attributes\":{\"callback\":null,\"data\":{\"x\":[9,12,4,3,15],\"y\":[8,4,11,6,10]},\"selected\":{\"id\":\"d50d86db-e783-451a-b211-59f146f3bc0e\",\"type\":\"Selection\"},\"selection_policy\":{\"id\":\"b186bfae-468f-44b4-848a-9d26615db625\",\"type\":\"UnionRenderers\"}},\"id\":\"caf304ff-cb5a-4f01-b434-dfcb2da9bbc7\",\"type\":\"ColumnDataSource\"},{\"attributes\":{},\"id\":\"34ccab70-c508-4d5e-b90e-6e43eb9a27ac\",\"type\":\"BasicTicker\"},{\"attributes\":{\"plot\":{\"id\":\"89eb77e7-177c-48dc-b592-db08f72a1905\",\"subtype\":\"Figure\",\"type\":\"Plot\"},\"ticker\":{\"id\":\"55de8c0e-97ce-4cd5-9ad9-c26438b1aef9\",\"type\":\"BasicTicker\"}},\"id\":\"7bd57e88-59d4-4c24-85c1-6dfa81fc44ab\",\"type\":\"Grid\"},{\"attributes\":{},\"id\":\"b6f81665-d44b-4993-ac21-e65a11e31b73\",\"type\":\"HelpTool\"},{\"attributes\":{\"active_drag\":\"auto\",\"active_inspect\":\"auto\",\"active_multi\":null,\"active_scroll\":\"auto\",\"active_tap\":\"auto\",\"tools\":[{\"id\":\"07c2184f-ccdd-4068-a874-49462999351b\",\"type\":\"PanTool\"},{\"id\":\"dd816628-0703-473f-b03b-cf8d25f83a99\",\"type\":\"WheelZoomTool\"},{\"id\":\"cf93d7e7-7c78-4644-88d4-d2d6372461c4\",\"type\":\"BoxZoomTool\"},{\"id\":\"8b58761c-5e3b-4673-9f78-f9579cf24327\",\"type\":\"SaveTool\"},{\"id\":\"5954ac59-0bf1-4b9b-975e-55a497fa81ac\",\"type\":\"ResetTool\"},{\"id\":\"b6f81665-d44b-4993-ac21-e65a11e31b73\",\"type\":\"HelpTool\"}]},\"id\":\"0616e4dc-9163-4e53-8ee8-e006006947e1\",\"type\":\"Toolbar\"},{\"attributes\":{\"axis_label\":\"Y\",\"formatter\":{\"id\":\"63db3620-1eb5-4e2a-933f-ff0737725fc2\",\"type\":\"BasicTickFormatter\"},\"plot\":{\"id\":\"89eb77e7-177c-48dc-b592-db08f72a1905\",\"subtype\":\"Figure\",\"type\":\"Plot\"},\"ticker\":{\"id\":\"34ccab70-c508-4d5e-b90e-6e43eb9a27ac\",\"type\":\"BasicTicker\"}},\"id\":\"f314903f-e24a-4591-891a-4fd5f14cf23b\",\"type\":\"LinearAxis\"},{\"attributes\":{\"overlay\":{\"id\":\"8c838b58-ec6d-4b97-af0e-e92493b9fb8e\",\"type\":\"BoxAnnotation\"}},\"id\":\"cf93d7e7-7c78-4644-88d4-d2d6372461c4\",\"type\":\"BoxZoomTool\"},{\"attributes\":{\"dimension\":1,\"plot\":{\"id\":\"89eb77e7-177c-48dc-b592-db08f72a1905\",\"subtype\":\"Figure\",\"type\":\"Plot\"},\"ticker\":{\"id\":\"34ccab70-c508-4d5e-b90e-6e43eb9a27ac\",\"type\":\"BasicTicker\"}},\"id\":\"07689c31-5405-4031-8012-23f019bdb49a\",\"type\":\"Grid\"},{\"attributes\":{\"source\":{\"id\":\"caf304ff-cb5a-4f01-b434-dfcb2da9bbc7\",\"type\":\"ColumnDataSource\"}},\"id\":\"be96f0ee-06f3-4c4b-9fe3-04fe546ed61f\",\"type\":\"CDSView\"},{\"attributes\":{\"data_source\":{\"id\":\"caf304ff-cb5a-4f01-b434-dfcb2da9bbc7\",\"type\":\"ColumnDataSource\"},\"glyph\":{\"id\":\"c96f4ca7-9681-41b4-b9ee-b60a8bbc96bf\",\"type\":\"Circle\"},\"hover_glyph\":null,\"muted_glyph\":null,\"nonselection_glyph\":{\"id\":\"6fed1f08-f365-440f-a0d8-58069a3ec659\",\"type\":\"Circle\"},\"selection_glyph\":null,\"view\":{\"id\":\"be96f0ee-06f3-4c4b-9fe3-04fe546ed61f\",\"type\":\"CDSView\"}},\"id\":\"9b955806-292a-4f2b-9aa5-3554857b97e2\",\"type\":\"GlyphRenderer\"}],\"root_ids\":[\"89eb77e7-177c-48dc-b592-db08f72a1905\"]},\"title\":\"Bokeh Application\",\"version\":\"0.13.0\"}};\n",
       "  var render_items = [{\"docid\":\"2264c5ca-768d-4eea-85fe-db2a304fb9bc\",\"roots\":{\"89eb77e7-177c-48dc-b592-db08f72a1905\":\"3f50715c-b4ce-445a-857e-3248bf23c840\"}}];\n",
       "  root.Bokeh.embed.embed_items_notebook(docs_json, render_items);\n",
       "\n",
       "  }\n",
       "  if (root.Bokeh !== undefined) {\n",
       "    embed_document(root);\n",
       "  } else {\n",
       "    var attempts = 0;\n",
       "    var timer = setInterval(function(root) {\n",
       "      if (root.Bokeh !== undefined) {\n",
       "        embed_document(root);\n",
       "        clearInterval(timer);\n",
       "      }\n",
       "      attempts++;\n",
       "      if (attempts > 100) {\n",
       "        console.log(\"Bokeh: ERROR: Unable to run BokehJS code because BokehJS library is missing\")\n",
       "        clearInterval(timer);\n",
       "      }\n",
       "    }, 10, root)\n",
       "  }\n",
       "})(window);"
      ],
      "application/vnd.bokehjs_exec.v0+json": ""
     },
     "metadata": {
      "application/vnd.bokehjs_exec.v0+json": {
       "id": "89eb77e7-177c-48dc-b592-db08f72a1905"
      }
     },
     "output_type": "display_data"
    }
   ],
   "source": [
    "\n",
    "# bokeh basics\n",
    "from bokeh.plotting import figure\n",
    "from bokeh.io import show, output_notebook\n",
    "\n",
    "# Create a blank figure with labels\n",
    "p = figure(plot_width = 600, plot_height = 600, \n",
    "           title = 'Example Glyphs',\n",
    "           x_axis_label = 'X', y_axis_label = 'Y')\n",
    "\n",
    "squares_x = [1, 3, 4, 5, 8]\n",
    "squares_y = [8, 7, 3, 1, 10]\n",
    "\n",
    "circles_x = [9, 12, 4, 3, 15]\n",
    "circles_y = [8, 4, 11, 6, 10]\n",
    "\n",
    "# Squares glyph\n",
    "p.square(squares_x, squares_y, size = 12, color = 'navy', alpha = 0.6)\n",
    "\n",
    "# Circle glyph\n",
    "p.circle(circles_x, circles_y, size = 12, color = 'red')\n",
    "\n",
    "\n",
    "# Set to output the plot in the notebook\n",
    "output_notebook()\n",
    "\n",
    "# Show the plot\n",
    "show(p)"
   ]
  },
  {
   "cell_type": "markdown",
   "metadata": {},
   "source": [
    "## Data Inspection"
   ]
  },
  {
   "cell_type": "code",
   "execution_count": 31,
   "metadata": {},
   "outputs": [
    {
     "data": {
      "text/html": [
       "<div>\n",
       "<style scoped>\n",
       "    .dataframe tbody tr th:only-of-type {\n",
       "        vertical-align: middle;\n",
       "    }\n",
       "\n",
       "    .dataframe tbody tr th {\n",
       "        vertical-align: top;\n",
       "    }\n",
       "\n",
       "    .dataframe thead th {\n",
       "        text-align: right;\n",
       "    }\n",
       "</style>\n",
       "<table border=\"1\" class=\"dataframe\">\n",
       "  <thead>\n",
       "    <tr style=\"text-align: right;\">\n",
       "      <th></th>\n",
       "      <th>year</th>\n",
       "      <th>month</th>\n",
       "      <th>day</th>\n",
       "      <th>dep_time</th>\n",
       "      <th>sched_dep_time</th>\n",
       "      <th>dep_delay</th>\n",
       "      <th>arr_time</th>\n",
       "      <th>sched_arr_time</th>\n",
       "      <th>arr_delay</th>\n",
       "      <th>carrier</th>\n",
       "      <th>flight</th>\n",
       "      <th>tailnum</th>\n",
       "      <th>origin</th>\n",
       "      <th>dest</th>\n",
       "      <th>air_time</th>\n",
       "      <th>distance</th>\n",
       "      <th>hour</th>\n",
       "      <th>minute</th>\n",
       "      <th>time_hour</th>\n",
       "    </tr>\n",
       "  </thead>\n",
       "  <tbody>\n",
       "    <tr>\n",
       "      <th>1</th>\n",
       "      <td>2013</td>\n",
       "      <td>1</td>\n",
       "      <td>1</td>\n",
       "      <td>517.0</td>\n",
       "      <td>515</td>\n",
       "      <td>2.0</td>\n",
       "      <td>830.0</td>\n",
       "      <td>819</td>\n",
       "      <td>11.0</td>\n",
       "      <td>UA</td>\n",
       "      <td>1545</td>\n",
       "      <td>N14228</td>\n",
       "      <td>EWR</td>\n",
       "      <td>IAH</td>\n",
       "      <td>227.0</td>\n",
       "      <td>1400</td>\n",
       "      <td>5</td>\n",
       "      <td>15</td>\n",
       "      <td>2013-01-01 05:00:00</td>\n",
       "    </tr>\n",
       "    <tr>\n",
       "      <th>2</th>\n",
       "      <td>2013</td>\n",
       "      <td>1</td>\n",
       "      <td>1</td>\n",
       "      <td>533.0</td>\n",
       "      <td>529</td>\n",
       "      <td>4.0</td>\n",
       "      <td>850.0</td>\n",
       "      <td>830</td>\n",
       "      <td>20.0</td>\n",
       "      <td>UA</td>\n",
       "      <td>1714</td>\n",
       "      <td>N24211</td>\n",
       "      <td>LGA</td>\n",
       "      <td>IAH</td>\n",
       "      <td>227.0</td>\n",
       "      <td>1416</td>\n",
       "      <td>5</td>\n",
       "      <td>29</td>\n",
       "      <td>2013-01-01 05:00:00</td>\n",
       "    </tr>\n",
       "    <tr>\n",
       "      <th>3</th>\n",
       "      <td>2013</td>\n",
       "      <td>1</td>\n",
       "      <td>1</td>\n",
       "      <td>542.0</td>\n",
       "      <td>540</td>\n",
       "      <td>2.0</td>\n",
       "      <td>923.0</td>\n",
       "      <td>850</td>\n",
       "      <td>33.0</td>\n",
       "      <td>AA</td>\n",
       "      <td>1141</td>\n",
       "      <td>N619AA</td>\n",
       "      <td>JFK</td>\n",
       "      <td>MIA</td>\n",
       "      <td>160.0</td>\n",
       "      <td>1089</td>\n",
       "      <td>5</td>\n",
       "      <td>40</td>\n",
       "      <td>2013-01-01 05:00:00</td>\n",
       "    </tr>\n",
       "    <tr>\n",
       "      <th>4</th>\n",
       "      <td>2013</td>\n",
       "      <td>1</td>\n",
       "      <td>1</td>\n",
       "      <td>544.0</td>\n",
       "      <td>545</td>\n",
       "      <td>-1.0</td>\n",
       "      <td>1004.0</td>\n",
       "      <td>1022</td>\n",
       "      <td>-18.0</td>\n",
       "      <td>B6</td>\n",
       "      <td>725</td>\n",
       "      <td>N804JB</td>\n",
       "      <td>JFK</td>\n",
       "      <td>BQN</td>\n",
       "      <td>183.0</td>\n",
       "      <td>1576</td>\n",
       "      <td>5</td>\n",
       "      <td>45</td>\n",
       "      <td>2013-01-01 05:00:00</td>\n",
       "    </tr>\n",
       "    <tr>\n",
       "      <th>5</th>\n",
       "      <td>2013</td>\n",
       "      <td>1</td>\n",
       "      <td>1</td>\n",
       "      <td>554.0</td>\n",
       "      <td>600</td>\n",
       "      <td>-6.0</td>\n",
       "      <td>812.0</td>\n",
       "      <td>837</td>\n",
       "      <td>-25.0</td>\n",
       "      <td>DL</td>\n",
       "      <td>461</td>\n",
       "      <td>N668DN</td>\n",
       "      <td>LGA</td>\n",
       "      <td>ATL</td>\n",
       "      <td>116.0</td>\n",
       "      <td>762</td>\n",
       "      <td>6</td>\n",
       "      <td>0</td>\n",
       "      <td>2013-01-01 06:00:00</td>\n",
       "    </tr>\n",
       "  </tbody>\n",
       "</table>\n",
       "</div>"
      ],
      "text/plain": [
       "   year  month  day  dep_time  sched_dep_time  dep_delay  arr_time  \\\n",
       "1  2013      1    1     517.0             515        2.0     830.0   \n",
       "2  2013      1    1     533.0             529        4.0     850.0   \n",
       "3  2013      1    1     542.0             540        2.0     923.0   \n",
       "4  2013      1    1     544.0             545       -1.0    1004.0   \n",
       "5  2013      1    1     554.0             600       -6.0     812.0   \n",
       "\n",
       "   sched_arr_time  arr_delay carrier  flight tailnum origin dest  air_time  \\\n",
       "1             819       11.0      UA    1545  N14228    EWR  IAH     227.0   \n",
       "2             830       20.0      UA    1714  N24211    LGA  IAH     227.0   \n",
       "3             850       33.0      AA    1141  N619AA    JFK  MIA     160.0   \n",
       "4            1022      -18.0      B6     725  N804JB    JFK  BQN     183.0   \n",
       "5             837      -25.0      DL     461  N668DN    LGA  ATL     116.0   \n",
       "\n",
       "   distance  hour  minute            time_hour  \n",
       "1      1400     5      15  2013-01-01 05:00:00  \n",
       "2      1416     5      29  2013-01-01 05:00:00  \n",
       "3      1089     5      40  2013-01-01 05:00:00  \n",
       "4      1576     5      45  2013-01-01 05:00:00  \n",
       "5       762     6       0  2013-01-01 06:00:00  "
      ]
     },
     "execution_count": 31,
     "metadata": {},
     "output_type": "execute_result"
    }
   ],
   "source": [
    "flight = pd.read_csv('../../data/flights.csv', index_col=0)\n",
    "flight.head()"
   ]
  },
  {
   "cell_type": "markdown",
   "metadata": {},
   "source": [
    "### Summary Statistics\n",
    "We are going to focus on a single variable, in this case the arrival delay in minutes. Before we get into plotting, we will want to take a look at the summary statistics for the arrival delay."
   ]
  },
  {
   "cell_type": "code",
   "execution_count": 32,
   "metadata": {},
   "outputs": [
    {
     "data": {
      "text/plain": [
       "count    327346.000000\n",
       "mean          6.895377\n",
       "std          44.633292\n",
       "min         -86.000000\n",
       "25%         -17.000000\n",
       "50%          -5.000000\n",
       "75%          14.000000\n",
       "max        1272.000000\n",
       "Name: arr_delay, dtype: float64"
      ]
     },
     "execution_count": 32,
     "metadata": {},
     "output_type": "execute_result"
    }
   ],
   "source": [
    "flight['arr_delay'].describe()"
   ]
  },
  {
   "cell_type": "code",
   "execution_count": 33,
   "metadata": {},
   "outputs": [],
   "source": [
    "# Remove na values from flight data\n",
    "flights = flight.dropna()"
   ]
  },
  {
   "cell_type": "markdown",
   "metadata": {},
   "source": [
    "## Histogram\n",
    "First graph will be simple histogram of arrival delay, with all airlines on the same plot"
   ]
  },
  {
   "cell_type": "markdown",
   "metadata": {},
   "source": [
    "### Data for plotting"
   ]
  },
  {
   "cell_type": "code",
   "execution_count": 34,
   "metadata": {},
   "outputs": [],
   "source": [
    "# Bins will be five minutes in width, so number of bins is 180/5\n",
    "# Limit delays to [-60, +120] minutes using the range\n",
    "arr_hist, edges = np.histogram(flights['arr_delay'], \n",
    "                               bins = int(180/5), \n",
    "                               range = [-60, 120])\n",
    "\n",
    "# Put the information in a dataframe\n",
    "delays = pd.DataFrame({'flights': arr_hist, \n",
    "                       'left': edges[:-1], \n",
    "                       'right': edges[1:]})"
   ]
  },
  {
   "cell_type": "code",
   "execution_count": 35,
   "metadata": {},
   "outputs": [
    {
     "data": {
      "text/html": [
       "<div>\n",
       "<style scoped>\n",
       "    .dataframe tbody tr th:only-of-type {\n",
       "        vertical-align: middle;\n",
       "    }\n",
       "\n",
       "    .dataframe tbody tr th {\n",
       "        vertical-align: top;\n",
       "    }\n",
       "\n",
       "    .dataframe thead th {\n",
       "        text-align: right;\n",
       "    }\n",
       "</style>\n",
       "<table border=\"1\" class=\"dataframe\">\n",
       "  <thead>\n",
       "    <tr style=\"text-align: right;\">\n",
       "      <th></th>\n",
       "      <th>flights</th>\n",
       "      <th>left</th>\n",
       "      <th>right</th>\n",
       "    </tr>\n",
       "  </thead>\n",
       "  <tbody>\n",
       "    <tr>\n",
       "      <th>0</th>\n",
       "      <td>276</td>\n",
       "      <td>-60.0</td>\n",
       "      <td>-55.0</td>\n",
       "    </tr>\n",
       "    <tr>\n",
       "      <th>1</th>\n",
       "      <td>636</td>\n",
       "      <td>-55.0</td>\n",
       "      <td>-50.0</td>\n",
       "    </tr>\n",
       "    <tr>\n",
       "      <th>2</th>\n",
       "      <td>1394</td>\n",
       "      <td>-50.0</td>\n",
       "      <td>-45.0</td>\n",
       "    </tr>\n",
       "    <tr>\n",
       "      <th>3</th>\n",
       "      <td>2820</td>\n",
       "      <td>-45.0</td>\n",
       "      <td>-40.0</td>\n",
       "    </tr>\n",
       "    <tr>\n",
       "      <th>4</th>\n",
       "      <td>5339</td>\n",
       "      <td>-40.0</td>\n",
       "      <td>-35.0</td>\n",
       "    </tr>\n",
       "  </tbody>\n",
       "</table>\n",
       "</div>"
      ],
      "text/plain": [
       "   flights  left  right\n",
       "0      276 -60.0  -55.0\n",
       "1      636 -55.0  -50.0\n",
       "2     1394 -50.0  -45.0\n",
       "3     2820 -45.0  -40.0\n",
       "4     5339 -40.0  -35.0"
      ]
     },
     "execution_count": 35,
     "metadata": {},
     "output_type": "execute_result"
    }
   ],
   "source": [
    "delays.head()"
   ]
  },
  {
   "cell_type": "code",
   "execution_count": 36,
   "metadata": {},
   "outputs": [
    {
     "data": {
      "text/html": [
       "\n",
       "\n",
       "\n",
       "\n",
       "\n",
       "\n",
       "  <div class=\"bk-root\" id=\"f36e761e-8e81-4cf6-b722-ff35ff26b42c\"></div>\n"
      ]
     },
     "metadata": {},
     "output_type": "display_data"
    },
    {
     "data": {
      "application/javascript": [
       "(function(root) {\n",
       "  function embed_document(root) {\n",
       "    \n",
       "  var docs_json = {\"d5beb7ef-5672-4a86-8c06-5fd78a9ccbf2\":{\"roots\":{\"references\":[{\"attributes\":{},\"id\":\"39132977-cedc-4bc9-9885-3af3e790df7e\",\"type\":\"PanTool\"},{\"attributes\":{\"axis_label\":\"Delay (min)]\",\"formatter\":{\"id\":\"8f5f3e16-c4b0-45f0-97dc-4a99e43ae1c8\",\"type\":\"BasicTickFormatter\"},\"plot\":{\"id\":\"93cd4275-f0c0-4a72-8959-e96782eef253\",\"subtype\":\"Figure\",\"type\":\"Plot\"},\"ticker\":{\"id\":\"b4bed525-9901-44d7-ba12-58f533b62a2c\",\"type\":\"BasicTicker\"}},\"id\":\"db586e8a-a658-43c7-b071-5bf0adff999b\",\"type\":\"LinearAxis\"},{\"attributes\":{},\"id\":\"74380287-9696-4262-95c2-2cd3a4f1d7fd\",\"type\":\"ResetTool\"},{\"attributes\":{},\"id\":\"be9d72be-8372-43cb-ab05-707f56e8913b\",\"type\":\"SaveTool\"},{\"attributes\":{\"below\":[{\"id\":\"db586e8a-a658-43c7-b071-5bf0adff999b\",\"type\":\"LinearAxis\"}],\"left\":[{\"id\":\"3e46a0c0-ac6e-4590-8332-345245b3005b\",\"type\":\"LinearAxis\"}],\"renderers\":[{\"id\":\"db586e8a-a658-43c7-b071-5bf0adff999b\",\"type\":\"LinearAxis\"},{\"id\":\"ed477ce5-8710-48a8-9ef5-7253bca48246\",\"type\":\"Grid\"},{\"id\":\"3e46a0c0-ac6e-4590-8332-345245b3005b\",\"type\":\"LinearAxis\"},{\"id\":\"41f70629-57b9-4114-bf8b-d33a585572e0\",\"type\":\"Grid\"},{\"id\":\"28d7b958-38c0-42d0-8c80-c8bd609fb021\",\"type\":\"BoxAnnotation\"},{\"id\":\"1f94c619-986a-4dd9-9f79-05046304034c\",\"type\":\"GlyphRenderer\"}],\"title\":{\"id\":\"d39dcf8f-8173-4be9-85a9-80fa0c6867ff\",\"type\":\"Title\"},\"toolbar\":{\"id\":\"97629a41-a9c3-485f-b867-b14cae6d844b\",\"type\":\"Toolbar\"},\"x_range\":{\"id\":\"a6a02a90-5fc9-4856-914b-2769c460a7a9\",\"type\":\"DataRange1d\"},\"x_scale\":{\"id\":\"b6709f1e-c6af-4eb0-b9f6-3b8b801517b1\",\"type\":\"LinearScale\"},\"y_range\":{\"id\":\"5edac81e-f5c8-4aec-8c45-6d97fac216e9\",\"type\":\"DataRange1d\"},\"y_scale\":{\"id\":\"c7575062-aff7-4c0d-bda7-6139ca34b8fe\",\"type\":\"LinearScale\"}},\"id\":\"93cd4275-f0c0-4a72-8959-e96782eef253\",\"subtype\":\"Figure\",\"type\":\"Plot\"},{\"attributes\":{},\"id\":\"2659f290-c764-4404-a792-ed4d4317483b\",\"type\":\"Selection\"},{\"attributes\":{},\"id\":\"b4bed525-9901-44d7-ba12-58f533b62a2c\",\"type\":\"BasicTicker\"},{\"attributes\":{\"plot\":null,\"text\":\"Histogram of Arrival Delays\"},\"id\":\"d39dcf8f-8173-4be9-85a9-80fa0c6867ff\",\"type\":\"Title\"},{\"attributes\":{\"callback\":null,\"data\":{\"left\":{\"__ndarray__\":\"AAAAAAAATsAAAAAAAIBLwAAAAAAAAEnAAAAAAACARsAAAAAAAABEwAAAAAAAgEHAAAAAAAAAPsAAAAAAAAA5wAAAAAAAADTAAAAAAAAALsAAAAAAAAAkwAAAAAAAABTAAAAAAAAAAAAAAAAAAAAUQAAAAAAAACRAAAAAAAAALkAAAAAAAAA0QAAAAAAAADlAAAAAAAAAPkAAAAAAAIBBQAAAAAAAAERAAAAAAACARkAAAAAAAABJQAAAAAAAgEtAAAAAAAAATkAAAAAAAEBQQAAAAAAAgFFAAAAAAADAUkAAAAAAAABUQAAAAAAAQFVAAAAAAACAVkAAAAAAAMBXQAAAAAAAAFlAAAAAAABAWkAAAAAAAIBbQAAAAAAAwFxA\",\"dtype\":\"float64\",\"shape\":[36]},\"right\":{\"__ndarray__\":\"AAAAAACAS8AAAAAAAABJwAAAAAAAgEbAAAAAAAAARMAAAAAAAIBBwAAAAAAAAD7AAAAAAAAAOcAAAAAAAAA0wAAAAAAAAC7AAAAAAAAAJMAAAAAAAAAUwAAAAAAAAAAAAAAAAAAAFEAAAAAAAAAkQAAAAAAAAC5AAAAAAAAANEAAAAAAAAA5QAAAAAAAAD5AAAAAAACAQUAAAAAAAABEQAAAAAAAgEZAAAAAAAAASUAAAAAAAIBLQAAAAAAAAE5AAAAAAABAUEAAAAAAAIBRQAAAAAAAwFJAAAAAAAAAVEAAAAAAAEBVQAAAAAAAgFZAAAAAAADAV0AAAAAAAABZQAAAAAAAQFpAAAAAAACAW0AAAAAAAMBcQAAAAAAAAF5A\",\"dtype\":\"float64\",\"shape\":[36]},\"top\":[276,636,1394,2820,5339,9420,15551,23546,31319,34857,33790,29786,24391,19028,14894,11324,8815,7159,5908,4896,4130,3630,3139,2782,2455,2179,1973,1805,1646,1454,1360,1286,1167,1013,945,1000]},\"selected\":{\"id\":\"2659f290-c764-4404-a792-ed4d4317483b\",\"type\":\"Selection\"},\"selection_policy\":{\"id\":\"7f08b027-efc9-4225-80ef-0d40af9819fa\",\"type\":\"UnionRenderers\"}},\"id\":\"658ddf93-fd90-4d71-910a-0885b4485eb8\",\"type\":\"ColumnDataSource\"},{\"attributes\":{},\"id\":\"b6709f1e-c6af-4eb0-b9f6-3b8b801517b1\",\"type\":\"LinearScale\"},{\"attributes\":{},\"id\":\"7f08b027-efc9-4225-80ef-0d40af9819fa\",\"type\":\"UnionRenderers\"},{\"attributes\":{\"bottom\":{\"value\":0},\"fill_color\":{\"value\":\"red\"},\"left\":{\"field\":\"left\"},\"right\":{\"field\":\"right\"},\"top\":{\"field\":\"top\"}},\"id\":\"6d97a5a8-3724-48c1-b12f-ebb3a2c2d341\",\"type\":\"Quad\"},{\"attributes\":{\"axis_label\":\"Number of Flights\",\"formatter\":{\"id\":\"7049a02b-9a01-4fa7-a56c-9756f0ab9a95\",\"type\":\"BasicTickFormatter\"},\"plot\":{\"id\":\"93cd4275-f0c0-4a72-8959-e96782eef253\",\"subtype\":\"Figure\",\"type\":\"Plot\"},\"ticker\":{\"id\":\"b302acff-8344-4426-b3ad-b9208096068b\",\"type\":\"BasicTicker\"}},\"id\":\"3e46a0c0-ac6e-4590-8332-345245b3005b\",\"type\":\"LinearAxis\"},{\"attributes\":{\"bottom\":{\"value\":0},\"fill_alpha\":{\"value\":0.1},\"fill_color\":{\"value\":\"#1f77b4\"},\"left\":{\"field\":\"left\"},\"line_alpha\":{\"value\":0.1},\"line_color\":{\"value\":\"#1f77b4\"},\"right\":{\"field\":\"right\"},\"top\":{\"field\":\"top\"}},\"id\":\"221d3f42-7285-4ab5-808e-dda5061f33ee\",\"type\":\"Quad\"},{\"attributes\":{\"data_source\":{\"id\":\"658ddf93-fd90-4d71-910a-0885b4485eb8\",\"type\":\"ColumnDataSource\"},\"glyph\":{\"id\":\"6d97a5a8-3724-48c1-b12f-ebb3a2c2d341\",\"type\":\"Quad\"},\"hover_glyph\":null,\"muted_glyph\":null,\"nonselection_glyph\":{\"id\":\"221d3f42-7285-4ab5-808e-dda5061f33ee\",\"type\":\"Quad\"},\"selection_glyph\":null,\"view\":{\"id\":\"9129ee1c-ce0a-4f69-aa03-273b37352fa2\",\"type\":\"CDSView\"}},\"id\":\"1f94c619-986a-4dd9-9f79-05046304034c\",\"type\":\"GlyphRenderer\"},{\"attributes\":{\"overlay\":{\"id\":\"28d7b958-38c0-42d0-8c80-c8bd609fb021\",\"type\":\"BoxAnnotation\"}},\"id\":\"d251e1d6-8485-4b4e-bb82-661ed627b522\",\"type\":\"BoxZoomTool\"},{\"attributes\":{\"active_drag\":\"auto\",\"active_inspect\":\"auto\",\"active_multi\":null,\"active_scroll\":\"auto\",\"active_tap\":\"auto\",\"tools\":[{\"id\":\"39132977-cedc-4bc9-9885-3af3e790df7e\",\"type\":\"PanTool\"},{\"id\":\"219e6fae-a4de-4f10-8f58-473f6f802bb6\",\"type\":\"WheelZoomTool\"},{\"id\":\"d251e1d6-8485-4b4e-bb82-661ed627b522\",\"type\":\"BoxZoomTool\"},{\"id\":\"be9d72be-8372-43cb-ab05-707f56e8913b\",\"type\":\"SaveTool\"},{\"id\":\"74380287-9696-4262-95c2-2cd3a4f1d7fd\",\"type\":\"ResetTool\"},{\"id\":\"3e3c546b-b05f-4b98-b3eb-dfbf99eb5498\",\"type\":\"HelpTool\"}]},\"id\":\"97629a41-a9c3-485f-b867-b14cae6d844b\",\"type\":\"Toolbar\"},{\"attributes\":{},\"id\":\"219e6fae-a4de-4f10-8f58-473f6f802bb6\",\"type\":\"WheelZoomTool\"},{\"attributes\":{\"dimension\":1,\"plot\":{\"id\":\"93cd4275-f0c0-4a72-8959-e96782eef253\",\"subtype\":\"Figure\",\"type\":\"Plot\"},\"ticker\":{\"id\":\"b302acff-8344-4426-b3ad-b9208096068b\",\"type\":\"BasicTicker\"}},\"id\":\"41f70629-57b9-4114-bf8b-d33a585572e0\",\"type\":\"Grid\"},{\"attributes\":{},\"id\":\"b302acff-8344-4426-b3ad-b9208096068b\",\"type\":\"BasicTicker\"},{\"attributes\":{\"bottom_units\":\"screen\",\"fill_alpha\":{\"value\":0.5},\"fill_color\":{\"value\":\"lightgrey\"},\"left_units\":\"screen\",\"level\":\"overlay\",\"line_alpha\":{\"value\":1.0},\"line_color\":{\"value\":\"black\"},\"line_dash\":[4,4],\"line_width\":{\"value\":2},\"plot\":null,\"render_mode\":\"css\",\"right_units\":\"screen\",\"top_units\":\"screen\"},\"id\":\"28d7b958-38c0-42d0-8c80-c8bd609fb021\",\"type\":\"BoxAnnotation\"},{\"attributes\":{\"plot\":{\"id\":\"93cd4275-f0c0-4a72-8959-e96782eef253\",\"subtype\":\"Figure\",\"type\":\"Plot\"},\"ticker\":{\"id\":\"b4bed525-9901-44d7-ba12-58f533b62a2c\",\"type\":\"BasicTicker\"}},\"id\":\"ed477ce5-8710-48a8-9ef5-7253bca48246\",\"type\":\"Grid\"},{\"attributes\":{},\"id\":\"3e3c546b-b05f-4b98-b3eb-dfbf99eb5498\",\"type\":\"HelpTool\"},{\"attributes\":{},\"id\":\"7049a02b-9a01-4fa7-a56c-9756f0ab9a95\",\"type\":\"BasicTickFormatter\"},{\"attributes\":{},\"id\":\"8f5f3e16-c4b0-45f0-97dc-4a99e43ae1c8\",\"type\":\"BasicTickFormatter\"},{\"attributes\":{\"source\":{\"id\":\"658ddf93-fd90-4d71-910a-0885b4485eb8\",\"type\":\"ColumnDataSource\"}},\"id\":\"9129ee1c-ce0a-4f69-aa03-273b37352fa2\",\"type\":\"CDSView\"},{\"attributes\":{},\"id\":\"c7575062-aff7-4c0d-bda7-6139ca34b8fe\",\"type\":\"LinearScale\"},{\"attributes\":{\"callback\":null},\"id\":\"a6a02a90-5fc9-4856-914b-2769c460a7a9\",\"type\":\"DataRange1d\"},{\"attributes\":{\"callback\":null},\"id\":\"5edac81e-f5c8-4aec-8c45-6d97fac216e9\",\"type\":\"DataRange1d\"}],\"root_ids\":[\"93cd4275-f0c0-4a72-8959-e96782eef253\"]},\"title\":\"Bokeh Application\",\"version\":\"0.13.0\"}};\n",
       "  var render_items = [{\"docid\":\"d5beb7ef-5672-4a86-8c06-5fd78a9ccbf2\",\"roots\":{\"93cd4275-f0c0-4a72-8959-e96782eef253\":\"f36e761e-8e81-4cf6-b722-ff35ff26b42c\"}}];\n",
       "  root.Bokeh.embed.embed_items_notebook(docs_json, render_items);\n",
       "\n",
       "  }\n",
       "  if (root.Bokeh !== undefined) {\n",
       "    embed_document(root);\n",
       "  } else {\n",
       "    var attempts = 0;\n",
       "    var timer = setInterval(function(root) {\n",
       "      if (root.Bokeh !== undefined) {\n",
       "        embed_document(root);\n",
       "        clearInterval(timer);\n",
       "      }\n",
       "      attempts++;\n",
       "      if (attempts > 100) {\n",
       "        console.log(\"Bokeh: ERROR: Unable to run BokehJS code because BokehJS library is missing\")\n",
       "        clearInterval(timer);\n",
       "      }\n",
       "    }, 10, root)\n",
       "  }\n",
       "})(window);"
      ],
      "application/vnd.bokehjs_exec.v0+json": ""
     },
     "metadata": {
      "application/vnd.bokehjs_exec.v0+json": {
       "id": "93cd4275-f0c0-4a72-8959-e96782eef253"
      }
     },
     "output_type": "display_data"
    }
   ],
   "source": [
    "# Create the blank plot\n",
    "p = figure(plot_height = 600, plot_width = 600, \n",
    "           title = 'Histogram of Arrival Delays',\n",
    "          x_axis_label = 'Delay (min)]', \n",
    "           y_axis_label = 'Number of Flights')\n",
    "\n",
    "# Add a quad glyph\n",
    "p.quad(bottom=0, top=delays['flights'], \n",
    "       left=delays['left'], right=delays['right'], \n",
    "       fill_color='red', line_color='black')\n",
    "\n",
    "# Show the plot\n",
    "show(p)"
   ]
  },
  {
   "cell_type": "markdown",
   "metadata": {},
   "source": [
    "## matplotlib equivalent"
   ]
  },
  {
   "cell_type": "code",
   "execution_count": 26,
   "metadata": {},
   "outputs": [
    {
     "data": {
      "image/png": "[encoded data removed]",
      "text/plain": [
       "<Figure size 432x288 with 1 Axes>"
      ]
     },
     "metadata": {
      "needs_background": "light"
     },
     "output_type": "display_data"
    }
   ],
   "source": [
    "import matplotlib.pyplot as plt\n",
    "plt.hist(flights['arr_delay'], bins = int(180/5), range = (-60, 120));\n",
    "plt.xlabel('Delay (min)'); plt.ylabel('Number of Flights')\n",
    "plt.title('Histogram of Arrival Delays')\n",
    "plt.show()"
   ]
  },
  {
   "cell_type": "markdown",
   "metadata": {},
   "source": [
    "## Add basic styling function"
   ]
  },
  {
   "cell_type": "code",
   "execution_count": 37,
   "metadata": {},
   "outputs": [
    {
     "data": {
      "text/html": [
       "\n",
       "\n",
       "\n",
       "\n",
       "\n",
       "\n",
       "  <div class=\"bk-root\" id=\"817c9674-d231-4bb1-8f60-4ae61e724db2\"></div>\n"
      ]
     },
     "metadata": {},
     "output_type": "display_data"
    },
    {
     "data": {
      "application/javascript": [
       "(function(root) {\n",
       "  function embed_document(root) {\n",
       "    \n",
       "  var docs_json = {\"874ef764-8881-415a-9a60-05c449469d62\":{\"roots\":{\"references\":[{\"attributes\":{},\"id\":\"39132977-cedc-4bc9-9885-3af3e790df7e\",\"type\":\"PanTool\"},{\"attributes\":{\"axis_label\":\"Delay (min)]\",\"axis_label_text_font_size\":{\"value\":\"14pt\"},\"axis_label_text_font_style\":\"bold\",\"formatter\":{\"id\":\"8f5f3e16-c4b0-45f0-97dc-4a99e43ae1c8\",\"type\":\"BasicTickFormatter\"},\"major_label_text_font_size\":{\"value\":\"12pt\"},\"plot\":{\"id\":\"93cd4275-f0c0-4a72-8959-e96782eef253\",\"subtype\":\"Figure\",\"type\":\"Plot\"},\"ticker\":{\"id\":\"b4bed525-9901-44d7-ba12-58f533b62a2c\",\"type\":\"BasicTicker\"}},\"id\":\"db586e8a-a658-43c7-b071-5bf0adff999b\",\"type\":\"LinearAxis\"},{\"attributes\":{},\"id\":\"74380287-9696-4262-95c2-2cd3a4f1d7fd\",\"type\":\"ResetTool\"},{\"attributes\":{},\"id\":\"be9d72be-8372-43cb-ab05-707f56e8913b\",\"type\":\"SaveTool\"},{\"attributes\":{\"below\":[{\"id\":\"db586e8a-a658-43c7-b071-5bf0adff999b\",\"type\":\"LinearAxis\"}],\"left\":[{\"id\":\"3e46a0c0-ac6e-4590-8332-345245b3005b\",\"type\":\"LinearAxis\"}],\"renderers\":[{\"id\":\"db586e8a-a658-43c7-b071-5bf0adff999b\",\"type\":\"LinearAxis\"},{\"id\":\"ed477ce5-8710-48a8-9ef5-7253bca48246\",\"type\":\"Grid\"},{\"id\":\"3e46a0c0-ac6e-4590-8332-345245b3005b\",\"type\":\"LinearAxis\"},{\"id\":\"41f70629-57b9-4114-bf8b-d33a585572e0\",\"type\":\"Grid\"},{\"id\":\"28d7b958-38c0-42d0-8c80-c8bd609fb021\",\"type\":\"BoxAnnotation\"},{\"id\":\"1f94c619-986a-4dd9-9f79-05046304034c\",\"type\":\"GlyphRenderer\"}],\"title\":{\"id\":\"d39dcf8f-8173-4be9-85a9-80fa0c6867ff\",\"type\":\"Title\"},\"toolbar\":{\"id\":\"97629a41-a9c3-485f-b867-b14cae6d844b\",\"type\":\"Toolbar\"},\"x_range\":{\"id\":\"a6a02a90-5fc9-4856-914b-2769c460a7a9\",\"type\":\"DataRange1d\"},\"x_scale\":{\"id\":\"b6709f1e-c6af-4eb0-b9f6-3b8b801517b1\",\"type\":\"LinearScale\"},\"y_range\":{\"id\":\"5edac81e-f5c8-4aec-8c45-6d97fac216e9\",\"type\":\"DataRange1d\"},\"y_scale\":{\"id\":\"c7575062-aff7-4c0d-bda7-6139ca34b8fe\",\"type\":\"LinearScale\"}},\"id\":\"93cd4275-f0c0-4a72-8959-e96782eef253\",\"subtype\":\"Figure\",\"type\":\"Plot\"},{\"attributes\":{},\"id\":\"2659f290-c764-4404-a792-ed4d4317483b\",\"type\":\"Selection\"},{\"attributes\":{},\"id\":\"b4bed525-9901-44d7-ba12-58f533b62a2c\",\"type\":\"BasicTicker\"},{\"attributes\":{\"align\":\"center\",\"plot\":null,\"text\":\"Histogram of Arrival Delays\",\"text_font\":\"serif\",\"text_font_size\":{\"value\":\"20pt\"}},\"id\":\"d39dcf8f-8173-4be9-85a9-80fa0c6867ff\",\"type\":\"Title\"},{\"attributes\":{\"callback\":null,\"data\":{\"left\":{\"__ndarray__\":\"AAAAAAAATsAAAAAAAIBLwAAAAAAAAEnAAAAAAACARsAAAAAAAABEwAAAAAAAgEHAAAAAAAAAPsAAAAAAAAA5wAAAAAAAADTAAAAAAAAALsAAAAAAAAAkwAAAAAAAABTAAAAAAAAAAAAAAAAAAAAUQAAAAAAAACRAAAAAAAAALkAAAAAAAAA0QAAAAAAAADlAAAAAAAAAPkAAAAAAAIBBQAAAAAAAAERAAAAAAACARkAAAAAAAABJQAAAAAAAgEtAAAAAAAAATkAAAAAAAEBQQAAAAAAAgFFAAAAAAADAUkAAAAAAAABUQAAAAAAAQFVAAAAAAACAVkAAAAAAAMBXQAAAAAAAAFlAAAAAAABAWkAAAAAAAIBbQAAAAAAAwFxA\",\"dtype\":\"float64\",\"shape\":[36]},\"right\":{\"__ndarray__\":\"AAAAAACAS8AAAAAAAABJwAAAAAAAgEbAAAAAAAAARMAAAAAAAIBBwAAAAAAAAD7AAAAAAAAAOcAAAAAAAAA0wAAAAAAAAC7AAAAAAAAAJMAAAAAAAAAUwAAAAAAAAAAAAAAAAAAAFEAAAAAAAAAkQAAAAAAAAC5AAAAAAAAANEAAAAAAAAA5QAAAAAAAAD5AAAAAAACAQUAAAAAAAABEQAAAAAAAgEZAAAAAAAAASUAAAAAAAIBLQAAAAAAAAE5AAAAAAABAUEAAAAAAAIBRQAAAAAAAwFJAAAAAAAAAVEAAAAAAAEBVQAAAAAAAgFZAAAAAAADAV0AAAAAAAABZQAAAAAAAQFpAAAAAAACAW0AAAAAAAMBcQAAAAAAAAF5A\",\"dtype\":\"float64\",\"shape\":[36]},\"top\":[276,636,1394,2820,5339,9420,15551,23546,31319,34857,33790,29786,24391,19028,14894,11324,8815,7159,5908,4896,4130,3630,3139,2782,2455,2179,1973,1805,1646,1454,1360,1286,1167,1013,945,1000]},\"selected\":{\"id\":\"2659f290-c764-4404-a792-ed4d4317483b\",\"type\":\"Selection\"},\"selection_policy\":{\"id\":\"7f08b027-efc9-4225-80ef-0d40af9819fa\",\"type\":\"UnionRenderers\"}},\"id\":\"658ddf93-fd90-4d71-910a-0885b4485eb8\",\"type\":\"ColumnDataSource\"},{\"attributes\":{},\"id\":\"b6709f1e-c6af-4eb0-b9f6-3b8b801517b1\",\"type\":\"LinearScale\"},{\"attributes\":{},\"id\":\"7f08b027-efc9-4225-80ef-0d40af9819fa\",\"type\":\"UnionRenderers\"},{\"attributes\":{\"bottom\":{\"value\":0},\"fill_color\":{\"value\":\"red\"},\"left\":{\"field\":\"left\"},\"right\":{\"field\":\"right\"},\"top\":{\"field\":\"top\"}},\"id\":\"6d97a5a8-3724-48c1-b12f-ebb3a2c2d341\",\"type\":\"Quad\"},{\"attributes\":{\"axis_label\":\"Number of Flights\",\"axis_label_text_font_size\":{\"value\":\"14pt\"},\"axis_label_text_font_style\":\"bold\",\"formatter\":{\"id\":\"7049a02b-9a01-4fa7-a56c-9756f0ab9a95\",\"type\":\"BasicTickFormatter\"},\"major_label_text_font_size\":{\"value\":\"12pt\"},\"plot\":{\"id\":\"93cd4275-f0c0-4a72-8959-e96782eef253\",\"subtype\":\"Figure\",\"type\":\"Plot\"},\"ticker\":{\"id\":\"b302acff-8344-4426-b3ad-b9208096068b\",\"type\":\"BasicTicker\"}},\"id\":\"3e46a0c0-ac6e-4590-8332-345245b3005b\",\"type\":\"LinearAxis\"},{\"attributes\":{\"bottom\":{\"value\":0},\"fill_alpha\":{\"value\":0.1},\"fill_color\":{\"value\":\"#1f77b4\"},\"left\":{\"field\":\"left\"},\"line_alpha\":{\"value\":0.1},\"line_color\":{\"value\":\"#1f77b4\"},\"right\":{\"field\":\"right\"},\"top\":{\"field\":\"top\"}},\"id\":\"221d3f42-7285-4ab5-808e-dda5061f33ee\",\"type\":\"Quad\"},{\"attributes\":{\"data_source\":{\"id\":\"658ddf93-fd90-4d71-910a-0885b4485eb8\",\"type\":\"ColumnDataSource\"},\"glyph\":{\"id\":\"6d97a5a8-3724-48c1-b12f-ebb3a2c2d341\",\"type\":\"Quad\"},\"hover_glyph\":null,\"muted_glyph\":null,\"nonselection_glyph\":{\"id\":\"221d3f42-7285-4ab5-808e-dda5061f33ee\",\"type\":\"Quad\"},\"selection_glyph\":null,\"view\":{\"id\":\"9129ee1c-ce0a-4f69-aa03-273b37352fa2\",\"type\":\"CDSView\"}},\"id\":\"1f94c619-986a-4dd9-9f79-05046304034c\",\"type\":\"GlyphRenderer\"},{\"attributes\":{\"overlay\":{\"id\":\"28d7b958-38c0-42d0-8c80-c8bd609fb021\",\"type\":\"BoxAnnotation\"}},\"id\":\"d251e1d6-8485-4b4e-bb82-661ed627b522\",\"type\":\"BoxZoomTool\"},{\"attributes\":{\"active_drag\":\"auto\",\"active_inspect\":\"auto\",\"active_multi\":null,\"active_scroll\":\"auto\",\"active_tap\":\"auto\",\"tools\":[{\"id\":\"39132977-cedc-4bc9-9885-3af3e790df7e\",\"type\":\"PanTool\"},{\"id\":\"219e6fae-a4de-4f10-8f58-473f6f802bb6\",\"type\":\"WheelZoomTool\"},{\"id\":\"d251e1d6-8485-4b4e-bb82-661ed627b522\",\"type\":\"BoxZoomTool\"},{\"id\":\"be9d72be-8372-43cb-ab05-707f56e8913b\",\"type\":\"SaveTool\"},{\"id\":\"74380287-9696-4262-95c2-2cd3a4f1d7fd\",\"type\":\"ResetTool\"},{\"id\":\"3e3c546b-b05f-4b98-b3eb-dfbf99eb5498\",\"type\":\"HelpTool\"}]},\"id\":\"97629a41-a9c3-485f-b867-b14cae6d844b\",\"type\":\"Toolbar\"},{\"attributes\":{},\"id\":\"219e6fae-a4de-4f10-8f58-473f6f802bb6\",\"type\":\"WheelZoomTool\"},{\"attributes\":{\"dimension\":1,\"plot\":{\"id\":\"93cd4275-f0c0-4a72-8959-e96782eef253\",\"subtype\":\"Figure\",\"type\":\"Plot\"},\"ticker\":{\"id\":\"b302acff-8344-4426-b3ad-b9208096068b\",\"type\":\"BasicTicker\"}},\"id\":\"41f70629-57b9-4114-bf8b-d33a585572e0\",\"type\":\"Grid\"},{\"attributes\":{},\"id\":\"b302acff-8344-4426-b3ad-b9208096068b\",\"type\":\"BasicTicker\"},{\"attributes\":{\"bottom_units\":\"screen\",\"fill_alpha\":{\"value\":0.5},\"fill_color\":{\"value\":\"lightgrey\"},\"left_units\":\"screen\",\"level\":\"overlay\",\"line_alpha\":{\"value\":1.0},\"line_color\":{\"value\":\"black\"},\"line_dash\":[4,4],\"line_width\":{\"value\":2},\"plot\":null,\"render_mode\":\"css\",\"right_units\":\"screen\",\"top_units\":\"screen\"},\"id\":\"28d7b958-38c0-42d0-8c80-c8bd609fb021\",\"type\":\"BoxAnnotation\"},{\"attributes\":{\"plot\":{\"id\":\"93cd4275-f0c0-4a72-8959-e96782eef253\",\"subtype\":\"Figure\",\"type\":\"Plot\"},\"ticker\":{\"id\":\"b4bed525-9901-44d7-ba12-58f533b62a2c\",\"type\":\"BasicTicker\"}},\"id\":\"ed477ce5-8710-48a8-9ef5-7253bca48246\",\"type\":\"Grid\"},{\"attributes\":{},\"id\":\"3e3c546b-b05f-4b98-b3eb-dfbf99eb5498\",\"type\":\"HelpTool\"},{\"attributes\":{},\"id\":\"7049a02b-9a01-4fa7-a56c-9756f0ab9a95\",\"type\":\"BasicTickFormatter\"},{\"attributes\":{},\"id\":\"8f5f3e16-c4b0-45f0-97dc-4a99e43ae1c8\",\"type\":\"BasicTickFormatter\"},{\"attributes\":{\"source\":{\"id\":\"658ddf93-fd90-4d71-910a-0885b4485eb8\",\"type\":\"ColumnDataSource\"}},\"id\":\"9129ee1c-ce0a-4f69-aa03-273b37352fa2\",\"type\":\"CDSView\"},{\"attributes\":{},\"id\":\"c7575062-aff7-4c0d-bda7-6139ca34b8fe\",\"type\":\"LinearScale\"},{\"attributes\":{\"callback\":null},\"id\":\"a6a02a90-5fc9-4856-914b-2769c460a7a9\",\"type\":\"DataRange1d\"},{\"attributes\":{\"callback\":null},\"id\":\"5edac81e-f5c8-4aec-8c45-6d97fac216e9\",\"type\":\"DataRange1d\"}],\"root_ids\":[\"93cd4275-f0c0-4a72-8959-e96782eef253\"]},\"title\":\"Bokeh Application\",\"version\":\"0.13.0\"}};\n",
       "  var render_items = [{\"docid\":\"874ef764-8881-415a-9a60-05c449469d62\",\"roots\":{\"93cd4275-f0c0-4a72-8959-e96782eef253\":\"817c9674-d231-4bb1-8f60-4ae61e724db2\"}}];\n",
       "  root.Bokeh.embed.embed_items_notebook(docs_json, render_items);\n",
       "\n",
       "  }\n",
       "  if (root.Bokeh !== undefined) {\n",
       "    embed_document(root);\n",
       "  } else {\n",
       "    var attempts = 0;\n",
       "    var timer = setInterval(function(root) {\n",
       "      if (root.Bokeh !== undefined) {\n",
       "        embed_document(root);\n",
       "        clearInterval(timer);\n",
       "      }\n",
       "      attempts++;\n",
       "      if (attempts > 100) {\n",
       "        console.log(\"Bokeh: ERROR: Unable to run BokehJS code because BokehJS library is missing\")\n",
       "        clearInterval(timer);\n",
       "      }\n",
       "    }, 10, root)\n",
       "  }\n",
       "})(window);"
      ],
      "application/vnd.bokehjs_exec.v0+json": ""
     },
     "metadata": {
      "application/vnd.bokehjs_exec.v0+json": {
       "id": "93cd4275-f0c0-4a72-8959-e96782eef253"
      }
     },
     "output_type": "display_data"
    }
   ],
   "source": [
    "# Style function that takes in a plot\n",
    "def style(p):\n",
    "    # Title \n",
    "    p.title.align = 'center'\n",
    "    p.title.text_font_size = '20pt'\n",
    "    p.title.text_font = 'serif'\n",
    "    \n",
    "    # Axis titles\n",
    "    p.xaxis.axis_label_text_font_size = '14pt'\n",
    "    p.xaxis.axis_label_text_font_style = 'bold'\n",
    "    p.yaxis.axis_label_text_font_size = '14pt'\n",
    "    p.yaxis.axis_label_text_font_style = 'bold'\n",
    "    \n",
    "    # Tick labels\n",
    "    p.xaxis.major_label_text_font_size = '12pt'\n",
    "    p.yaxis.major_label_text_font_size = '12pt'\n",
    "    \n",
    "    return p\n",
    "\n",
    "# Add Aesthetics\n",
    "styled_p = style(p)\n",
    "\n",
    "# Show plot\n",
    "show(styled_p)"
   ]
  },
  {
   "cell_type": "markdown",
   "metadata": {},
   "source": [
    "## Adding Interactivity\n",
    "There are easier ways to create a basic histogram in Python, using matplotlib, but Bokeh provides ways to interact with the data\n",
    "\n",
    "### **Passive Interactions**\n",
    "(inspectors) are actions which do not alter the data displayed. e.g. the **HoverTool**"
   ]
  },
  {
   "cell_type": "markdown",
   "metadata": {},
   "source": [
    "### ColumnDataSource"
   ]
  },
  {
   "cell_type": "code",
   "execution_count": 17,
   "metadata": {},
   "outputs": [],
   "source": [
    "# Import the ColumnDataSource class\n",
    "from bokeh.models import ColumnDataSource"
   ]
  },
  {
   "cell_type": "code",
   "execution_count": 38,
   "metadata": {},
   "outputs": [
    {
     "data": {
      "text/html": [
       "<div>\n",
       "<style scoped>\n",
       "    .dataframe tbody tr th:only-of-type {\n",
       "        vertical-align: middle;\n",
       "    }\n",
       "\n",
       "    .dataframe tbody tr th {\n",
       "        vertical-align: top;\n",
       "    }\n",
       "\n",
       "    .dataframe thead th {\n",
       "        text-align: right;\n",
       "    }\n",
       "</style>\n",
       "<table border=\"1\" class=\"dataframe\">\n",
       "  <thead>\n",
       "    <tr style=\"text-align: right;\">\n",
       "      <th></th>\n",
       "      <th>flights</th>\n",
       "      <th>left</th>\n",
       "      <th>right</th>\n",
       "      <th>f_flights</th>\n",
       "      <th>f_interval</th>\n",
       "    </tr>\n",
       "  </thead>\n",
       "  <tbody>\n",
       "    <tr>\n",
       "      <th>0</th>\n",
       "      <td>276</td>\n",
       "      <td>-60.0</td>\n",
       "      <td>-55.0</td>\n",
       "      <td>276 flights</td>\n",
       "      <td>-60 to -55 minutes</td>\n",
       "    </tr>\n",
       "    <tr>\n",
       "      <th>1</th>\n",
       "      <td>636</td>\n",
       "      <td>-55.0</td>\n",
       "      <td>-50.0</td>\n",
       "      <td>636 flights</td>\n",
       "      <td>-55 to -50 minutes</td>\n",
       "    </tr>\n",
       "    <tr>\n",
       "      <th>2</th>\n",
       "      <td>1394</td>\n",
       "      <td>-50.0</td>\n",
       "      <td>-45.0</td>\n",
       "      <td>1394 flights</td>\n",
       "      <td>-50 to -45 minutes</td>\n",
       "    </tr>\n",
       "    <tr>\n",
       "      <th>3</th>\n",
       "      <td>2820</td>\n",
       "      <td>-45.0</td>\n",
       "      <td>-40.0</td>\n",
       "      <td>2820 flights</td>\n",
       "      <td>-45 to -40 minutes</td>\n",
       "    </tr>\n",
       "    <tr>\n",
       "      <th>4</th>\n",
       "      <td>5339</td>\n",
       "      <td>-40.0</td>\n",
       "      <td>-35.0</td>\n",
       "      <td>5339 flights</td>\n",
       "      <td>-40 to -35 minutes</td>\n",
       "    </tr>\n",
       "  </tbody>\n",
       "</table>\n",
       "</div>"
      ],
      "text/plain": [
       "   flights  left  right     f_flights          f_interval\n",
       "0      276 -60.0  -55.0   276 flights  -60 to -55 minutes\n",
       "1      636 -55.0  -50.0   636 flights  -55 to -50 minutes\n",
       "2     1394 -50.0  -45.0  1394 flights  -50 to -45 minutes\n",
       "3     2820 -45.0  -40.0  2820 flights  -45 to -40 minutes\n",
       "4     5339 -40.0  -35.0  5339 flights  -40 to -35 minutes"
      ]
     },
     "execution_count": 38,
     "metadata": {},
     "output_type": "execute_result"
    }
   ],
   "source": [
    "# Formatted columns for Hover Tooltips\n",
    "delays['f_flights'] = ['%d flights' % count for count in delays['flights']]\n",
    "delays['f_interval'] = ['%d to %d minutes' % (left, right) for left, right in zip(delays['left'], delays['right'])]\n",
    "\n",
    "delays.head()"
   ]
  },
  {
   "cell_type": "code",
   "execution_count": 39,
   "metadata": {},
   "outputs": [
    {
     "data": {
      "text/plain": [
       "dict_keys(['f_interval', 'index', 'f_flights', 'left', 'flights', 'right'])"
      ]
     },
     "execution_count": 39,
     "metadata": {},
     "output_type": "execute_result"
    }
   ],
   "source": [
    "# Convert to column data source\n",
    "src = ColumnDataSource(delays)\n",
    "src.data.keys()"
   ]
  },
  {
   "cell_type": "markdown",
   "metadata": {},
   "source": [
    "### Add in Tooltips on Hover"
   ]
  },
  {
   "cell_type": "code",
   "execution_count": 40,
   "metadata": {},
   "outputs": [],
   "source": [
    "# Import the hover tool class\n",
    "from bokeh.models import HoverTool"
   ]
  },
  {
   "cell_type": "code",
   "execution_count": 41,
   "metadata": {},
   "outputs": [
    {
     "data": {
      "text/html": [
       "\n",
       "\n",
       "\n",
       "\n",
       "\n",
       "\n",
       "  <div class=\"bk-root\" id=\"52e38526-3a74-4798-9388-8521498eafb5\"></div>\n"
      ]
     },
     "metadata": {},
     "output_type": "display_data"
    },
    {
     "data": {
      "application/javascript": [
       "(function(root) {\n",
       "  function embed_document(root) {\n",
       "    \n",
       "  var docs_json = {\"dd34f2a5-2131-4bb4-b046-00a5cead67f8\":{\"roots\":{\"references\":[{\"attributes\":{\"active_drag\":\"auto\",\"active_inspect\":\"auto\",\"active_multi\":null,\"active_scroll\":\"auto\",\"active_tap\":\"auto\",\"tools\":[{\"id\":\"9b0dfddc-01f3-4b27-83ba-f32db328eb5d\",\"type\":\"PanTool\"},{\"id\":\"e06ac3e3-d7d8-4221-b761-fb9986285257\",\"type\":\"WheelZoomTool\"},{\"id\":\"9f940ea1-34fb-4f7c-9329-7089126b196c\",\"type\":\"BoxZoomTool\"},{\"id\":\"647ec487-6a77-4158-a93a-fcaa750d2f45\",\"type\":\"SaveTool\"},{\"id\":\"78033d06-9fa7-4713-8426-cc3830964d9c\",\"type\":\"ResetTool\"},{\"id\":\"2a196830-b8d2-408c-bdfd-b1c7c5a7af1c\",\"type\":\"HelpTool\"},{\"id\":\"5afb1dd6-6bb7-4836-bf00-7e325c0f36a9\",\"type\":\"HoverTool\"}]},\"id\":\"c864bdf9-99ae-4da4-b1d2-3e9a6590ad7d\",\"type\":\"Toolbar\"},{\"attributes\":{\"overlay\":{\"id\":\"fbfcd12b-c13b-45cd-bfd6-39d8d500e79a\",\"type\":\"BoxAnnotation\"}},\"id\":\"9f940ea1-34fb-4f7c-9329-7089126b196c\",\"type\":\"BoxZoomTool\"},{\"attributes\":{\"bottom_units\":\"screen\",\"fill_alpha\":{\"value\":0.5},\"fill_color\":{\"value\":\"lightgrey\"},\"left_units\":\"screen\",\"level\":\"overlay\",\"line_alpha\":{\"value\":1.0},\"line_color\":{\"value\":\"black\"},\"line_dash\":[4,4],\"line_width\":{\"value\":2},\"plot\":null,\"render_mode\":\"css\",\"right_units\":\"screen\",\"top_units\":\"screen\"},\"id\":\"fbfcd12b-c13b-45cd-bfd6-39d8d500e79a\",\"type\":\"BoxAnnotation\"},{\"attributes\":{\"callback\":null},\"id\":\"908e2aad-c692-4fe2-9116-f57b73b7f7d7\",\"type\":\"DataRange1d\"},{\"attributes\":{},\"id\":\"8a32b163-ed9c-4547-bb4b-cd3d7e0c63ef\",\"type\":\"UnionRenderers\"},{\"attributes\":{\"bottom\":{\"value\":0},\"fill_color\":{\"value\":\"navy\"},\"left\":{\"field\":\"left\"},\"line_color\":{\"value\":\"#1f77b4\"},\"right\":{\"field\":\"right\"},\"top\":{\"field\":\"flights\"}},\"id\":\"60fe58e9-55f0-499a-b6ce-d97d13cd4eed\",\"type\":\"Quad\"},{\"attributes\":{\"below\":[{\"id\":\"729d04a8-767d-473c-a67c-1ec8345dad65\",\"type\":\"LinearAxis\"}],\"left\":[{\"id\":\"54dd0fed-7e4f-4122-804d-7fc3ee075e47\",\"type\":\"LinearAxis\"}],\"renderers\":[{\"id\":\"729d04a8-767d-473c-a67c-1ec8345dad65\",\"type\":\"LinearAxis\"},{\"id\":\"1992cfe0-e46c-4cf7-af6f-0ee01595a047\",\"type\":\"Grid\"},{\"id\":\"54dd0fed-7e4f-4122-804d-7fc3ee075e47\",\"type\":\"LinearAxis\"},{\"id\":\"0eff8b4d-7de6-4089-af32-833847e2d159\",\"type\":\"Grid\"},{\"id\":\"fbfcd12b-c13b-45cd-bfd6-39d8d500e79a\",\"type\":\"BoxAnnotation\"},{\"id\":\"b1a9d3db-974d-47aa-a103-559cf535b3c9\",\"type\":\"GlyphRenderer\"}],\"title\":{\"id\":\"8a55ae94-aeef-4f17-9f3c-076595a6bba8\",\"type\":\"Title\"},\"toolbar\":{\"id\":\"c864bdf9-99ae-4da4-b1d2-3e9a6590ad7d\",\"type\":\"Toolbar\"},\"x_range\":{\"id\":\"908e2aad-c692-4fe2-9116-f57b73b7f7d7\",\"type\":\"DataRange1d\"},\"x_scale\":{\"id\":\"7f5c15a0-dbff-43dc-81c8-8cf2c29b2448\",\"type\":\"LinearScale\"},\"y_range\":{\"id\":\"153ebdec-1d50-4247-a4fa-ededd2eecfdf\",\"type\":\"DataRange1d\"},\"y_scale\":{\"id\":\"9486cac0-11cb-4c0b-9b32-b13276390891\",\"type\":\"LinearScale\"}},\"id\":\"3ff0918d-0da0-4726-9518-83c8076fc471\",\"subtype\":\"Figure\",\"type\":\"Plot\"},{\"attributes\":{\"callback\":null},\"id\":\"153ebdec-1d50-4247-a4fa-ededd2eecfdf\",\"type\":\"DataRange1d\"},{\"attributes\":{\"callback\":null,\"data\":{\"f_flights\":[\"276 flights\",\"636 flights\",\"1394 flights\",\"2820 flights\",\"5339 flights\",\"9420 flights\",\"15551 flights\",\"23546 flights\",\"31319 flights\",\"34857 flights\",\"33790 flights\",\"29786 flights\",\"24391 flights\",\"19028 flights\",\"14894 flights\",\"11324 flights\",\"8815 flights\",\"7159 flights\",\"5908 flights\",\"4896 flights\",\"4130 flights\",\"3630 flights\",\"3139 flights\",\"2782 flights\",\"2455 flights\",\"2179 flights\",\"1973 flights\",\"1805 flights\",\"1646 flights\",\"1454 flights\",\"1360 flights\",\"1286 flights\",\"1167 flights\",\"1013 flights\",\"945 flights\",\"1000 flights\"],\"f_interval\":[\"-60 to -55 minutes\",\"-55 to -50 minutes\",\"-50 to -45 minutes\",\"-45 to -40 minutes\",\"-40 to -35 minutes\",\"-35 to -30 minutes\",\"-30 to -25 minutes\",\"-25 to -20 minutes\",\"-20 to -15 minutes\",\"-15 to -10 minutes\",\"-10 to -5 minutes\",\"-5 to 0 minutes\",\"0 to 5 minutes\",\"5 to 10 minutes\",\"10 to 15 minutes\",\"15 to 20 minutes\",\"20 to 25 minutes\",\"25 to 30 minutes\",\"30 to 35 minutes\",\"35 to 40 minutes\",\"40 to 45 minutes\",\"45 to 50 minutes\",\"50 to 55 minutes\",\"55 to 60 minutes\",\"60 to 65 minutes\",\"65 to 70 minutes\",\"70 to 75 minutes\",\"75 to 80 minutes\",\"80 to 85 minutes\",\"85 to 90 minutes\",\"90 to 95 minutes\",\"95 to 100 minutes\",\"100 to 105 minutes\",\"105 to 110 minutes\",\"110 to 115 minutes\",\"115 to 120 minutes\"],\"flights\":[276,636,1394,2820,5339,9420,15551,23546,31319,34857,33790,29786,24391,19028,14894,11324,8815,7159,5908,4896,4130,3630,3139,2782,2455,2179,1973,1805,1646,1454,1360,1286,1167,1013,945,1000],\"index\":[0,1,2,3,4,5,6,7,8,9,10,11,12,13,14,15,16,17,18,19,20,21,22,23,24,25,26,27,28,29,30,31,32,33,34,35],\"left\":{\"__ndarray__\":\"AAAAAAAATsAAAAAAAIBLwAAAAAAAAEnAAAAAAACARsAAAAAAAABEwAAAAAAAgEHAAAAAAAAAPsAAAAAAAAA5wAAAAAAAADTAAAAAAAAALsAAAAAAAAAkwAAAAAAAABTAAAAAAAAAAAAAAAAAAAAUQAAAAAAAACRAAAAAAAAALkAAAAAAAAA0QAAAAAAAADlAAAAAAAAAPkAAAAAAAIBBQAAAAAAAAERAAAAAAACARkAAAAAAAABJQAAAAAAAgEtAAAAAAAAATkAAAAAAAEBQQAAAAAAAgFFAAAAAAADAUkAAAAAAAABUQAAAAAAAQFVAAAAAAACAVkAAAAAAAMBXQAAAAAAAAFlAAAAAAABAWkAAAAAAAIBbQAAAAAAAwFxA\",\"dtype\":\"float64\",\"shape\":[36]},\"right\":{\"__ndarray__\":\"AAAAAACAS8AAAAAAAABJwAAAAAAAgEbAAAAAAAAARMAAAAAAAIBBwAAAAAAAAD7AAAAAAAAAOcAAAAAAAAA0wAAAAAAAAC7AAAAAAAAAJMAAAAAAAAAUwAAAAAAAAAAAAAAAAAAAFEAAAAAAAAAkQAAAAAAAAC5AAAAAAAAANEAAAAAAAAA5QAAAAAAAAD5AAAAAAACAQUAAAAAAAABEQAAAAAAAgEZAAAAAAAAASUAAAAAAAIBLQAAAAAAAAE5AAAAAAABAUEAAAAAAAIBRQAAAAAAAwFJAAAAAAAAAVEAAAAAAAEBVQAAAAAAAgFZAAAAAAADAV0AAAAAAAABZQAAAAAAAQFpAAAAAAACAW0AAAAAAAMBcQAAAAAAAAF5A\",\"dtype\":\"float64\",\"shape\":[36]}},\"selected\":{\"id\":\"e33f19b5-c6e9-468d-ae17-bd7d1f35ae97\",\"type\":\"Selection\"},\"selection_policy\":{\"id\":\"8a32b163-ed9c-4547-bb4b-cd3d7e0c63ef\",\"type\":\"UnionRenderers\"}},\"id\":\"9def454c-308c-44ee-8a7e-8ccfe88da93f\",\"type\":\"ColumnDataSource\"},{\"attributes\":{\"bottom\":{\"value\":0},\"fill_alpha\":{\"value\":0.1},\"fill_color\":{\"value\":\"#1f77b4\"},\"left\":{\"field\":\"left\"},\"line_alpha\":{\"value\":0.1},\"line_color\":{\"value\":\"#1f77b4\"},\"right\":{\"field\":\"right\"},\"top\":{\"field\":\"flights\"}},\"id\":\"9cc44c5c-b501-48ab-8d4d-f9c8b7e9f8e0\",\"type\":\"Quad\"},{\"attributes\":{\"data_source\":{\"id\":\"9def454c-308c-44ee-8a7e-8ccfe88da93f\",\"type\":\"ColumnDataSource\"},\"glyph\":{\"id\":\"7fa040e7-6ab4-45f6-b9eb-14d00af470cc\",\"type\":\"Quad\"},\"hover_glyph\":{\"id\":\"60fe58e9-55f0-499a-b6ce-d97d13cd4eed\",\"type\":\"Quad\"},\"muted_glyph\":null,\"nonselection_glyph\":{\"id\":\"9cc44c5c-b501-48ab-8d4d-f9c8b7e9f8e0\",\"type\":\"Quad\"},\"selection_glyph\":null,\"view\":{\"id\":\"05abe65e-d649-4149-b1d9-d10ebdaec004\",\"type\":\"CDSView\"}},\"id\":\"b1a9d3db-974d-47aa-a103-559cf535b3c9\",\"type\":\"GlyphRenderer\"},{\"attributes\":{\"bottom\":{\"value\":0},\"fill_alpha\":{\"value\":0.75},\"fill_color\":{\"value\":\"red\"},\"left\":{\"field\":\"left\"},\"right\":{\"field\":\"right\"},\"top\":{\"field\":\"flights\"}},\"id\":\"7fa040e7-6ab4-45f6-b9eb-14d00af470cc\",\"type\":\"Quad\"},{\"attributes\":{},\"id\":\"e33f19b5-c6e9-468d-ae17-bd7d1f35ae97\",\"type\":\"Selection\"},{\"attributes\":{\"axis_label\":\"Number of Flights\",\"axis_label_text_font_size\":{\"value\":\"14pt\"},\"axis_label_text_font_style\":\"bold\",\"formatter\":{\"id\":\"37ca98ce-3e63-4c58-a12f-5e2335abbe84\",\"type\":\"BasicTickFormatter\"},\"major_label_text_font_size\":{\"value\":\"12pt\"},\"plot\":{\"id\":\"3ff0918d-0da0-4726-9518-83c8076fc471\",\"subtype\":\"Figure\",\"type\":\"Plot\"},\"ticker\":{\"id\":\"5abd835f-4bd9-4c77-9dae-7241b545bf3d\",\"type\":\"BasicTicker\"}},\"id\":\"54dd0fed-7e4f-4122-804d-7fc3ee075e47\",\"type\":\"LinearAxis\"},{\"attributes\":{},\"id\":\"37ca98ce-3e63-4c58-a12f-5e2335abbe84\",\"type\":\"BasicTickFormatter\"},{\"attributes\":{\"axis_label\":\"Delay (min)\",\"axis_label_text_font_size\":{\"value\":\"14pt\"},\"axis_label_text_font_style\":\"bold\",\"formatter\":{\"id\":\"21924a85-2b3b-410c-901a-82e6a1e037d6\",\"type\":\"BasicTickFormatter\"},\"major_label_text_font_size\":{\"value\":\"12pt\"},\"plot\":{\"id\":\"3ff0918d-0da0-4726-9518-83c8076fc471\",\"subtype\":\"Figure\",\"type\":\"Plot\"},\"ticker\":{\"id\":\"73da2743-5298-4ca4-97aa-4f7569791c7f\",\"type\":\"BasicTicker\"}},\"id\":\"729d04a8-767d-473c-a67c-1ec8345dad65\",\"type\":\"LinearAxis\"},{\"attributes\":{},\"id\":\"9b0dfddc-01f3-4b27-83ba-f32db328eb5d\",\"type\":\"PanTool\"},{\"attributes\":{\"callback\":null,\"renderers\":\"auto\",\"tooltips\":[[\"Delay\",\"@f_interval\"],[\"Num of Flights\",\"@f_flights\"]]},\"id\":\"5afb1dd6-6bb7-4836-bf00-7e325c0f36a9\",\"type\":\"HoverTool\"},{\"attributes\":{\"align\":\"center\",\"plot\":null,\"text\":\"Histogram of Arrival Delays\",\"text_font\":\"serif\",\"text_font_size\":{\"value\":\"20pt\"}},\"id\":\"8a55ae94-aeef-4f17-9f3c-076595a6bba8\",\"type\":\"Title\"},{\"attributes\":{},\"id\":\"2a196830-b8d2-408c-bdfd-b1c7c5a7af1c\",\"type\":\"HelpTool\"},{\"attributes\":{},\"id\":\"78033d06-9fa7-4713-8426-cc3830964d9c\",\"type\":\"ResetTool\"},{\"attributes\":{},\"id\":\"647ec487-6a77-4158-a93a-fcaa750d2f45\",\"type\":\"SaveTool\"},{\"attributes\":{\"source\":{\"id\":\"9def454c-308c-44ee-8a7e-8ccfe88da93f\",\"type\":\"ColumnDataSource\"}},\"id\":\"05abe65e-d649-4149-b1d9-d10ebdaec004\",\"type\":\"CDSView\"},{\"attributes\":{\"dimension\":1,\"plot\":{\"id\":\"3ff0918d-0da0-4726-9518-83c8076fc471\",\"subtype\":\"Figure\",\"type\":\"Plot\"},\"ticker\":{\"id\":\"5abd835f-4bd9-4c77-9dae-7241b545bf3d\",\"type\":\"BasicTicker\"}},\"id\":\"0eff8b4d-7de6-4089-af32-833847e2d159\",\"type\":\"Grid\"},{\"attributes\":{},\"id\":\"73da2743-5298-4ca4-97aa-4f7569791c7f\",\"type\":\"BasicTicker\"},{\"attributes\":{},\"id\":\"e06ac3e3-d7d8-4221-b761-fb9986285257\",\"type\":\"WheelZoomTool\"},{\"attributes\":{},\"id\":\"7f5c15a0-dbff-43dc-81c8-8cf2c29b2448\",\"type\":\"LinearScale\"},{\"attributes\":{},\"id\":\"21924a85-2b3b-410c-901a-82e6a1e037d6\",\"type\":\"BasicTickFormatter\"},{\"attributes\":{\"plot\":{\"id\":\"3ff0918d-0da0-4726-9518-83c8076fc471\",\"subtype\":\"Figure\",\"type\":\"Plot\"},\"ticker\":{\"id\":\"73da2743-5298-4ca4-97aa-4f7569791c7f\",\"type\":\"BasicTicker\"}},\"id\":\"1992cfe0-e46c-4cf7-af6f-0ee01595a047\",\"type\":\"Grid\"},{\"attributes\":{},\"id\":\"5abd835f-4bd9-4c77-9dae-7241b545bf3d\",\"type\":\"BasicTicker\"},{\"attributes\":{},\"id\":\"9486cac0-11cb-4c0b-9b32-b13276390891\",\"type\":\"LinearScale\"}],\"root_ids\":[\"3ff0918d-0da0-4726-9518-83c8076fc471\"]},\"title\":\"Bokeh Application\",\"version\":\"0.13.0\"}};\n",
       "  var render_items = [{\"docid\":\"dd34f2a5-2131-4bb4-b046-00a5cead67f8\",\"roots\":{\"3ff0918d-0da0-4726-9518-83c8076fc471\":\"52e38526-3a74-4798-9388-8521498eafb5\"}}];\n",
       "  root.Bokeh.embed.embed_items_notebook(docs_json, render_items);\n",
       "\n",
       "  }\n",
       "  if (root.Bokeh !== undefined) {\n",
       "    embed_document(root);\n",
       "  } else {\n",
       "    var attempts = 0;\n",
       "    var timer = setInterval(function(root) {\n",
       "      if (root.Bokeh !== undefined) {\n",
       "        embed_document(root);\n",
       "        clearInterval(timer);\n",
       "      }\n",
       "      attempts++;\n",
       "      if (attempts > 100) {\n",
       "        console.log(\"Bokeh: ERROR: Unable to run BokehJS code because BokehJS library is missing\")\n",
       "        clearInterval(timer);\n",
       "      }\n",
       "    }, 10, root)\n",
       "  }\n",
       "})(window);"
      ],
      "application/vnd.bokehjs_exec.v0+json": ""
     },
     "metadata": {
      "application/vnd.bokehjs_exec.v0+json": {
       "id": "3ff0918d-0da0-4726-9518-83c8076fc471"
      }
     },
     "output_type": "display_data"
    }
   ],
   "source": [
    "# Create the blank plot\n",
    "p = figure(plot_height = 600, plot_width = 600, \n",
    "           title = 'Histogram of Arrival Delays',\n",
    "          x_axis_label = 'Delay (min)', \n",
    "           y_axis_label = 'Number of Flights')\n",
    "\n",
    "# Add a quad glyph with source this time\n",
    "p.quad(bottom=0, top='flights', left='left', right='right', source=src,\n",
    "       fill_color='red', line_color='black', fill_alpha = 0.75,\n",
    "       hover_fill_alpha = 1.0, hover_fill_color = 'navy')\n",
    "\n",
    "# Add a hover tool referring to the formatted columns\n",
    "hover = HoverTool(tooltips = [('Delay', '@f_interval'),\n",
    "                             ('Num of Flights', '@f_flights')])\n",
    "\n",
    "# Style the plot\n",
    "p = style(p)\n",
    "\n",
    "# Add the hover tool to the graph\n",
    "p.add_tools(hover)\n",
    "\n",
    "# Show the plot\n",
    "show(p)"
   ]
  },
  {
   "cell_type": "code",
   "execution_count": null,
   "metadata": {},
   "outputs": [],
   "source": []
  }
 ],
 "metadata": {
  "kernelspec": {
   "display_name": "Python 3",
   "language": "python",
   "name": "python3"
  },
  "language_info": {
   "codemirror_mode": {
    "name": "ipython",
    "version": 3
   },
   "file_extension": ".py",
   "mimetype": "text/x-python",
   "name": "python",
   "nbconvert_exporter": "python",
   "pygments_lexer": "ipython3",
   "version": "3.5.5"
  }
 },
 "nbformat": 4,
 "nbformat_minor": 2
}

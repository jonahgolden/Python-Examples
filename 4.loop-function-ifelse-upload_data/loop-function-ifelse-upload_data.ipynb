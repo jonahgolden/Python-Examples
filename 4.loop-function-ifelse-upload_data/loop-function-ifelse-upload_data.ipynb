{
 "cells": [
  {
   "cell_type": "code",
   "execution_count": 111,
   "metadata": {
    "collapsed": true
   },
   "outputs": [],
   "source": [
    "import numpy"
   ]
  },
  {
   "cell_type": "code",
   "execution_count": 52,
   "metadata": {},
   "outputs": [],
   "source": [
    "# Making a new string called 'word'\n",
    "word = 'Newton'"
   ]
  },
  {
   "cell_type": "code",
   "execution_count": 54,
   "metadata": {},
   "outputs": [
    {
     "name": "stdout",
     "output_type": "stream",
     "text": [
      "notweN\n"
     ]
    }
   ],
   "source": [
    "# A loop that takes the string 'word' and produces a string called 'word_reversed' that is word backwards.\n",
    "word_reversed = ''   #Creates word_reversed as a blank string\n",
    "for a in word[::-1]:    #Grabs each letter in word starting at the end \n",
    "    word_reversed = word_reversed + a   #Adds each letter to word_reversed\n",
    "print(word_reversed)"
   ]
  },
  {
   "cell_type": "code",
   "execution_count": 56,
   "metadata": {},
   "outputs": [],
   "source": [
    "# Making a new list called 'nums'\n",
    "nums = [2,4,6,8,10]"
   ]
  },
  {
   "cell_type": "code",
   "execution_count": 71,
   "metadata": {},
   "outputs": [],
   "source": [
    "# A function that takes a list and calculates and returns the standard error\n",
    "def ste_list(list):\n",
    "    total = 0  # Set objects total and devs equal to zero\n",
    "    devs = 0\n",
    "    for a in list:  # Calculate the total of the list of numbers\n",
    "        total = total+a\n",
    "    mean = total/len(list)  # Using the total, calculate the mean\n",
    "    for a in list:\n",
    "        devs = devs + (a-mean)**2  # Using the mean, calculate the total of the deviations from the mean\n",
    "    std = (devs/(len(list)-1))**0.5   # Calculate the standard deviation\n",
    "    ste = std/(len(list)**0.5)   # Calculate the standard error\n",
    "    print('Standard Error =',ste)"
   ]
  },
  {
   "cell_type": "code",
   "execution_count": 99,
   "metadata": {},
   "outputs": [
    {
     "name": "stdout",
     "output_type": "stream",
     "text": [
      "standard error = 1.4142135623730951\n"
     ]
    }
   ],
   "source": [
    "ste_list(nums)  # Testing ste_list on our list called nums"
   ]
  },
  {
   "cell_type": "code",
   "execution_count": 74,
   "metadata": {},
   "outputs": [
    {
     "ename": "TypeError",
     "evalue": "unsupported operand type(s) for +: 'int' and 'str'",
     "output_type": "error",
     "traceback": [
      "\u001b[0;31m---------------------------------------------------------------------------\u001b[0m",
      "\u001b[0;31mTypeError\u001b[0m                                 Traceback (most recent call last)",
      "\u001b[0;32m<ipython-input-74-721fd62d83fc>\u001b[0m in \u001b[0;36m<module>\u001b[0;34m()\u001b[0m\n\u001b[1;32m      1\u001b[0m \u001b[0;31m# If someone tries to run ste_list using a list or array of strings\u001b[0m\u001b[0;34m\u001b[0m\u001b[0;34m\u001b[0m\u001b[0m\n\u001b[0;32m----> 2\u001b[0;31m \u001b[0mste_list\u001b[0m\u001b[0;34m(\u001b[0m\u001b[0mword\u001b[0m\u001b[0;34m)\u001b[0m\u001b[0;34m\u001b[0m\u001b[0m\n\u001b[0m",
      "\u001b[0;32m<ipython-input-71-782fd902c9c7>\u001b[0m in \u001b[0;36mste_list\u001b[0;34m(list)\u001b[0m\n\u001b[1;32m      4\u001b[0m     \u001b[0mdevs\u001b[0m \u001b[0;34m=\u001b[0m \u001b[0;36m0\u001b[0m\u001b[0;34m\u001b[0m\u001b[0m\n\u001b[1;32m      5\u001b[0m     \u001b[0;32mfor\u001b[0m \u001b[0ma\u001b[0m \u001b[0;32min\u001b[0m \u001b[0mlist\u001b[0m\u001b[0;34m:\u001b[0m\u001b[0;34m\u001b[0m\u001b[0m\n\u001b[0;32m----> 6\u001b[0;31m         \u001b[0mtotal\u001b[0m \u001b[0;34m=\u001b[0m \u001b[0mtotal\u001b[0m\u001b[0;34m+\u001b[0m\u001b[0ma\u001b[0m\u001b[0;34m\u001b[0m\u001b[0m\n\u001b[0m\u001b[1;32m      7\u001b[0m     \u001b[0mmean\u001b[0m \u001b[0;34m=\u001b[0m \u001b[0mtotal\u001b[0m\u001b[0;34m/\u001b[0m\u001b[0mlen\u001b[0m\u001b[0;34m(\u001b[0m\u001b[0mlist\u001b[0m\u001b[0;34m)\u001b[0m\u001b[0;34m\u001b[0m\u001b[0m\n\u001b[1;32m      8\u001b[0m     \u001b[0;32mfor\u001b[0m \u001b[0ma\u001b[0m \u001b[0;32min\u001b[0m \u001b[0mlist\u001b[0m\u001b[0;34m:\u001b[0m\u001b[0;34m\u001b[0m\u001b[0m\n",
      "\u001b[0;31mTypeError\u001b[0m: unsupported operand type(s) for +: 'int' and 'str'"
     ]
    }
   ],
   "source": [
    "# Let's see what happens if we run ste_list on our string called word\n",
    "ste_list(word)"
   ]
  },
  {
   "cell_type": "code",
   "execution_count": 75,
   "metadata": {
    "collapsed": true
   },
   "outputs": [],
   "source": [
    "# It returned the following error: TypeError: unsupported operand type(s) for +: 'int' and 'str'"
   ]
  },
  {
   "cell_type": "code",
   "execution_count": 134,
   "metadata": {},
   "outputs": [],
   "source": [
    "# Make new function ste_list2 that is the same as ste_list, except it can differentiate lists and strings\n",
    "def ste_list2(text):\n",
    "    if text[0] > 1:  # Telling ste_list2 to calculate standard error if first list is >1 \n",
    "        total = 0  \n",
    "        devs = 0\n",
    "        for a in text:  \n",
    "            total = total+a\n",
    "        mean = total/len(text)  \n",
    "        for a in text:\n",
    "            devs = devs + (a-mean)**2  \n",
    "        std = (devs/(len(text)-1))**0.5   \n",
    "        ste = std/(len(text)**0.5)   \n",
    "        print('Standard Error =',ste)\n",
    "    if text[0] < 2:  # Telling ste_list2 to calculate standard error if first character is <2, accounting for all numbers \n",
    "        total = 0  \n",
    "        devs = 0\n",
    "        for a in text:  \n",
    "            total = total+a\n",
    "        mean = total/len(text)  \n",
    "        for a in text:\n",
    "            devs = devs + (a-mean)**2  \n",
    "        std = (devs/(len(text)-1))**0.5   \n",
    "        ste = std/(len(text)**0.5)  \n",
    "        print('Standard Error =',ste)\n",
    "    else:\n",
    "        print('Input was a string, I cannot calculate the standard error of a string.')  # Telling ste_list2 to return an error message if first character isn't a number"
   ]
  },
  {
   "cell_type": "code",
   "execution_count": 114,
   "metadata": {},
   "outputs": [],
   "source": [
    "# Upload data\n",
    "data = numpy.loadtxt(fname='inflammation-01.csv',delimiter=',')"
   ]
  },
  {
   "cell_type": "code",
   "execution_count": 133,
   "metadata": {},
   "outputs": [
    {
     "name": "stdout",
     "output_type": "stream",
     "text": [
      "standard error = 0.624243131464\n"
     ]
    }
   ],
   "source": [
    "Cal\n",
    "ste_list(data[0,])"
   ]
  },
  {
   "cell_type": "code",
   "execution_count": null,
   "metadata": {
    "collapsed": true
   },
   "outputs": [],
   "source": []
  }
 ],
 "metadata": {
  "kernelspec": {
   "display_name": "Python 3",
   "language": "python",
   "name": "python3"
  },
  "language_info": {
   "codemirror_mode": {
    "name": "ipython",
    "version": 3
   },
   "file_extension": ".py",
   "mimetype": "text/x-python",
   "name": "python",
   "nbconvert_exporter": "python",
   "pygments_lexer": "ipython3",
   "version": "3.5.5"
  }
 },
 "nbformat": 4,
 "nbformat_minor": 1
}

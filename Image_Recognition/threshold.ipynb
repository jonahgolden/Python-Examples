{
 "cells": [
  {
   "cell_type": "code",
   "execution_count": 1,
   "metadata": {},
   "outputs": [],
   "source": [
    "import numpy as np\n",
    "import matplotlib as mpl\n",
    "from PIL import Image\n",
    "\n",
    "\n",
    "import matplotlib.pyplot as plt\n",
    "import matplotlib.image as mpimg\n"
   ]
  },
  {
   "cell_type": "code",
   "execution_count": null,
   "metadata": {},
   "outputs": [],
   "source": [
    "def load(photo):\n",
    "    i = Image.open('photo')\n",
    "    iar = np.array(i)"
   ]
  },
  {
   "cell_type": "code",
   "execution_count": null,
   "metadata": {},
   "outputs": [],
   "source": [
    "# Making a function that will take image and threshold it\n",
    "def threshold (imageArray):\n",
    "    balanceAr = []\n",
    "    newAr = imageArray\n",
    "    for eachRow in imageArray:\n",
    "        for eachPix in eachRow:\n",
    "            avgNum = mean(eachPix[:3])\n",
    "            balanceAr.append(avgNum)\n",
    "            \n",
    "            balance = mean(balanceAr)\n",
    "    for eachRow in newAr:\n",
    "        for eachPix in eachRow:\n",
    "            if mean(eachPix[:3]) > balance:\n",
    "                eachPix[0] = 255\n",
    "                eachPix[1] = 255\n",
    "                eachPix[2] = 255\n",
    "                eachPix[3] = 255\n",
    "            else:\n",
    "                eachPix[0] = 0\n",
    "                eachPix[1] = 0\n",
    "                eachPix[2] = 0\n",
    "                eachPix[3] = 255\n",
    "    return newAr"
   ]
  }
 ],
 "metadata": {
  "kernelspec": {
   "display_name": "Python 3",
   "language": "python",
   "name": "python3"
  },
  "language_info": {
   "codemirror_mode": {
    "name": "ipython",
    "version": 3
   },
   "file_extension": ".py",
   "mimetype": "text/x-python",
   "name": "python",
   "nbconvert_exporter": "python",
   "pygments_lexer": "ipython3",
   "version": "3.5.5"
  }
 },
 "nbformat": 4,
 "nbformat_minor": 2
}
